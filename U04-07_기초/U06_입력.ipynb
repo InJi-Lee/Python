{
  "nbformat": 4,
  "nbformat_minor": 0,
  "metadata": {
    "colab": {
      "name": "U06_입력.ipynb",
      "provenance": [],
      "collapsed_sections": []
    },
    "kernelspec": {
      "name": "python3",
      "display_name": "Python 3"
    },
    "language_info": {
      "name": "python"
    }
  },
  "cells": [
    {
      "cell_type": "markdown",
      "metadata": {
        "id": "fzYq4FQGLpMC"
      },
      "source": [
        "# Unit 6. 변수와 입력"
      ]
    },
    {
      "cell_type": "markdown",
      "metadata": {
        "id": "cCv0DrNxLuNC"
      },
      "source": [
        "## 6.1 변수\n",
        "- 영문 문자와 숫자를 사용할 수 있습니다.\n",
        "- 대소문자를 구분합니다.\n",
        "- 문자부터 시작해야 하며 숫자부터 시작하면 안 됩니다.\n",
        "_(밑줄 문자)로 시작할 수 있습니다.\n",
        "- 특수 문자(+, -, *, /, $, @, &, % 등)는 사용할 수 없습니다.\n",
        "- 파이썬의 키워드(if, for, while, and, or 등)는 사용할 수 없습니다."
      ]
    },
    {
      "cell_type": "code",
      "metadata": {
        "colab": {
          "base_uri": "https://localhost:8080/"
        },
        "id": "Um77q5EMLnsZ",
        "outputId": "079c59e4-7311-43d0-daf3-68dd2f2794a9"
      },
      "source": [
        "x = 10 \n",
        "x"
      ],
      "execution_count": 1,
      "outputs": [
        {
          "output_type": "execute_result",
          "data": {
            "text/plain": [
              "10"
            ]
          },
          "metadata": {
            "tags": []
          },
          "execution_count": 1
        }
      ]
    },
    {
      "cell_type": "code",
      "metadata": {
        "colab": {
          "base_uri": "https://localhost:8080/",
          "height": 35
        },
        "id": "uRCya1R5NKZh",
        "outputId": "15064ba0-2f7c-42c0-f0bc-0a9436810d49"
      },
      "source": [
        "s = 'Hello, world!'\n",
        "s"
      ],
      "execution_count": 3,
      "outputs": [
        {
          "output_type": "execute_result",
          "data": {
            "application/vnd.google.colaboratory.intrinsic+json": {
              "type": "string"
            },
            "text/plain": [
              "'Hello, world!'"
            ]
          },
          "metadata": {
            "tags": []
          },
          "execution_count": 3
        }
      ]
    },
    {
      "cell_type": "code",
      "metadata": {
        "colab": {
          "base_uri": "https://localhost:8080/"
        },
        "id": "7ZksqrgTNQN3",
        "outputId": "54999882-0374-4ecf-ed2d-61e50df05c16"
      },
      "source": [
        "type(x), type(s)"
      ],
      "execution_count": 4,
      "outputs": [
        {
          "output_type": "execute_result",
          "data": {
            "text/plain": [
              "(int, str)"
            ]
          },
          "metadata": {
            "tags": []
          },
          "execution_count": 4
        }
      ]
    },
    {
      "cell_type": "code",
      "metadata": {
        "colab": {
          "base_uri": "https://localhost:8080/"
        },
        "id": "80oaE4qpNbLr",
        "outputId": "a281d263-4f29-4f8d-c814-7074a87ebfc9"
      },
      "source": [
        "x, y, z = 10, 20, 30\n",
        "x, y, z"
      ],
      "execution_count": 5,
      "outputs": [
        {
          "output_type": "execute_result",
          "data": {
            "text/plain": [
              "(10, 20, 30)"
            ]
          },
          "metadata": {
            "tags": []
          },
          "execution_count": 5
        }
      ]
    },
    {
      "cell_type": "code",
      "metadata": {
        "colab": {
          "base_uri": "https://localhost:8080/"
        },
        "id": "8oNP7RbkNoL8",
        "outputId": "f3ac8bbf-1b72-41b7-d060-c39440dbfcf4"
      },
      "source": [
        "x = y = z = 10\n",
        "x, y, z"
      ],
      "execution_count": 6,
      "outputs": [
        {
          "output_type": "execute_result",
          "data": {
            "text/plain": [
              "(10, 10, 10)"
            ]
          },
          "metadata": {
            "tags": []
          },
          "execution_count": 6
        }
      ]
    },
    {
      "cell_type": "code",
      "metadata": {
        "colab": {
          "base_uri": "https://localhost:8080/",
          "height": 190
        },
        "id": "re41jfXLNtyw",
        "outputId": "8355340a-8b8b-4e3a-8824-757202dc3925"
      },
      "source": [
        "del z\n",
        "print(z)"
      ],
      "execution_count": 7,
      "outputs": [
        {
          "output_type": "error",
          "ename": "NameError",
          "evalue": "ignored",
          "traceback": [
            "\u001b[0;31m---------------------------------------------------------------------------\u001b[0m",
            "\u001b[0;31mNameError\u001b[0m                                 Traceback (most recent call last)",
            "\u001b[0;32m<ipython-input-7-8f47a1d0824e>\u001b[0m in \u001b[0;36m<module>\u001b[0;34m()\u001b[0m\n\u001b[1;32m      1\u001b[0m \u001b[0;32mdel\u001b[0m \u001b[0mz\u001b[0m\u001b[0;34m\u001b[0m\u001b[0;34m\u001b[0m\u001b[0m\n\u001b[0;32m----> 2\u001b[0;31m \u001b[0mprint\u001b[0m\u001b[0;34m(\u001b[0m\u001b[0mz\u001b[0m\u001b[0;34m)\u001b[0m\u001b[0;34m\u001b[0m\u001b[0;34m\u001b[0m\u001b[0m\n\u001b[0m",
            "\u001b[0;31mNameError\u001b[0m: name 'z' is not defined"
          ]
        }
      ]
    },
    {
      "cell_type": "code",
      "metadata": {
        "colab": {
          "base_uri": "https://localhost:8080/"
        },
        "id": "y2k8IUmwN3Tf",
        "outputId": "9c05dc17-2144-4c28-89ad-1d3f21f9ff64"
      },
      "source": [
        "# Null\n",
        "x = None\n",
        "print(x)"
      ],
      "execution_count": 8,
      "outputs": [
        {
          "output_type": "stream",
          "text": [
            "None\n"
          ],
          "name": "stdout"
        }
      ]
    },
    {
      "cell_type": "code",
      "metadata": {
        "id": "VcI1O6NbONWK"
      },
      "source": [
        "x"
      ],
      "execution_count": 9,
      "outputs": []
    },
    {
      "cell_type": "markdown",
      "metadata": {
        "id": "D8eZ3XsrOeWd"
      },
      "source": [
        "## 6.2 변수로 계산"
      ]
    },
    {
      "cell_type": "code",
      "metadata": {
        "colab": {
          "base_uri": "https://localhost:8080/"
        },
        "id": "94jhkdH_OPRZ",
        "outputId": "14b1be47-5ff4-4120-ff97-d34edc0bf8b8"
      },
      "source": [
        "a = 10\n",
        "a = a + 10\n",
        "a"
      ],
      "execution_count": 10,
      "outputs": [
        {
          "output_type": "execute_result",
          "data": {
            "text/plain": [
              "20"
            ]
          },
          "metadata": {
            "tags": []
          },
          "execution_count": 10
        }
      ]
    },
    {
      "cell_type": "code",
      "metadata": {
        "colab": {
          "base_uri": "https://localhost:8080/"
        },
        "id": "vud3P0szOybq",
        "outputId": "209044a2-552b-4661-acb6-05f4d7eaa72e"
      },
      "source": [
        "a = 10  \n",
        "a += 10   # a = a + 10\n",
        "a"
      ],
      "execution_count": 11,
      "outputs": [
        {
          "output_type": "execute_result",
          "data": {
            "text/plain": [
              "20"
            ]
          },
          "metadata": {
            "tags": []
          },
          "execution_count": 11
        }
      ]
    },
    {
      "cell_type": "code",
      "metadata": {
        "colab": {
          "base_uri": "https://localhost:8080/"
        },
        "id": "9czKgYhcPCXT",
        "outputId": "0e827995-bed9-4a08-93ef-b592f1f56dc4"
      },
      "source": [
        "sum, prod = 0, 1\n",
        "for i in range(1,11):\n",
        "    sum += i\n",
        "    prod *= i\n",
        "sum, prod"
      ],
      "execution_count": 12,
      "outputs": [
        {
          "output_type": "execute_result",
          "data": {
            "text/plain": [
              "(55, 3628800)"
            ]
          },
          "metadata": {
            "tags": []
          },
          "execution_count": 12
        }
      ]
    },
    {
      "cell_type": "code",
      "metadata": {
        "colab": {
          "base_uri": "https://localhost:8080/",
          "height": 172
        },
        "id": "5ABawqyfPeVo",
        "outputId": "8e9eabde-e24c-49f7-ee39-bc076f993ed0"
      },
      "source": [
        "d = d + 10 #error/ 변수값이 할당이 안 됨"
      ],
      "execution_count": 13,
      "outputs": [
        {
          "output_type": "error",
          "ename": "NameError",
          "evalue": "ignored",
          "traceback": [
            "\u001b[0;31m---------------------------------------------------------------------------\u001b[0m",
            "\u001b[0;31mNameError\u001b[0m                                 Traceback (most recent call last)",
            "\u001b[0;32m<ipython-input-13-71d5f14a311e>\u001b[0m in \u001b[0;36m<module>\u001b[0;34m()\u001b[0m\n\u001b[0;32m----> 1\u001b[0;31m \u001b[0md\u001b[0m \u001b[0;34m=\u001b[0m \u001b[0md\u001b[0m \u001b[0;34m+\u001b[0m \u001b[0;36m10\u001b[0m \u001b[0;31m#error/ 변수값이 할당이 안 됨\u001b[0m\u001b[0;34m\u001b[0m\u001b[0;34m\u001b[0m\u001b[0m\n\u001b[0m",
            "\u001b[0;31mNameError\u001b[0m: name 'd' is not defined"
          ]
        }
      ]
    },
    {
      "cell_type": "code",
      "metadata": {
        "colab": {
          "base_uri": "https://localhost:8080/"
        },
        "id": "hW0XVtzoQAZN",
        "outputId": "482dd9f8-7ea9-4ffe-9c0f-796198b9de64"
      },
      "source": [
        "-prod"
      ],
      "execution_count": 14,
      "outputs": [
        {
          "output_type": "execute_result",
          "data": {
            "text/plain": [
              "-3628800"
            ]
          },
          "metadata": {
            "tags": []
          },
          "execution_count": 14
        }
      ]
    },
    {
      "cell_type": "markdown",
      "metadata": {
        "id": "aNhYe0EYQJrT"
      },
      "source": [
        "## 6.3 입력(input)"
      ]
    },
    {
      "cell_type": "code",
      "metadata": {
        "colab": {
          "base_uri": "https://localhost:8080/"
        },
        "id": "-_AJ_gzuQEM-",
        "outputId": "95d1251c-6fa1-4920-d2f1-a8b71d1d8429"
      },
      "source": [
        "x = input()"
      ],
      "execution_count": 16,
      "outputs": [
        {
          "output_type": "stream",
          "text": [
            "Hello, world!\n"
          ],
          "name": "stdout"
        }
      ]
    },
    {
      "cell_type": "code",
      "metadata": {
        "colab": {
          "base_uri": "https://localhost:8080/",
          "height": 35
        },
        "id": "twfbrnsDQWRT",
        "outputId": "d15b4c7a-fc19-426c-8c19-fcfe93bd1141"
      },
      "source": [
        "x"
      ],
      "execution_count": 17,
      "outputs": [
        {
          "output_type": "execute_result",
          "data": {
            "application/vnd.google.colaboratory.intrinsic+json": {
              "type": "string"
            },
            "text/plain": [
              "'Hello, world!'"
            ]
          },
          "metadata": {
            "tags": []
          },
          "execution_count": 17
        }
      ]
    },
    {
      "cell_type": "code",
      "metadata": {
        "colab": {
          "base_uri": "https://localhost:8080/"
        },
        "id": "2KCgIttlQlKN",
        "outputId": "1a8d3843-6dc0-4bb0-9327-be73a38164d2"
      },
      "source": [
        "x = input('1에서 10사이의 정수값> ')   #prompt"
      ],
      "execution_count": 20,
      "outputs": [
        {
          "output_type": "stream",
          "text": [
            "1에서 10사이의 정수값> 7\n"
          ],
          "name": "stdout"
        }
      ]
    },
    {
      "cell_type": "code",
      "metadata": {
        "colab": {
          "base_uri": "https://localhost:8080/",
          "height": 71
        },
        "id": "kxDNlEnAQtkb",
        "outputId": "2ef666c2-460e-453c-843b-4d05fd4d5879"
      },
      "source": [
        "# 입력한 두 정수의 합\n",
        "a = input('첫번째 정수> ')    # input = 문자열\n",
        "b = input('두번째 정수> ')\n",
        "a + b"
      ],
      "execution_count": 22,
      "outputs": [
        {
          "output_type": "stream",
          "text": [
            "첫번째 정수> 101\n",
            "두번째 정수> 303\n"
          ],
          "name": "stdout"
        },
        {
          "output_type": "execute_result",
          "data": {
            "application/vnd.google.colaboratory.intrinsic+json": {
              "type": "string"
            },
            "text/plain": [
              "'101303'"
            ]
          },
          "metadata": {
            "tags": []
          },
          "execution_count": 22
        }
      ]
    },
    {
      "cell_type": "code",
      "metadata": {
        "colab": {
          "base_uri": "https://localhost:8080/"
        },
        "id": "0YUO1gSTRTFq",
        "outputId": "7ec39a1d-80ff-42d9-9c4f-5ba9fd3aabf0"
      },
      "source": [
        "type(a)"
      ],
      "execution_count": 23,
      "outputs": [
        {
          "output_type": "execute_result",
          "data": {
            "text/plain": [
              "str"
            ]
          },
          "metadata": {
            "tags": []
          },
          "execution_count": 23
        }
      ]
    },
    {
      "cell_type": "code",
      "metadata": {
        "colab": {
          "base_uri": "https://localhost:8080/"
        },
        "id": "Z8YOL2giRl6j",
        "outputId": "abefa423-9bac-4606-8597-330255fbef6c"
      },
      "source": [
        "a = input('첫번째 정수> ')\n",
        "b = input('두번째 정수> ')\n",
        "int(a) + int(b)"
      ],
      "execution_count": 24,
      "outputs": [
        {
          "output_type": "stream",
          "text": [
            "첫번째 정수> 101\n",
            "두번째 정수> 303\n"
          ],
          "name": "stdout"
        },
        {
          "output_type": "execute_result",
          "data": {
            "text/plain": [
              "404"
            ]
          },
          "metadata": {
            "tags": []
          },
          "execution_count": 24
        }
      ]
    },
    {
      "cell_type": "code",
      "metadata": {
        "colab": {
          "base_uri": "https://localhost:8080/"
        },
        "id": "CYiHUuF4Rw45",
        "outputId": "f7dee5dd-c411-4acd-b769-2720571cd96e"
      },
      "source": [
        "a = int(input('첫번째 정수> '))  \n",
        "b = int(input('두번째 정수> '))\n",
        "a + b"
      ],
      "execution_count": 25,
      "outputs": [
        {
          "output_type": "stream",
          "text": [
            "첫번째 정수> 101\n",
            "두번째 정수> 303\n"
          ],
          "name": "stdout"
        },
        {
          "output_type": "execute_result",
          "data": {
            "text/plain": [
              "404"
            ]
          },
          "metadata": {
            "tags": []
          },
          "execution_count": 25
        }
      ]
    },
    {
      "cell_type": "markdown",
      "metadata": {
        "id": "168ydQC9SMyN"
      },
      "source": [
        "## 6.4 입력값 두개"
      ]
    },
    {
      "cell_type": "code",
      "metadata": {
        "colab": {
          "base_uri": "https://localhost:8080/"
        },
        "id": "bh-FkJZVR5P8",
        "outputId": "4db7f0bb-6f47-4363-b693-f9b2430d72bb"
      },
      "source": [
        "s.split()"
      ],
      "execution_count": 27,
      "outputs": [
        {
          "output_type": "execute_result",
          "data": {
            "text/plain": [
              "['Hello,', 'world!']"
            ]
          },
          "metadata": {
            "tags": []
          },
          "execution_count": 27
        }
      ]
    },
    {
      "cell_type": "code",
      "metadata": {
        "colab": {
          "base_uri": "https://localhost:8080/"
        },
        "id": "lzMD955vSXX-",
        "outputId": "40498f41-d881-4ef9-b61f-a1413eb61d7c"
      },
      "source": [
        "a, b = s.split()\n",
        "a, b"
      ],
      "execution_count": 28,
      "outputs": [
        {
          "output_type": "execute_result",
          "data": {
            "text/plain": [
              "('Hello,', 'world!')"
            ]
          },
          "metadata": {
            "tags": []
          },
          "execution_count": 28
        }
      ]
    },
    {
      "cell_type": "code",
      "metadata": {
        "colab": {
          "base_uri": "https://localhost:8080/"
        },
        "id": "iPPloP22SsBz",
        "outputId": "c8c4d71e-32fa-4702-e890-ef7a030b67d5"
      },
      "source": [
        "a, b, c = 'A quick brown'.split()\n",
        "a, b, c"
      ],
      "execution_count": 29,
      "outputs": [
        {
          "output_type": "execute_result",
          "data": {
            "text/plain": [
              "('A', 'quick', 'brown')"
            ]
          },
          "metadata": {
            "tags": []
          },
          "execution_count": 29
        }
      ]
    },
    {
      "cell_type": "code",
      "metadata": {
        "colab": {
          "base_uri": "https://localhost:8080/"
        },
        "id": "rHXgb7bkS_cc",
        "outputId": "0be42980-fe2a-490a-9fe9-0687c25d7d9b"
      },
      "source": [
        "a, b = input('정수 두개 입력> ').split()"
      ],
      "execution_count": 30,
      "outputs": [
        {
          "output_type": "stream",
          "text": [
            "정수 두개 입력> 10 20\n"
          ],
          "name": "stdout"
        }
      ]
    },
    {
      "cell_type": "code",
      "metadata": {
        "colab": {
          "base_uri": "https://localhost:8080/"
        },
        "id": "Bmpn-_WbVzIT",
        "outputId": "b9607ae3-ab51-4014-d10d-7b5e697cb1a7"
      },
      "source": [
        "a = int(a)\n",
        "b = int(b)\n",
        "a + b"
      ],
      "execution_count": 31,
      "outputs": [
        {
          "output_type": "execute_result",
          "data": {
            "text/plain": [
              "30"
            ]
          },
          "metadata": {
            "tags": []
          },
          "execution_count": 31
        }
      ]
    },
    {
      "cell_type": "code",
      "metadata": {
        "colab": {
          "base_uri": "https://localhost:8080/"
        },
        "id": "IGF5qL0BV7tv",
        "outputId": "32fa9002-d182-442d-c607-4af4e93726e0"
      },
      "source": [
        "a, b = input('정수 두개 입력, comma로 구분하세요. ').split(',')"
      ],
      "execution_count": 32,
      "outputs": [
        {
          "output_type": "stream",
          "text": [
            "정수 두개 입력, comma로 구분하세요. 10,20\n"
          ],
          "name": "stdout"
        }
      ]
    },
    {
      "cell_type": "code",
      "metadata": {
        "colab": {
          "base_uri": "https://localhost:8080/"
        },
        "id": "arn-KMlmWKWL",
        "outputId": "fc64235b-e559-4d7b-90f6-64a87cbc78ed"
      },
      "source": [
        "a = int(a)\n",
        "b = int(b)\n",
        "a + b"
      ],
      "execution_count": 33,
      "outputs": [
        {
          "output_type": "execute_result",
          "data": {
            "text/plain": [
              "30"
            ]
          },
          "metadata": {
            "tags": []
          },
          "execution_count": 33
        }
      ]
    },
    {
      "cell_type": "markdown",
      "metadata": {
        "id": "h0aNhEIyWbIf"
      },
      "source": [
        "### map\n",
        "- 리스트 각 엘리먼트에 지정한 함수를 적용"
      ]
    },
    {
      "cell_type": "code",
      "metadata": {
        "colab": {
          "base_uri": "https://localhost:8080/"
        },
        "id": "3gr8nxkaWPzU",
        "outputId": "03112465-b2f1-4503-f17a-756835bb3ac3"
      },
      "source": [
        "map(int, [10.2, 11.4])\n",
        "a, b"
      ],
      "execution_count": 35,
      "outputs": [
        {
          "output_type": "execute_result",
          "data": {
            "text/plain": [
              "(10, 20)"
            ]
          },
          "metadata": {
            "tags": []
          },
          "execution_count": 35
        }
      ]
    },
    {
      "cell_type": "code",
      "metadata": {
        "colab": {
          "base_uri": "https://localhost:8080/"
        },
        "id": "RYalraw9XAtt",
        "outputId": "7f84efb6-75f8-4410-bb74-b8f9165e91b1"
      },
      "source": [
        "a,b = map(int, input('정수 두개 입력> ').split())\n",
        "a + b"
      ],
      "execution_count": 36,
      "outputs": [
        {
          "output_type": "stream",
          "text": [
            "정수 두개 입력> 10 20\n"
          ],
          "name": "stdout"
        },
        {
          "output_type": "execute_result",
          "data": {
            "text/plain": [
              "30"
            ]
          },
          "metadata": {
            "tags": []
          },
          "execution_count": 36
        }
      ]
    },
    {
      "cell_type": "code",
      "metadata": {
        "colab": {
          "base_uri": "https://localhost:8080/"
        },
        "id": "-kqR1h6LXWwC",
        "outputId": "e04fc8b6-ee15-41ef-a60a-05d477405dda"
      },
      "source": [
        "import math\n",
        "a, b = map(math.sqrt, [1, 4])\n",
        "a, b"
      ],
      "execution_count": 37,
      "outputs": [
        {
          "output_type": "execute_result",
          "data": {
            "text/plain": [
              "(1.0, 2.0)"
            ]
          },
          "metadata": {
            "tags": []
          },
          "execution_count": 37
        }
      ]
    },
    {
      "cell_type": "code",
      "metadata": {
        "id": "BkWJncigX3TP"
      },
      "source": [
        ""
      ],
      "execution_count": null,
      "outputs": []
    }
  ]
}