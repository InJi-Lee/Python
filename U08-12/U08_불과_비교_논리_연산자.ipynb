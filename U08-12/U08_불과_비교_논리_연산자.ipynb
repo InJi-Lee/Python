{
  "nbformat": 4,
  "nbformat_minor": 0,
  "metadata": {
    "colab": {
      "name": "U08_불과 비교/논리 연산자.ipynb",
      "provenance": [],
      "collapsed_sections": []
    },
    "kernelspec": {
      "name": "python3",
      "display_name": "Python 3"
    },
    "language_info": {
      "name": "python"
    }
  },
  "cells": [
    {
      "cell_type": "markdown",
      "metadata": {
        "id": "TdX2_U0zejPj"
      },
      "source": [
        "# Unit 8. 불과 비교/논리 연산자"
      ]
    },
    {
      "cell_type": "markdown",
      "metadata": {
        "id": "PML8v7rlepJr"
      },
      "source": [
        "## 8.1 불(Bool)과 비교연산자\n",
        "- 불(Bool) = 참/거짓"
      ]
    },
    {
      "cell_type": "code",
      "metadata": {
        "colab": {
          "base_uri": "https://localhost:8080/"
        },
        "id": "b5KIO88PeaYG",
        "outputId": "a9638755-ad4c-4c88-8765-ddb17f95c0ab"
      },
      "source": [
        "True, False"
      ],
      "execution_count": 1,
      "outputs": [
        {
          "output_type": "execute_result",
          "data": {
            "text/plain": [
              "(True, False)"
            ]
          },
          "metadata": {
            "tags": []
          },
          "execution_count": 1
        }
      ]
    },
    {
      "cell_type": "code",
      "metadata": {
        "colab": {
          "base_uri": "https://localhost:8080/"
        },
        "id": "Ztuu4Af6fEtq",
        "outputId": "b07170ce-1caf-48f1-a590-f935ab97d1cb"
      },
      "source": [
        "# >, >=, <, <=, ==, !=\n",
        "10 >= 5"
      ],
      "execution_count": 2,
      "outputs": [
        {
          "output_type": "execute_result",
          "data": {
            "text/plain": [
              "True"
            ]
          },
          "metadata": {
            "tags": []
          },
          "execution_count": 2
        }
      ]
    },
    {
      "cell_type": "code",
      "metadata": {
        "colab": {
          "base_uri": "https://localhost:8080/"
        },
        "id": "bTWkHV0bf9BP",
        "outputId": "10f32dc3-b073-4ee5-8607-4a9c2900cde3"
      },
      "source": [
        "a = 10 !=5\n",
        "a"
      ],
      "execution_count": 6,
      "outputs": [
        {
          "output_type": "execute_result",
          "data": {
            "text/plain": [
              "True"
            ]
          },
          "metadata": {
            "tags": []
          },
          "execution_count": 6
        }
      ]
    },
    {
      "cell_type": "code",
      "metadata": {
        "colab": {
          "base_uri": "https://localhost:8080/"
        },
        "id": "b3a6kwK4gOUa",
        "outputId": "9210acab-3313-4de7-8f26-c7f5bf57a9d4"
      },
      "source": [
        "'Python' == 'python'"
      ],
      "execution_count": 7,
      "outputs": [
        {
          "output_type": "execute_result",
          "data": {
            "text/plain": [
              "False"
            ]
          },
          "metadata": {
            "tags": []
          },
          "execution_count": 7
        }
      ]
    },
    {
      "cell_type": "markdown",
      "metadata": {
        "id": "1pvs_PXjglzf"
      },
      "source": [
        "## 8.2 논리연산자\n",
        "- and or not\n",
        "\n"
      ]
    },
    {
      "cell_type": "code",
      "metadata": {
        "colab": {
          "base_uri": "https://localhost:8080/"
        },
        "id": "q1myfFSSgkkx",
        "outputId": "f33c87f6-d084-40cd-e4e4-9d132bf796a8"
      },
      "source": [
        "not True and False or not False"
      ],
      "execution_count": 8,
      "outputs": [
        {
          "output_type": "execute_result",
          "data": {
            "text/plain": [
              "True"
            ]
          },
          "metadata": {
            "tags": []
          },
          "execution_count": 8
        }
      ]
    },
    {
      "cell_type": "code",
      "metadata": {
        "colab": {
          "base_uri": "https://localhost:8080/"
        },
        "id": "qSs-KKeSkI1D",
        "outputId": "5d2dbc4b-b55f-4ef8-89a8-aacfb2f30125"
      },
      "source": [
        "((not True) and False) or (not False)"
      ],
      "execution_count": 9,
      "outputs": [
        {
          "output_type": "execute_result",
          "data": {
            "text/plain": [
              "True"
            ]
          },
          "metadata": {
            "tags": []
          },
          "execution_count": 9
        }
      ]
    },
    {
      "cell_type": "code",
      "metadata": {
        "colab": {
          "base_uri": "https://localhost:8080/"
        },
        "id": "bND9lVy_kSFV",
        "outputId": "c3b5d0cf-6a75-4b2e-cd3c-0f949e6a992a"
      },
      "source": [
        "# x > 10, x < 5\n",
        "x = 6\n",
        "x > 10 or x < 5"
      ],
      "execution_count": 10,
      "outputs": [
        {
          "output_type": "execute_result",
          "data": {
            "text/plain": [
              "False"
            ]
          },
          "metadata": {
            "tags": []
          },
          "execution_count": 10
        }
      ]
    },
    {
      "cell_type": "code",
      "metadata": {
        "colab": {
          "base_uri": "https://localhost:8080/"
        },
        "id": "Hiui0KvHkj4A",
        "outputId": "ba20729b-d78d-44df-fc29-f891d1e2ae61"
      },
      "source": [
        "#5 < x < 10\n",
        "x > 5 and x < 10"
      ],
      "execution_count": 11,
      "outputs": [
        {
          "output_type": "execute_result",
          "data": {
            "text/plain": [
              "True"
            ]
          },
          "metadata": {
            "tags": []
          },
          "execution_count": 11
        }
      ]
    },
    {
      "cell_type": "code",
      "metadata": {
        "colab": {
          "base_uri": "https://localhost:8080/"
        },
        "id": "y9dwlKQBks6z",
        "outputId": "1ca97940-442f-4917-aba5-d9ece752c8de"
      },
      "source": [
        "# 파이썬에서만 쓸 수 있는 표현\n",
        "5 < x < 10"
      ],
      "execution_count": 12,
      "outputs": [
        {
          "output_type": "execute_result",
          "data": {
            "text/plain": [
              "True"
            ]
          },
          "metadata": {
            "tags": []
          },
          "execution_count": 12
        }
      ]
    },
    {
      "cell_type": "markdown",
      "metadata": {
        "id": "1-kFay1ilHkz"
      },
      "source": [
        "### 정수, 실수, 문자열"
      ]
    },
    {
      "cell_type": "code",
      "metadata": {
        "colab": {
          "base_uri": "https://localhost:8080/"
        },
        "id": "HAMZ2ERNk97B",
        "outputId": "20f64705-d65e-4d61-d6d3-15ff4f880aef"
      },
      "source": [
        "bool(0), bool(1), bool(4)"
      ],
      "execution_count": 14,
      "outputs": [
        {
          "output_type": "execute_result",
          "data": {
            "text/plain": [
              "(False, True, True)"
            ]
          },
          "metadata": {
            "tags": []
          },
          "execution_count": 14
        }
      ]
    },
    {
      "cell_type": "code",
      "metadata": {
        "colab": {
          "base_uri": "https://localhost:8080/"
        },
        "id": "ysvyKvwWlQ2q",
        "outputId": "9a26181d-493d-42b7-a326-b64ffa993cdf"
      },
      "source": [
        "bool(0.0), bool(1.), bool(-4.)"
      ],
      "execution_count": 15,
      "outputs": [
        {
          "output_type": "execute_result",
          "data": {
            "text/plain": [
              "(False, True, True)"
            ]
          },
          "metadata": {
            "tags": []
          },
          "execution_count": 15
        }
      ]
    },
    {
      "cell_type": "code",
      "metadata": {
        "colab": {
          "base_uri": "https://localhost:8080/"
        },
        "id": "WVpP-RX_lean",
        "outputId": "014fbeab-6b7a-4212-d96f-2a69ca053622"
      },
      "source": [
        "bool(''), bool('s')"
      ],
      "execution_count": 16,
      "outputs": [
        {
          "output_type": "execute_result",
          "data": {
            "text/plain": [
              "(False, True)"
            ]
          },
          "metadata": {
            "tags": []
          },
          "execution_count": 16
        }
      ]
    },
    {
      "cell_type": "code",
      "metadata": {
        "colab": {
          "base_uri": "https://localhost:8080/"
        },
        "id": "dklxlRhrlmNE",
        "outputId": "bd9b90a4-6fdc-40f0-f840-6bad310261d5"
      },
      "source": [
        "if 4:\n",
        "    print('4 is True')"
      ],
      "execution_count": 18,
      "outputs": [
        {
          "output_type": "stream",
          "text": [
            "4 is True\n"
          ],
          "name": "stdout"
        }
      ]
    },
    {
      "cell_type": "code",
      "metadata": {
        "colab": {
          "base_uri": "https://localhost:8080/"
        },
        "id": "J7k2IZRtltdI",
        "outputId": "9bbac9ad-2530-42a8-8073-6fad63b11b01"
      },
      "source": [
        "int(True), int(False)"
      ],
      "execution_count": 19,
      "outputs": [
        {
          "output_type": "execute_result",
          "data": {
            "text/plain": [
              "(1, 0)"
            ]
          },
          "metadata": {
            "tags": []
          },
          "execution_count": 19
        }
      ]
    },
    {
      "cell_type": "markdown",
      "metadata": {
        "id": "oe5JDQ9fmqIK"
      },
      "source": [
        "### Short-circult evaluation"
      ]
    },
    {
      "cell_type": "code",
      "metadata": {
        "colab": {
          "base_uri": "https://localhost:8080/"
        },
        "id": "0NW-QaHIl-uC",
        "outputId": "34d5c2a2-5851-4b13-a46b-732f49ce8a3c"
      },
      "source": [
        "1 or 'python'"
      ],
      "execution_count": 20,
      "outputs": [
        {
          "output_type": "execute_result",
          "data": {
            "text/plain": [
              "1"
            ]
          },
          "metadata": {
            "tags": []
          },
          "execution_count": 20
        }
      ]
    },
    {
      "cell_type": "code",
      "metadata": {
        "colab": {
          "base_uri": "https://localhost:8080/",
          "height": 35
        },
        "id": "3EeACfF6mQ2i",
        "outputId": "8ff1d09a-aea3-45cf-a7ad-03cc9ecfdfc1"
      },
      "source": [
        "0 or 'python'"
      ],
      "execution_count": 21,
      "outputs": [
        {
          "output_type": "execute_result",
          "data": {
            "application/vnd.google.colaboratory.intrinsic+json": {
              "type": "string"
            },
            "text/plain": [
              "'python'"
            ]
          },
          "metadata": {
            "tags": []
          },
          "execution_count": 21
        }
      ]
    },
    {
      "cell_type": "code",
      "metadata": {
        "colab": {
          "base_uri": "https://localhost:8080/",
          "height": 35
        },
        "id": "k_e1qyasmXa6",
        "outputId": "3e4e2088-0361-43b0-e96a-c4616f7e923d"
      },
      "source": [
        "1 and 'python'"
      ],
      "execution_count": 22,
      "outputs": [
        {
          "output_type": "execute_result",
          "data": {
            "application/vnd.google.colaboratory.intrinsic+json": {
              "type": "string"
            },
            "text/plain": [
              "'python'"
            ]
          },
          "metadata": {
            "tags": []
          },
          "execution_count": 22
        }
      ]
    },
    {
      "cell_type": "code",
      "metadata": {
        "colab": {
          "base_uri": "https://localhost:8080/"
        },
        "id": "HDNBJ1SgmeNd",
        "outputId": "769db61d-803a-414c-a94d-ba1e3570a89c"
      },
      "source": [
        "0 and 'python'"
      ],
      "execution_count": 23,
      "outputs": [
        {
          "output_type": "execute_result",
          "data": {
            "text/plain": [
              "0"
            ]
          },
          "metadata": {
            "tags": []
          },
          "execution_count": 23
        }
      ]
    },
    {
      "cell_type": "code",
      "metadata": {
        "id": "S3HBbCHrmiXH"
      },
      "source": [
        ""
      ],
      "execution_count": null,
      "outputs": []
    }
  ]
}