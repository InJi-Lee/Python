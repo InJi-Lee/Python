{
  "nbformat": 4,
  "nbformat_minor": 0,
  "metadata": {
    "colab": {
      "name": "U12_Dictionary.ipynb",
      "provenance": [],
      "collapsed_sections": []
    },
    "kernelspec": {
      "name": "python3",
      "display_name": "Python 3"
    },
    "language_info": {
      "name": "python"
    }
  },
  "cells": [
    {
      "cell_type": "markdown",
      "metadata": {
        "id": "-gh1s01sRn1U"
      },
      "source": [
        "# Unit 12. 딕셔너리(Dictionary)"
      ]
    },
    {
      "cell_type": "code",
      "metadata": {
        "colab": {
          "base_uri": "https://localhost:8080/"
        },
        "id": "9nVCt_-ARfjN",
        "outputId": "dbb21823-cfa0-4589-b731-05d858af17d3"
      },
      "source": [
        "lux = [490, 334, 550, 18.72]\n",
        "lux"
      ],
      "execution_count": 1,
      "outputs": [
        {
          "output_type": "execute_result",
          "data": {
            "text/plain": [
              "[490, 334, 550, 18.72]"
            ]
          },
          "metadata": {
            "tags": []
          },
          "execution_count": 1
        }
      ]
    },
    {
      "cell_type": "code",
      "metadata": {
        "colab": {
          "base_uri": "https://localhost:8080/"
        },
        "id": "IBwYseB5SGQI",
        "outputId": "9a4aba7b-cdb9-451b-bbdd-d494b81bb2d2"
      },
      "source": [
        "lux = {\n",
        "    'health' :490,      # 체력\n",
        "    'mana' : 334,       # 마력\n",
        "    'melee' : 550,      # 사거리\n",
        "    'armor' : 18.72     # 방어력\n",
        "}\n",
        "lux"
      ],
      "execution_count": 3,
      "outputs": [
        {
          "output_type": "execute_result",
          "data": {
            "text/plain": [
              "{'armor': 18.72, 'health': 490, 'mana': 334, 'melee': 550}"
            ]
          },
          "metadata": {
            "tags": []
          },
          "execution_count": 3
        }
      ]
    },
    {
      "cell_type": "markdown",
      "metadata": {
        "id": "LyUlAiXSSuXs"
      },
      "source": [
        "## 12.1 딕셔너리 생성"
      ]
    },
    {
      "cell_type": "code",
      "metadata": {
        "colab": {
          "base_uri": "https://localhost:8080/"
        },
        "id": "bHCG5MgoSp8L",
        "outputId": "7c6f1172-5e01-4613-cb51-e141642d635a"
      },
      "source": [
        "lux = {'health' : 490, 'health' : 800, 'mana' : 334, 'melee' : 550, 'armor' : 18.72}  \n",
        "# 똑같은 값이 두 개면 뒤에 있는 값으로 출력된다\n",
        "lux"
      ],
      "execution_count": 4,
      "outputs": [
        {
          "output_type": "execute_result",
          "data": {
            "text/plain": [
              "{'armor': 18.72, 'health': 800, 'mana': 334, 'melee': 550}"
            ]
          },
          "metadata": {
            "tags": []
          },
          "execution_count": 4
        }
      ]
    },
    {
      "cell_type": "code",
      "metadata": {
        "colab": {
          "base_uri": "https://localhost:8080/"
        },
        "id": "8SdtlHdWT6zp",
        "outputId": "408d6209-0db3-4938-9861-bf694382cb71"
      },
      "source": [
        "a = []\n",
        "b = dict()\n",
        "a, b"
      ],
      "execution_count": 6,
      "outputs": [
        {
          "output_type": "execute_result",
          "data": {
            "text/plain": [
              "([], {})"
            ]
          },
          "metadata": {
            "tags": []
          },
          "execution_count": 6
        }
      ]
    },
    {
      "cell_type": "code",
      "metadata": {
        "colab": {
          "base_uri": "https://localhost:8080/"
        },
        "id": "h24uq0C4VEMn",
        "outputId": "33073022-fba1-4408-b18c-31fcbd2405da"
      },
      "source": [
        "a = set((1, 2, 3))\n",
        "a"
      ],
      "execution_count": 7,
      "outputs": [
        {
          "output_type": "execute_result",
          "data": {
            "text/plain": [
              "{1, 2, 3}"
            ]
          },
          "metadata": {
            "tags": []
          },
          "execution_count": 7
        }
      ]
    },
    {
      "cell_type": "code",
      "metadata": {
        "colab": {
          "base_uri": "https://localhost:8080/"
        },
        "id": "hypMMqXMVKxk",
        "outputId": "fbb0790a-a5e9-4ffd-f822-e98784cb6d50"
      },
      "source": [
        "a = ['a', 'b', 'c', 'd']\n",
        "b = [1, 2, 3, 4]\n",
        "dict(zip(a, b))"
      ],
      "execution_count": 9,
      "outputs": [
        {
          "output_type": "execute_result",
          "data": {
            "text/plain": [
              "{'a': 1, 'b': 2, 'c': 3, 'd': 4}"
            ]
          },
          "metadata": {
            "tags": []
          },
          "execution_count": 9
        }
      ]
    },
    {
      "cell_type": "markdown",
      "metadata": {
        "id": "KYO2BQaaV8OO"
      },
      "source": [
        "## 12.2 딕셔너리 키에 접근하고 값 할당하기"
      ]
    },
    {
      "cell_type": "code",
      "metadata": {
        "colab": {
          "base_uri": "https://localhost:8080/"
        },
        "id": "RQ88EWf1Vf6n",
        "outputId": "9e8232a4-72c5-4212-b812-adad631694dd"
      },
      "source": [
        "lux"
      ],
      "execution_count": 10,
      "outputs": [
        {
          "output_type": "execute_result",
          "data": {
            "text/plain": [
              "{'armor': 18.72, 'health': 800, 'mana': 334, 'melee': 550}"
            ]
          },
          "metadata": {
            "tags": []
          },
          "execution_count": 10
        }
      ]
    },
    {
      "cell_type": "code",
      "metadata": {
        "colab": {
          "base_uri": "https://localhost:8080/"
        },
        "id": "VQ78xPi-V49Z",
        "outputId": "0e60f2c8-c755-4c1c-d925-9e9a004d6f37"
      },
      "source": [
        "lux['mana'], lux['armor']"
      ],
      "execution_count": 11,
      "outputs": [
        {
          "output_type": "execute_result",
          "data": {
            "text/plain": [
              "(334, 18.72)"
            ]
          },
          "metadata": {
            "tags": []
          },
          "execution_count": 11
        }
      ]
    },
    {
      "cell_type": "code",
      "metadata": {
        "id": "GyOKEfwpWPw5"
      },
      "source": [
        "lux.mana #Error/ Java에서는 obj. 가능"
      ],
      "execution_count": null,
      "outputs": []
    },
    {
      "cell_type": "code",
      "metadata": {
        "colab": {
          "base_uri": "https://localhost:8080/"
        },
        "id": "eU7EdcuRWoP2",
        "outputId": "2f44944e-e257-4c33-eb62-2a7ed389831b"
      },
      "source": [
        "# key 값이 기존 딕셔너리에 없으면 새롭게 추가\n",
        "lux['new'] = 10\n",
        "lux"
      ],
      "execution_count": 12,
      "outputs": [
        {
          "output_type": "execute_result",
          "data": {
            "text/plain": [
              "{'armor': 18.72, 'health': 800, 'mana': 334, 'melee': 550, 'new': 10}"
            ]
          },
          "metadata": {
            "tags": []
          },
          "execution_count": 12
        }
      ]
    },
    {
      "cell_type": "code",
      "metadata": {
        "colab": {
          "base_uri": "https://localhost:8080/"
        },
        "id": "8QqxPwWUXLE2",
        "outputId": "c0812a04-8bd2-4a37-ba04-c25f1922dbec"
      },
      "source": [
        "# key 값이 딕셔너리에 있으면 값이 변경\n",
        "lux['mana'] = 1000\n",
        "lux"
      ],
      "execution_count": 13,
      "outputs": [
        {
          "output_type": "execute_result",
          "data": {
            "text/plain": [
              "{'armor': 18.72, 'health': 800, 'mana': 1000, 'melee': 550, 'new': 10}"
            ]
          },
          "metadata": {
            "tags": []
          },
          "execution_count": 13
        }
      ]
    },
    {
      "cell_type": "code",
      "metadata": {
        "colab": {
          "base_uri": "https://localhost:8080/"
        },
        "id": "_df2zPi3Xicc",
        "outputId": "84e3b07b-1d41-4eca-c160-e6d42438b2a2"
      },
      "source": [
        "'mana' in lux"
      ],
      "execution_count": 14,
      "outputs": [
        {
          "output_type": "execute_result",
          "data": {
            "text/plain": [
              "True"
            ]
          },
          "metadata": {
            "tags": []
          },
          "execution_count": 14
        }
      ]
    },
    {
      "cell_type": "code",
      "metadata": {
        "colab": {
          "base_uri": "https://localhost:8080/"
        },
        "id": "QqnyPDigYEzr",
        "outputId": "4e755108-010c-45b5-edd9-c4cd4cc3c18f"
      },
      "source": [
        "# 'mana' 항목이 존재하면 기존 값 + 100, 없으면 값이 50이 되게 만드시오\n",
        "e = {'mana' : 150}\n",
        "\n",
        "if 'mana' in e : \n",
        "    e['mana'] = e['mana'] + 100\n",
        "else:\n",
        "    e['mana'] = 50\n",
        "\n",
        "e"
      ],
      "execution_count": 17,
      "outputs": [
        {
          "output_type": "execute_result",
          "data": {
            "text/plain": [
              "{'mana': 250}"
            ]
          },
          "metadata": {
            "tags": []
          },
          "execution_count": 17
        }
      ]
    },
    {
      "cell_type": "code",
      "metadata": {
        "colab": {
          "base_uri": "https://localhost:8080/"
        },
        "id": "hYL2DTzBY2dd",
        "outputId": "ce3ccd64-3a95-432d-979e-bcf9a95c167a"
      },
      "source": [
        "# 'mana' 항목이 존재하면 기존 값 + 100, 없으면 값이 50이 되게 만드시오\n",
        "e = {}\n",
        "\n",
        "if 'mana' in e : \n",
        "    e['mana'] = e['mana'] + 100\n",
        "else:\n",
        "    e['mana'] = 50\n",
        "\n",
        "e"
      ],
      "execution_count": 18,
      "outputs": [
        {
          "output_type": "execute_result",
          "data": {
            "text/plain": [
              "{'mana': 50}"
            ]
          },
          "metadata": {
            "tags": []
          },
          "execution_count": 18
        }
      ]
    },
    {
      "cell_type": "markdown",
      "metadata": {
        "id": "n1VF1amKZLVi"
      },
      "source": [
        "### 딕셔너리 key의 개수"
      ]
    },
    {
      "cell_type": "code",
      "metadata": {
        "colab": {
          "base_uri": "https://localhost:8080/"
        },
        "id": "iw0fo_lKZB3A",
        "outputId": "c583f3f1-847b-4f2c-8f25-7537a410bb0e"
      },
      "source": [
        "lux"
      ],
      "execution_count": 19,
      "outputs": [
        {
          "output_type": "execute_result",
          "data": {
            "text/plain": [
              "{'armor': 18.72, 'health': 800, 'mana': 1000, 'melee': 550, 'new': 10}"
            ]
          },
          "metadata": {
            "tags": []
          },
          "execution_count": 19
        }
      ]
    },
    {
      "cell_type": "code",
      "metadata": {
        "colab": {
          "base_uri": "https://localhost:8080/"
        },
        "id": "i3dgDEneZPTu",
        "outputId": "e5213f81-6041-49a8-9089-22fb673a4388"
      },
      "source": [
        "len(lux)"
      ],
      "execution_count": 20,
      "outputs": [
        {
          "output_type": "execute_result",
          "data": {
            "text/plain": [
              "5"
            ]
          },
          "metadata": {
            "tags": []
          },
          "execution_count": 20
        }
      ]
    },
    {
      "cell_type": "markdown",
      "metadata": {
        "id": "hf3nPD47Z5Uj"
      },
      "source": [
        "### 자료형"
      ]
    },
    {
      "cell_type": "code",
      "metadata": {
        "colab": {
          "base_uri": "https://localhost:8080/"
        },
        "id": "W-x1bnQvZSbO",
        "outputId": "58846162-e821-47b8-f318-0243c7a2e824"
      },
      "source": [
        "type(lux)"
      ],
      "execution_count": 21,
      "outputs": [
        {
          "output_type": "execute_result",
          "data": {
            "text/plain": [
              "dict"
            ]
          },
          "metadata": {
            "tags": []
          },
          "execution_count": 21
        }
      ]
    },
    {
      "cell_type": "code",
      "metadata": {
        "colab": {
          "base_uri": "https://localhost:8080/"
        },
        "id": "4_mvwJZnZ955",
        "outputId": "e79b23ef-3511-41d1-cb5b-b196ca4b6a76"
      },
      "source": [
        "type(lux['armor'])"
      ],
      "execution_count": 22,
      "outputs": [
        {
          "output_type": "execute_result",
          "data": {
            "text/plain": [
              "float"
            ]
          },
          "metadata": {
            "tags": []
          },
          "execution_count": 22
        }
      ]
    },
    {
      "cell_type": "code",
      "metadata": {
        "colab": {
          "base_uri": "https://localhost:8080/"
        },
        "id": "8O7vRw0XaDRU",
        "outputId": "87c3bad4-0481-495f-bb23-569d3086a773"
      },
      "source": [
        "lux.keys()"
      ],
      "execution_count": 23,
      "outputs": [
        {
          "output_type": "execute_result",
          "data": {
            "text/plain": [
              "dict_keys(['health', 'mana', 'melee', 'armor', 'new'])"
            ]
          },
          "metadata": {
            "tags": []
          },
          "execution_count": 23
        }
      ]
    },
    {
      "cell_type": "markdown",
      "metadata": {
        "id": "3ZSm8FOIbf3O"
      },
      "source": [
        "### 반복문, 추후 학습 예정"
      ]
    },
    {
      "cell_type": "code",
      "metadata": {
        "colab": {
          "base_uri": "https://localhost:8080/"
        },
        "id": "R4VHqTKMamdT",
        "outputId": "fa6239e6-0415-409c-93db-089bcfaa21e6"
      },
      "source": [
        "for key in lux.keys():\n",
        "    print(f'{key}:{lux[key]}')"
      ],
      "execution_count": 25,
      "outputs": [
        {
          "output_type": "stream",
          "text": [
            "health:800\n",
            "mana:1000\n",
            "melee:550\n",
            "armor:18.72\n",
            "new:10\n"
          ],
          "name": "stdout"
        }
      ]
    },
    {
      "cell_type": "code",
      "metadata": {
        "colab": {
          "base_uri": "https://localhost:8080/"
        },
        "id": "yqu_2rBza9q8",
        "outputId": "56552b70-e873-4b85-ecd7-d0412cd43649"
      },
      "source": [
        "for key, value in lux.items():\n",
        "    print(f'{key}:{value}')"
      ],
      "execution_count": 26,
      "outputs": [
        {
          "output_type": "stream",
          "text": [
            "health:800\n",
            "mana:1000\n",
            "melee:550\n",
            "armor:18.72\n",
            "new:10\n"
          ],
          "name": "stdout"
        }
      ]
    },
    {
      "cell_type": "markdown",
      "metadata": {
        "id": "KIAY2DSpfMyh"
      },
      "source": [
        "### 심화\n"
      ]
    },
    {
      "cell_type": "code",
      "metadata": {
        "colab": {
          "base_uri": "https://localhost:8080/"
        },
        "id": "VuuTvwRlbLdc",
        "outputId": "5c636e8a-649b-42d4-babf-753f2a84dda8"
      },
      "source": [
        "# 'mana' 항목이 존재하면 기존 값 + 100, 없으면 값이 50이 되게 만드시오\n",
        "d = {'mana' : 120}\n",
        "e = {}\n",
        "\n",
        "for item in [d, e]:\n",
        "    if 'mana' in e : \n",
        "        item['mana'] = item['mana'] + 100\n",
        "    else:\n",
        "        item['mana'] = 50\n",
        "\n",
        "d, e\n"
      ],
      "execution_count": 29,
      "outputs": [
        {
          "output_type": "execute_result",
          "data": {
            "text/plain": [
              "({'mana': 50}, {'mana': 50})"
            ]
          },
          "metadata": {
            "tags": []
          },
          "execution_count": 29
        }
      ]
    },
    {
      "cell_type": "code",
      "metadata": {
        "id": "h2EeM1EZfvgX"
      },
      "source": [
        ""
      ],
      "execution_count": null,
      "outputs": []
    }
  ]
}