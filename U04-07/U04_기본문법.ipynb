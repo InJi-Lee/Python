{
  "nbformat": 4,
  "nbformat_minor": 0,
  "metadata": {
    "colab": {
      "name": "U04_기본문법.ipynb",
      "provenance": [],
      "toc_visible": true
    },
    "kernelspec": {
      "name": "python3",
      "display_name": "Python 3"
    },
    "language_info": {
      "name": "python"
    }
  },
  "cells": [
    {
      "cell_type": "markdown",
      "metadata": {
        "id": "GVj7fDoJa2O6"
      },
      "source": [
        "#Unit 4. 기본 문법 알아보기"
      ]
    },
    {
      "cell_type": "markdown",
      "metadata": {
        "id": "7MGfI6A2bEK-"
      },
      "source": [
        "##4.1 세미콜론"
      ]
    },
    {
      "cell_type": "code",
      "metadata": {
        "colab": {
          "base_uri": "https://localhost:8080/"
        },
        "id": "g3mO_IbuayeN",
        "outputId": "6bd95b94-721f-4be8-c9b6-eaade90004f6"
      },
      "source": [
        "print('Hello, world!')"
      ],
      "execution_count": 1,
      "outputs": [
        {
          "output_type": "stream",
          "text": [
            "Hello, world!\n"
          ],
          "name": "stdout"
        }
      ]
    },
    {
      "cell_type": "code",
      "metadata": {
        "colab": {
          "base_uri": "https://localhost:8080/"
        },
        "id": "tefiAmnEbSGA",
        "outputId": "5eb9da36-3d65-451c-95e2-368e71401073"
      },
      "source": [
        "print('Hello'); print('1234')"
      ],
      "execution_count": 2,
      "outputs": [
        {
          "output_type": "stream",
          "text": [
            "Hello\n",
            "1234\n"
          ],
          "name": "stdout"
        }
      ]
    },
    {
      "cell_type": "markdown",
      "metadata": {
        "id": "gzGJsXsvbupt"
      },
      "source": [
        "##4.2 주석"
      ]
    },
    {
      "cell_type": "markdown",
      "metadata": {
        "id": "k3R1ABwZb5ow"
      },
      "source": [
        "### 4.2.1 한 줄 주석"
      ]
    },
    {
      "cell_type": "code",
      "metadata": {
        "colab": {
          "base_uri": "https://localhost:8080/"
        },
        "id": "rkw6_yjHblsN",
        "outputId": "cfe84e1c-d6b7-499b-ab21-037a1da7921c"
      },
      "source": [
        "#Hello, world 출력\n",
        "print('Hello, world!')"
      ],
      "execution_count": 3,
      "outputs": [
        {
          "output_type": "stream",
          "text": [
            "Hello, world!\n"
          ],
          "name": "stdout"
        }
      ]
    },
    {
      "cell_type": "code",
      "metadata": {
        "colab": {
          "base_uri": "https://localhost:8080/"
        },
        "id": "HaVlzmmtcJM5",
        "outputId": "58fe01fb-b2ea-4d65-d7d6-999ce4ed6d36"
      },
      "source": [
        "print('Hello, world!')    #comment"
      ],
      "execution_count": 4,
      "outputs": [
        {
          "output_type": "stream",
          "text": [
            "Hello, world!\n"
          ],
          "name": "stdout"
        }
      ]
    },
    {
      "cell_type": "markdown",
      "metadata": {
        "id": "JwSJAS8fesWR"
      },
      "source": [
        "### 4.2.2 블록 주석"
      ]
    },
    {
      "cell_type": "code",
      "metadata": {
        "id": "KEyWe54bcVfj"
      },
      "source": [
        "# 더하기\n",
        "# a = 1 + 2\n",
        "# print('Hello, world!')"
      ],
      "execution_count": 5,
      "outputs": []
    },
    {
      "cell_type": "code",
      "metadata": {
        "colab": {
          "base_uri": "https://localhost:8080/",
          "height": 35
        },
        "id": "wldvyPdJe96W",
        "outputId": "e7bf4fc3-3a8e-48d8-c252-50c60ba53f01"
      },
      "source": [
        "# 더하기\n",
        "'''a = 1 + 2\n",
        "print('Hello, world!')'''"
      ],
      "execution_count": 6,
      "outputs": [
        {
          "output_type": "execute_result",
          "data": {
            "application/vnd.google.colaboratory.intrinsic+json": {
              "type": "string"
            },
            "text/plain": [
              "\"a = 1 + 2\\nprint('Hello, world!')\""
            ]
          },
          "metadata": {
            "tags": []
          },
          "execution_count": 6
        }
      ]
    },
    {
      "cell_type": "code",
      "metadata": {
        "colab": {
          "base_uri": "https://localhost:8080/",
          "height": 35
        },
        "id": "oyEEKlTGfIZa",
        "outputId": "fe541795-ae03-4c25-ee59-35f75c97b0ab"
      },
      "source": [
        "\"\"\"\n",
        "이 안에 포함된 내용이 블록 주석\n",
        "\"\"\""
      ],
      "execution_count": 7,
      "outputs": [
        {
          "output_type": "execute_result",
          "data": {
            "application/vnd.google.colaboratory.intrinsic+json": {
              "type": "string"
            },
            "text/plain": [
              "'\\n이 안에 포함된 내용이 블록 주석\\n'"
            ]
          },
          "metadata": {
            "tags": []
          },
          "execution_count": 7
        }
      ]
    },
    {
      "cell_type": "markdown",
      "metadata": {
        "id": "3ayA4dshidPF"
      },
      "source": [
        "## 4.3 들여쓰기 (Indentation)"
      ]
    },
    {
      "cell_type": "code",
      "metadata": {
        "id": "s2eIQ2iCib6h"
      },
      "source": [
        "\"\"\" C 프로그래밍 예\n",
        "sum = 0;\n",
        "for (1=i; i<=0; i++) {\n",
        "     sum += i;\n",
        "}\n",
        "printf(sum);\n",
        "\"\"\""
      ],
      "execution_count": null,
      "outputs": []
    },
    {
      "cell_type": "code",
      "metadata": {
        "colab": {
          "base_uri": "https://localhost:8080/"
        },
        "id": "u0FLzdiEjG0C",
        "outputId": "8575ff9f-7452-49e9-f15a-f3c3f4d1bd31"
      },
      "source": [
        "# 파이썬 예\n",
        "sum = 0\n",
        "for i in range(1,11):\n",
        "    sum += i\n",
        "print(sum)"
      ],
      "execution_count": 10,
      "outputs": [
        {
          "output_type": "stream",
          "text": [
            "55\n"
          ],
          "name": "stdout"
        }
      ]
    },
    {
      "cell_type": "code",
      "metadata": {
        "colab": {
          "base_uri": "https://localhost:8080/"
        },
        "id": "YA0YMExojpo4",
        "outputId": "52b9b8a7-4474-4f13-c0e9-3f89356e7579"
      },
      "source": [
        "#기본 공백 : 공백 4개, 탭/백탭(Shift+TAB)\n",
        "sum = 0\n",
        "for i in range(1,11):\n",
        "    sum += i\n",
        "    if (i>9):\n",
        "        print(i)\n",
        "\n",
        "print(sum)"
      ],
      "execution_count": 13,
      "outputs": [
        {
          "output_type": "stream",
          "text": [
            "10\n",
            "55\n"
          ],
          "name": "stdout"
        }
      ]
    },
    {
      "cell_type": "code",
      "metadata": {
        "id": "AXj6puOIkCCA"
      },
      "source": [
        ""
      ],
      "execution_count": null,
      "outputs": []
    }
  ]
}