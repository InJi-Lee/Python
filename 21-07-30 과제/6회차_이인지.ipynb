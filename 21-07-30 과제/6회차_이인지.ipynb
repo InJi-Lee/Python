{
  "nbformat": 4,
  "nbformat_minor": 0,
  "metadata": {
    "colab": {
      "name": "6회차 이인지.ipynb",
      "provenance": [],
      "collapsed_sections": []
    },
    "kernelspec": {
      "name": "python3",
      "display_name": "Python 3"
    },
    "language_info": {
      "name": "python"
    }
  },
  "cells": [
    {
      "cell_type": "markdown",
      "metadata": {
        "id": "PZh-cnovLRqZ"
      },
      "source": [
        "# U22 심사문제\n",
        "### 표준 입력으로 정수 두 개가 입력됩니다(첫 번째 입력 값의 범위는 1 ~ 20 , 두 번째 입력 값의 범위는 10 ~ 30이며 첫 번째 입력 값은 두 번째 입력 값보다 항상 작습니다). 첫 번째 정수부터 두 번째 정수까지를 지수로 하는 2의 거듭제곱 리스트를 출력하는 프로그램을 만드세요(input에서 안내 문자열은 출력하지 않아야 합니다). 단, 리스트의 두 번째 요소와 뒤에서 두 번째 요소는 삭제한 뒤 출력하세요. 출력 결과는 리스트 형태라야 합니다."
      ]
    },
    {
      "cell_type": "code",
      "metadata": {
        "id": "HNSIZH8kCDBM",
        "colab": {
          "base_uri": "https://localhost:8080/"
        },
        "outputId": "8c25d6ac-daf6-4b73-f831-01e5f2fe1c0f"
      },
      "source": [
        "# 입력 ex)1\n",
        "a, b = map(int,input().split())\n",
        "x = [2**i for i in range(a,b+1)]\n",
        "x.pop(1)\n",
        "x.pop(-2)\n",
        "print(x)"
      ],
      "execution_count": 2,
      "outputs": [
        {
          "output_type": "stream",
          "text": [
            "1 10\n",
            "[2, 8, 16, 32, 64, 128, 256, 1024]\n"
          ],
          "name": "stdout"
        }
      ]
    },
    {
      "cell_type": "code",
      "metadata": {
        "colab": {
          "base_uri": "https://localhost:8080/"
        },
        "id": "ra-5NTZ9NESF",
        "outputId": "9ff49f9d-bc0d-4bdf-c7ff-e08a44562763"
      },
      "source": [
        "# 입력 ex)2\n",
        "a, b = map(int,input().split())\n",
        "x = [2**i for i in range(a,b+1)]\n",
        "x.pop(1)\n",
        "x.pop(-2)\n",
        "print(x)"
      ],
      "execution_count": 3,
      "outputs": [
        {
          "output_type": "stream",
          "text": [
            "10 20\n",
            "[1024, 4096, 8192, 16384, 32768, 65536, 131072, 262144, 1048576]\n"
          ],
          "name": "stdout"
        }
      ]
    },
    {
      "cell_type": "markdown",
      "metadata": {
        "id": "Afp2EQonNqep"
      },
      "source": [
        "# U23 심사문제\n",
        "### 표준 입력으로 2차원 리스트의 가로(col)와 세로(row)가 입력되고 그 다음 줄부터 리스트의 요소로 들어갈 문자가 입력됩니다. 이때 2차원 리스트 안에서 *는 지뢰이고 .은 지뢰가 아닙니다. 지뢰가 아닌 요소에는 인접한 지뢰의 개수를 출력하는 프로그램을 만드세요(input에서 안내 문자열은 출력하지 않아야 합니다).\n",
        "\n",
        "### 여러 줄을 입력 받으려면 다음과 같이 for 반복문에서 input을 호출한 뒤 append로 각 줄을 추가하면 됩니다(list 안에 문자열을 넣으면 문자열이 문자 리스트로 변환됩니다).\n"
      ]
    },
    {
      "cell_type": "code",
      "metadata": {
        "colab": {
          "base_uri": "https://localhost:8080/"
        },
        "id": "JDBpyAAHNi9O",
        "outputId": "5688339c-aebb-4439-8132-941ddd9cd3a8"
      },
      "source": [
        "# 입력 ex)1\n",
        "x, y = map(int, input().split())\n",
        "\n",
        "matrix = []\n",
        "for i in range(y):\n",
        "    matrix.append(list(input()))\n",
        "\n",
        "for i in range(y):\n",
        "    for k in range(x):\n",
        "        count = 0\n",
        "        if matrix[i][k] == \".\":\n",
        "            for a in range(i-1, i+2):\n",
        "                for b in range(k-1, k+2):\n",
        "                    if not (a < 0 or b < 0 or a >= y or b >= x):\n",
        "                      if matrix[a][b] == \"*\":\n",
        "                        count += 1\n",
        "            matrix[i][k] = count\n",
        "            print(matrix[i][k], end=\"\")\n",
        "        else:\n",
        "          print(matrix[i][k], end=\"\")\n",
        "    print()"
      ],
      "execution_count": 6,
      "outputs": [
        {
          "output_type": "stream",
          "text": [
            "3  3\n",
            ".**\n",
            "*..\n",
            ".*.\n",
            "2**\n",
            "*43\n",
            "2*1\n"
          ],
          "name": "stdout"
        }
      ]
    },
    {
      "cell_type": "code",
      "metadata": {
        "colab": {
          "base_uri": "https://localhost:8080/"
        },
        "id": "6mfvfYtjQy8V",
        "outputId": "88fd0f87-4659-45ce-bbb4-baf8dd6202ea"
      },
      "source": [
        "# 입력 ex)2\n",
        "x, y = map(int, input().split())\n",
        "\n",
        "matrix = []\n",
        "for i in range(y):\n",
        "    matrix.append(list(input()))\n",
        "\n",
        "for i in range(y):\n",
        "    for k in range(x):\n",
        "        count = 0\n",
        "        if matrix[i][k] == \".\":\n",
        "            for a in range(i-1, i+2):\n",
        "                for b in range(k-1, k+2):\n",
        "                    if not (a < 0 or b < 0 or a >= y or b >= x):\n",
        "                      if matrix[a][b] == \"*\":\n",
        "                        count += 1\n",
        "            matrix[i][k] = count\n",
        "            print(matrix[i][k], end=\"\")\n",
        "        else:\n",
        "          print(matrix[i][k], end=\"\")\n",
        "    print()"
      ],
      "execution_count": 7,
      "outputs": [
        {
          "output_type": "stream",
          "text": [
            "5 5\n",
            "..*..\n",
            "...*.\n",
            ".*...\n",
            ".***.\n",
            "*.*..\n",
            "01*21\n",
            "123*1\n",
            "2*532\n",
            "3***1\n",
            "*4*31\n"
          ],
          "name": "stdout"
        }
      ]
    },
    {
      "cell_type": "markdown",
      "metadata": {
        "id": "8aFIbA2FR6g1"
      },
      "source": [
        "# U24 심사문제1\n",
        "### 표준 입력으로 문자열이 입력됩니다. 입력된 문자열에서 'the'의 개수를 출력하는 프로그램을 만드세요(input에서 안내 문자열은 출력하지 않아야 합니다). 단, 모든 문자가 소문자인 'the'만 찾으면 되며 'them', 'there', 'their' 등은 포함하지 않아야 합니다."
      ]
    },
    {
      "cell_type": "code",
      "metadata": {
        "colab": {
          "base_uri": "https://localhost:8080/"
        },
        "id": "hI1N4y5ZSGe3",
        "outputId": "a7444e4d-edeb-4514-f3ca-382dad000886"
      },
      "source": [
        "x = input().split()\n",
        "\n",
        "count = 0\n",
        "for i in x:\n",
        "    if i.strip(',.') == 'the':\n",
        "        count += 1\n",
        "print(count)"
      ],
      "execution_count": 8,
      "outputs": [
        {
          "output_type": "stream",
          "text": [
            "the grown-ups' response, this time, was to advise me to lay aside my drawings of boa constrictors, whether from the inside or the outside, and devote myself instead to geography, history, arithmetic, and grammar. That is why, at the, age of six, I gave up what might have been a magnificent career as a painter. I had been disheartened by the failure of my Drawing Number One and my Drawing Number Two. Grown-ups never understand anything by themselves, and it is tiresome for children to be always and forever explaining things to the.\n",
            "6\n"
          ],
          "name": "stdout"
        }
      ]
    },
    {
      "cell_type": "markdown",
      "metadata": {
        "id": "aSpC7od7TLAk"
      },
      "source": [
        "# U24 심사문제2\n",
        "### 표준 입력으로 물품 가격 여러 개가 문자열 한 줄로 입력되고, 각 가격은 ;(세미콜론)으로 구분되어 있습니다. 입력된 가격을 높은 가격순으로 출력하는 프로그램을 만드세요(input에서 안내 문자열은 출력하지 않아야 합니다). 이때 가격은 길이를 9로 만든 뒤 오른쪽으로 정렬하고 천단위로 ,(콤마)를 넣으세요."
      ]
    },
    {
      "cell_type": "code",
      "metadata": {
        "colab": {
          "base_uri": "https://localhost:8080/"
        },
        "id": "pF13v6M0S-j2",
        "outputId": "5aee11e4-582c-455c-cf05-c35f2a371b8c"
      },
      "source": [
        "prices = list(map(int, input().split(';')))\n",
        "prices.sort(reverse=True)\n",
        "for i in prices:\n",
        "    print('{0:>9,}'.format(i))"
      ],
      "execution_count": 9,
      "outputs": [
        {
          "output_type": "stream",
          "text": [
            "51900;83000;158000;367500;250000;59200;128500;1304000\n",
            "1,304,000\n",
            "  367,500\n",
            "  250,000\n",
            "  158,000\n",
            "  128,500\n",
            "   83,000\n",
            "   59,200\n",
            "   51,900\n"
          ],
          "name": "stdout"
        }
      ]
    },
    {
      "cell_type": "markdown",
      "metadata": {
        "id": "-5IsWqcTUBPg"
      },
      "source": [
        "# U25 심사문제\n",
        "### 표준 입력으로 문자열 여러 개와 숫자 여러 개가 두 줄로 입력되고, 첫 번째 줄은 키, 두 번째 줄은 값으로 하여 딕셔너리를 생성합니다. 다음 코드를 완성하여 딕셔너리에서 키가 'delta'인 키-값 쌍과 값이 30인 키-값 쌍을 삭제하도록 만드세요."
      ]
    },
    {
      "cell_type": "code",
      "metadata": {
        "colab": {
          "base_uri": "https://localhost:8080/"
        },
        "id": "dwxa24GwT6R4",
        "outputId": "63e3d511-5feb-42df-dd26-4e2c4fdb5b7e"
      },
      "source": [
        "# 입력 ex)1\n",
        "keys = input().split()\n",
        "values = map(int, input().split())\n",
        " \n",
        "x = dict(zip(keys, values))\n",
        "x.pop('delta')\n",
        "x = {key : value for key, value in x.items() if value != 30}\n",
        "\n",
        "print(x)"
      ],
      "execution_count": 11,
      "outputs": [
        {
          "output_type": "stream",
          "text": [
            "alpha bravo charlie delta\n",
            "10 20 30 40\n",
            "{'alpha': 10, 'bravo': 20}\n"
          ],
          "name": "stdout"
        }
      ]
    },
    {
      "cell_type": "code",
      "metadata": {
        "colab": {
          "base_uri": "https://localhost:8080/"
        },
        "id": "9sXMovEiUtM3",
        "outputId": "f117b76f-fbbb-4a58-a317-850a448e9989"
      },
      "source": [
        "# 입력 ex)2\n",
        "keys = input().split()\n",
        "values = map(int, input().split())\n",
        " \n",
        "x = dict(zip(keys, values))\n",
        "x.pop('delta')\n",
        "x = {key : value for key, value in x.items() if value != 30}\n",
        "\n",
        "print(x)"
      ],
      "execution_count": 12,
      "outputs": [
        {
          "output_type": "stream",
          "text": [
            "alpha bravo charlie delta echo foxtrot golf\n",
            "30 40 50 60 70 80 90\n",
            "{'bravo': 40, 'charlie': 50, 'echo': 70, 'foxtrot': 80, 'golf': 90}\n"
          ],
          "name": "stdout"
        }
      ]
    },
    {
      "cell_type": "markdown",
      "metadata": {
        "id": "4EC6wiJxVRns"
      },
      "source": [
        "# U26 심사문제\n",
        "### 표준 입력으로 양의 정수 두 개가 입력됩니다. 다음 소스 코드를 완성하여 두 숫자의 공약수를 세트 형태로 구하도록 만드세요. 단, 최종 결과는 공약수의 합으로 판단합니다.\n"
      ]
    },
    {
      "cell_type": "code",
      "metadata": {
        "colab": {
          "base_uri": "https://localhost:8080/"
        },
        "id": "lo_4OMrQVCR0",
        "outputId": "864a558e-7b2c-48e6-927a-0e0561ec3874"
      },
      "source": [
        "# 입력 ex)1\n",
        "a, b = map(int, input().split())\n",
        "\n",
        "a = {i for i in range(1, a+1) if a % i == 0}\n",
        "b = {k for k in range(1, b+1) if b % k == 0}\n",
        "\n",
        "divisor = a & b\n",
        " \n",
        "result = 0\n",
        "if type(divisor) == set:\n",
        "    result = sum(divisor)\n",
        " \n",
        "print(result)"
      ],
      "execution_count": 13,
      "outputs": [
        {
          "output_type": "stream",
          "text": [
            "10 20\n",
            "18\n"
          ],
          "name": "stdout"
        }
      ]
    },
    {
      "cell_type": "code",
      "metadata": {
        "colab": {
          "base_uri": "https://localhost:8080/"
        },
        "id": "sP_xtRCCV7Se",
        "outputId": "bbb373ed-d467-4ca2-841a-62f8f57de9cd"
      },
      "source": [
        "# 입력 ex)2\n",
        "a, b = map(int, input().split())\n",
        "\n",
        "a = {i for i in range(1, a+1) if a % i == 0}\n",
        "b = {k for k in range(1, b+1) if b % k == 0}\n",
        "\n",
        "divisor = a & b\n",
        " \n",
        "result = 0\n",
        "if type(divisor) == set:\n",
        "    result = sum(divisor)\n",
        " \n",
        "print(result)"
      ],
      "execution_count": 14,
      "outputs": [
        {
          "output_type": "stream",
          "text": [
            "100 200\n",
            "217\n"
          ],
          "name": "stdout"
        }
      ]
    },
    {
      "cell_type": "code",
      "metadata": {
        "id": "9HJCO3SaWFrA"
      },
      "source": [
        ""
      ],
      "execution_count": null,
      "outputs": []
    }
  ]
}