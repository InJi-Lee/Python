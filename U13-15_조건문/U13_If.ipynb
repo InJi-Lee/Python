{
  "nbformat": 4,
  "nbformat_minor": 0,
  "metadata": {
    "colab": {
      "name": "U13_If.ipynb",
      "provenance": [],
      "collapsed_sections": []
    },
    "kernelspec": {
      "name": "python3",
      "display_name": "Python 3"
    },
    "language_info": {
      "name": "python"
    }
  },
  "cells": [
    {
      "cell_type": "markdown",
      "metadata": {
        "id": "hvsZfZhJguCS"
      },
      "source": [
        "# Unit 13. if조건문"
      ]
    },
    {
      "cell_type": "markdown",
      "metadata": {
        "id": "l5aiY3Luhcze"
      },
      "source": [
        "## 13.1 if 조건문"
      ]
    },
    {
      "cell_type": "code",
      "metadata": {
        "colab": {
          "base_uri": "https://localhost:8080/"
        },
        "id": "gLpFj0jbgpuu",
        "outputId": "411ca8e9-83ae-4fff-e861-36723ffba520"
      },
      "source": [
        "x = 10\n",
        "if x ==10:\n",
        "    print('It is 10.')\n",
        "    "
      ],
      "execution_count": null,
      "outputs": [
        {
          "output_type": "stream",
          "text": [
            "It is 10.\n"
          ],
          "name": "stdout"
        }
      ]
    },
    {
      "cell_type": "code",
      "metadata": {
        "colab": {
          "base_uri": "https://localhost:8080/"
        },
        "id": "fkufWkYMhxfb",
        "outputId": "87ffd551-0422-4b51-b192-ff646edc89df"
      },
      "source": [
        "x = 9\n",
        "if x:  # 'x가 0이 아니면 참'이라는 뜻\n",
        "    print('It is 10.')"
      ],
      "execution_count": null,
      "outputs": [
        {
          "output_type": "stream",
          "text": [
            "It is 10.\n"
          ],
          "name": "stdout"
        }
      ]
    },
    {
      "cell_type": "markdown",
      "metadata": {
        "id": "u8cDs8y4iybt"
      },
      "source": [
        "## 13.2 들여쓰기"
      ]
    },
    {
      "cell_type": "code",
      "metadata": {
        "colab": {
          "base_uri": "https://localhost:8080/"
        },
        "id": "CxYzH-dHiMcY",
        "outputId": "276b92ff-c589-41cd-d5ab-1c1cef671480"
      },
      "source": [
        "x = 10\n",
        "\n",
        "if x ==10:\n",
        "    print('x값은')\n",
        "    print('10입니다.')\n",
        "print('조건문 안에 들어있지 않으면 언제나 출력됩니다.')"
      ],
      "execution_count": null,
      "outputs": [
        {
          "output_type": "stream",
          "text": [
            "x값은\n",
            "10입니다.\n",
            "조건문 안에 들어있지 않으면 언제나 출력됩니다.\n"
          ],
          "name": "stdout"
        }
      ]
    },
    {
      "cell_type": "markdown",
      "metadata": {
        "id": "ZH1yHJnvkAoU"
      },
      "source": [
        "## 13.3 중첩 if 조건문"
      ]
    },
    {
      "cell_type": "code",
      "metadata": {
        "colab": {
          "base_uri": "https://localhost:8080/"
        },
        "id": "T6KJiWwnjNvF",
        "outputId": "e5aa2391-06a2-4bca-dbf7-3c48f21e3046"
      },
      "source": [
        "x =15\n",
        "if x > 10:\n",
        "    print('10보다 큰 숫자입니다.')\n",
        "    if x == 15:\n",
        "        print('15입니다.')\n",
        "    if x == 20:\n",
        "        print('20입니다.')"
      ],
      "execution_count": null,
      "outputs": [
        {
          "output_type": "stream",
          "text": [
            "10보다 큰 숫자입니다.\n",
            "15입니다.\n"
          ],
          "name": "stdout"
        }
      ]
    },
    {
      "cell_type": "code",
      "metadata": {
        "colab": {
          "base_uri": "https://localhost:8080/"
        },
        "id": "1Glo87MNkezO",
        "outputId": "bdcad54a-e634-4091-9da8-a8572da68db6"
      },
      "source": [
        "x = int(input('정수를 입력하세요> '))\n",
        "if x > 10:\n",
        "    print('10보다 큰 숫자입니다.')\n",
        "    if x == 15:\n",
        "        print('15입니다.')\n",
        "    if x == 20:\n",
        "        print('20입니다.')"
      ],
      "execution_count": null,
      "outputs": [
        {
          "output_type": "stream",
          "text": [
            "정수를 입력하세요> 20\n",
            "10보다 큰 숫자입니다.\n",
            "20입니다.\n"
          ],
          "name": "stdout"
        }
      ]
    },
    {
      "cell_type": "code",
      "metadata": {
        "id": "bfmkptCVk_1s"
      },
      "source": [
        ""
      ],
      "execution_count": null,
      "outputs": []
    }
  ]
}