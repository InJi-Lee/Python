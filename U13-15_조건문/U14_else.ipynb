{
  "nbformat": 4,
  "nbformat_minor": 0,
  "metadata": {
    "colab": {
      "name": "U14_else.ipynb",
      "provenance": [],
      "collapsed_sections": []
    },
    "kernelspec": {
      "name": "python3",
      "display_name": "Python 3"
    },
    "language_info": {
      "name": "python"
    }
  },
  "cells": [
    {
      "cell_type": "markdown",
      "metadata": {
        "id": "ZO7ut9KOl3iF"
      },
      "source": [
        "# Unit 14. else"
      ]
    },
    {
      "cell_type": "code",
      "metadata": {
        "colab": {
          "base_uri": "https://localhost:8080/"
        },
        "id": "1zWBYtl6lvWm",
        "outputId": "b63ad467-1178-4c05-c76d-c68e4a9bf91e"
      },
      "source": [
        "x = 5\n",
        "if x == 10:\n",
        "    print('It is 10.')\n",
        "else:\n",
        "    print('It is not 10.')"
      ],
      "execution_count": 1,
      "outputs": [
        {
          "output_type": "stream",
          "text": [
            "It is not 10.\n"
          ],
          "name": "stdout"
        }
      ]
    },
    {
      "cell_type": "markdown",
      "metadata": {
        "id": "enGk0Of5mvBn"
      },
      "source": [
        "### 3항 연산자\n",
        "- Java : a = (조건) ? 참일때의 값 : 거짓일때의 값\n",
        "- 파이썬 a = 참일때의 값 if 조건 else 거짓일때의 값"
      ]
    },
    {
      "cell_type": "code",
      "metadata": {
        "colab": {
          "base_uri": "https://localhost:8080/",
          "height": 35
        },
        "id": "I8_NOaxQmc9a",
        "outputId": "8c2ddd53-d182-42ac-8ca5-1f5a9c34dfd8"
      },
      "source": [
        "x = 1\n",
        "if x % 2 == 0:\n",
        "    y = 'even'\n",
        "else:\n",
        "    y = 'odd'\n",
        "y"
      ],
      "execution_count": 2,
      "outputs": [
        {
          "output_type": "execute_result",
          "data": {
            "application/vnd.google.colaboratory.intrinsic+json": {
              "type": "string"
            },
            "text/plain": [
              "'odd'"
            ]
          },
          "metadata": {
            "tags": []
          },
          "execution_count": 2
        }
      ]
    },
    {
      "cell_type": "code",
      "metadata": {
        "colab": {
          "base_uri": "https://localhost:8080/",
          "height": 35
        },
        "id": "NTWV7dvsnBWT",
        "outputId": "71206728-d60f-4946-f934-48f15e492e3d"
      },
      "source": [
        "y = 'even' if x % 2 == 0 else 'odd'\n",
        "y"
      ],
      "execution_count": 3,
      "outputs": [
        {
          "output_type": "execute_result",
          "data": {
            "application/vnd.google.colaboratory.intrinsic+json": {
              "type": "string"
            },
            "text/plain": [
              "'odd'"
            ]
          },
          "metadata": {
            "tags": []
          },
          "execution_count": 3
        }
      ]
    },
    {
      "cell_type": "code",
      "metadata": {
        "colab": {
          "base_uri": "https://localhost:8080/"
        },
        "id": "_u_24w8ZnOZK",
        "outputId": "2ec7c660-a4a6-4e0a-baf3-1afb3df61430"
      },
      "source": [
        "# if 90점 이상이면 'A', 80 ~ 89 : B, 70 ~ 79 : C, 60 ~ 69 : D, ~59 :F\n",
        "score = int(input('점수 입력> '))"
      ],
      "execution_count": 4,
      "outputs": [
        {
          "output_type": "stream",
          "text": [
            "점수 입력> 82\n"
          ],
          "name": "stdout"
        }
      ]
    },
    {
      "cell_type": "code",
      "metadata": {
        "colab": {
          "base_uri": "https://localhost:8080/"
        },
        "id": "T9NcgEM3ooEE",
        "outputId": "c6fbbd04-e27d-444c-a429-28365255474d"
      },
      "source": [
        "if score >= 90:\n",
        "    grade = 'A'\n",
        "else:\n",
        "    if score >= 80:\n",
        "        grade = 'B'\n",
        "    else:\n",
        "        if score >= 70:\n",
        "            grade = 'C'\n",
        "        else:\n",
        "            if score >= 60:\n",
        "                grade ='D'\n",
        "            else:\n",
        "                grade = 'F'\n",
        "print(grade)"
      ],
      "execution_count": 7,
      "outputs": [
        {
          "output_type": "stream",
          "text": [
            "B\n"
          ],
          "name": "stdout"
        }
      ]
    },
    {
      "cell_type": "code",
      "metadata": {
        "colab": {
          "base_uri": "https://localhost:8080/",
          "height": 35
        },
        "id": "3L90MQkqpG3V",
        "outputId": "36e3f0ae-ba99-4207-c5dc-b3729c44a2b8"
      },
      "source": [
        "grade = 'A' if score >= 90 else \\\n",
        "            'B' if score >= 80 else \\\n",
        "                'C' if score >= 70 else \\\n",
        "                    'D' if score >= 60 else 'F' \n",
        "grade"
      ],
      "execution_count": 9,
      "outputs": [
        {
          "output_type": "execute_result",
          "data": {
            "application/vnd.google.colaboratory.intrinsic+json": {
              "type": "string"
            },
            "text/plain": [
              "'B'"
            ]
          },
          "metadata": {
            "tags": []
          },
          "execution_count": 9
        }
      ]
    },
    {
      "cell_type": "code",
      "metadata": {
        "colab": {
          "base_uri": "https://localhost:8080/",
          "height": 35
        },
        "id": "CptME-bNrBSH",
        "outputId": "ce0970d3-b595-4959-a1b1-dac36846a5e7"
      },
      "source": [
        "grade = 'A' if score >= 90 else 'B' if score >= 80 else 'C' if score >= 70 else 'D' if score >= 60 else 'F'\n",
        "grade"
      ],
      "execution_count": 10,
      "outputs": [
        {
          "output_type": "execute_result",
          "data": {
            "application/vnd.google.colaboratory.intrinsic+json": {
              "type": "string"
            },
            "text/plain": [
              "'B'"
            ]
          },
          "metadata": {
            "tags": []
          },
          "execution_count": 10
        }
      ]
    },
    {
      "cell_type": "markdown",
      "metadata": {
        "id": "OYsoK84ptn_m"
      },
      "source": [
        "### 조건식에서의 논리연산자"
      ]
    },
    {
      "cell_type": "code",
      "metadata": {
        "colab": {
          "base_uri": "https://localhost:8080/"
        },
        "id": "jvfSUfGLr57J",
        "outputId": "0366b299-ac62-4157-cc8a-96047639b49f"
      },
      "source": [
        "x = 5\n",
        "if x > 0 and x < 10:\n",
        "    print('10보다 작은 양의 정수입니다.')"
      ],
      "execution_count": 11,
      "outputs": [
        {
          "output_type": "stream",
          "text": [
            "10보다 작은 양의 정수입니다.\n"
          ],
          "name": "stdout"
        }
      ]
    },
    {
      "cell_type": "code",
      "metadata": {
        "colab": {
          "base_uri": "https://localhost:8080/"
        },
        "id": "9xgqVgbqusZ3",
        "outputId": "c07306af-88e1-4bd8-9b96-de9e3b8a4e60"
      },
      "source": [
        "if 0 < x < 10:\n",
        "    print('10보다 작은 양의 정수입니다.')"
      ],
      "execution_count": 12,
      "outputs": [
        {
          "output_type": "stream",
          "text": [
            "10보다 작은 양의 정수입니다.\n"
          ],
          "name": "stdout"
        }
      ]
    },
    {
      "cell_type": "code",
      "metadata": {
        "id": "7eUXxzh_u5qV"
      },
      "source": [
        ""
      ],
      "execution_count": null,
      "outputs": []
    }
  ]
}