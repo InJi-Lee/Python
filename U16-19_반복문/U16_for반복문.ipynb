{
  "nbformat": 4,
  "nbformat_minor": 0,
  "metadata": {
    "colab": {
      "name": "U16_for반복문.ipynb",
      "provenance": [],
      "collapsed_sections": []
    },
    "kernelspec": {
      "name": "python3",
      "display_name": "Python 3"
    },
    "language_info": {
      "name": "python"
    }
  },
  "cells": [
    {
      "cell_type": "markdown",
      "metadata": {
        "id": "RG48knOFs7uA"
      },
      "source": [
        "# Unit 16. for 반복문"
      ]
    },
    {
      "cell_type": "markdown",
      "metadata": {
        "id": "rXgxyrpOtEme"
      },
      "source": [
        "## 16.1 for와 range"
      ]
    },
    {
      "cell_type": "code",
      "metadata": {
        "colab": {
          "base_uri": "https://localhost:8080/"
        },
        "id": "hvaBm0iFs1Fi",
        "outputId": "6b03dbf7-4963-47e3-eed4-063543a692aa"
      },
      "source": [
        "for i in range(10):\n",
        "    print('Hello, world!')"
      ],
      "execution_count": 1,
      "outputs": [
        {
          "output_type": "stream",
          "text": [
            "Hello, world!\n",
            "Hello, world!\n",
            "Hello, world!\n",
            "Hello, world!\n",
            "Hello, world!\n",
            "Hello, world!\n",
            "Hello, world!\n",
            "Hello, world!\n",
            "Hello, world!\n",
            "Hello, world!\n"
          ],
          "name": "stdout"
        }
      ]
    },
    {
      "cell_type": "code",
      "metadata": {
        "colab": {
          "base_uri": "https://localhost:8080/"
        },
        "id": "Uvdnh9_RtcwV",
        "outputId": "6d7668de-d907-4742-b2fa-34c2f017686a"
      },
      "source": [
        "for i in range(10):\n",
        "    print('Hello, world!', i)"
      ],
      "execution_count": 2,
      "outputs": [
        {
          "output_type": "stream",
          "text": [
            "Hello, world! 0\n",
            "Hello, world! 1\n",
            "Hello, world! 2\n",
            "Hello, world! 3\n",
            "Hello, world! 4\n",
            "Hello, world! 5\n",
            "Hello, world! 6\n",
            "Hello, world! 7\n",
            "Hello, world! 8\n",
            "Hello, world! 9\n"
          ],
          "name": "stdout"
        }
      ]
    },
    {
      "cell_type": "code",
      "metadata": {
        "colab": {
          "base_uri": "https://localhost:8080/"
        },
        "id": "KsR6salCvPqw",
        "outputId": "c01ea655-43d5-4f87-af2d-a7d484a3b9df"
      },
      "source": [
        "for _ in range(5):\n",
        "    print('Hello, world!')"
      ],
      "execution_count": 4,
      "outputs": [
        {
          "output_type": "stream",
          "text": [
            "Hello, world!\n",
            "Hello, world!\n",
            "Hello, world!\n",
            "Hello, world!\n",
            "Hello, world!\n"
          ],
          "name": "stdout"
        }
      ]
    },
    {
      "cell_type": "markdown",
      "metadata": {
        "id": "D7eQkQKZx4qu"
      },
      "source": [
        "## 16.2 for와 range 응용"
      ]
    },
    {
      "cell_type": "code",
      "metadata": {
        "colab": {
          "base_uri": "https://localhost:8080/"
        },
        "id": "9g12ckxmvgt2",
        "outputId": "fefc5aaf-289c-402c-ccef-ef3886c98074"
      },
      "source": [
        "for i in range(6,10):\n",
        "    print('Hello, world!',i)"
      ],
      "execution_count": 5,
      "outputs": [
        {
          "output_type": "stream",
          "text": [
            "Hello, world! 6\n",
            "Hello, world! 7\n",
            "Hello, world! 8\n",
            "Hello, world! 9\n"
          ],
          "name": "stdout"
        }
      ]
    },
    {
      "cell_type": "code",
      "metadata": {
        "colab": {
          "base_uri": "https://localhost:8080/"
        },
        "id": "xyAuFmUnyPQi",
        "outputId": "ce5dac1f-876c-41c5-8d1b-107d425d3cda"
      },
      "source": [
        "for i in range(0,10,2):\n",
        "    print('Hello, world!',i)"
      ],
      "execution_count": 6,
      "outputs": [
        {
          "output_type": "stream",
          "text": [
            "Hello, world! 0\n",
            "Hello, world! 2\n",
            "Hello, world! 4\n",
            "Hello, world! 6\n",
            "Hello, world! 8\n"
          ],
          "name": "stdout"
        }
      ]
    },
    {
      "cell_type": "code",
      "metadata": {
        "colab": {
          "base_uri": "https://localhost:8080/"
        },
        "id": "zMhxZBZbyUES",
        "outputId": "27ac44a3-5dcb-4c37-c5bb-6d45edc7f7cd"
      },
      "source": [
        "for i in range(10,0,-2):\n",
        "    print('Hello, world!',i)"
      ],
      "execution_count": 7,
      "outputs": [
        {
          "output_type": "stream",
          "text": [
            "Hello, world! 10\n",
            "Hello, world! 8\n",
            "Hello, world! 6\n",
            "Hello, world! 4\n",
            "Hello, world! 2\n"
          ],
          "name": "stdout"
        }
      ]
    },
    {
      "cell_type": "code",
      "metadata": {
        "colab": {
          "base_uri": "https://localhost:8080/"
        },
        "id": "zVIfEuJ8yb-Y",
        "outputId": "1685011c-cb76-4820-a4eb-67d0cf1a5a10"
      },
      "source": [
        "for i in range(1,101):\n",
        "    print('fizz'*(i%3==0) + 'buzz'*(i%5==0) or i, end=' ')\n",
        "    if (i % 10 == 0):\n",
        "        print()"
      ],
      "execution_count": 9,
      "outputs": [
        {
          "output_type": "stream",
          "text": [
            "1 2 fizz 4 buzz fizz 7 8 fizz buzz \n",
            "11 fizz 13 14 fizzbuzz 16 17 fizz 19 buzz \n",
            "fizz 22 23 fizz buzz 26 fizz 28 29 fizzbuzz \n",
            "31 32 fizz 34 buzz fizz 37 38 fizz buzz \n",
            "41 fizz 43 44 fizzbuzz 46 47 fizz 49 buzz \n",
            "fizz 52 53 fizz buzz 56 fizz 58 59 fizzbuzz \n",
            "61 62 fizz 64 buzz fizz 67 68 fizz buzz \n",
            "71 fizz 73 74 fizzbuzz 76 77 fizz 79 buzz \n",
            "fizz 82 83 fizz buzz 86 fizz 88 89 fizzbuzz \n",
            "91 92 fizz 94 buzz fizz 97 98 fizz buzz \n"
          ],
          "name": "stdout"
        }
      ]
    },
    {
      "cell_type": "markdown",
      "metadata": {
        "id": "noohGkpA0DiL"
      },
      "source": [
        "## 16.3 시퀀스 객체 반복\n",
        "- 변수는 소문자로 시작\n",
        "- class는 대문자로 시작\n",
        "- ex) camelNotation - Java<br>\n",
        "  snake_notation - Python"
      ]
    },
    {
      "cell_type": "code",
      "metadata": {
        "colab": {
          "base_uri": "https://localhost:8080/"
        },
        "id": "2rgS8-yUzKyl",
        "outputId": "76734d39-265e-4c54-8631-2d1c457f99ee"
      },
      "source": [
        "fruits = ['apple', 'banana', 'cherry']\n",
        "for element in fruits:\n",
        "    print(element)"
      ],
      "execution_count": 10,
      "outputs": [
        {
          "output_type": "stream",
          "text": [
            "apple\n",
            "banana\n",
            "cherry\n"
          ],
          "name": "stdout"
        }
      ]
    },
    {
      "cell_type": "code",
      "metadata": {
        "colab": {
          "base_uri": "https://localhost:8080/"
        },
        "id": "jSIb5JKr0h9E",
        "outputId": "9fe4e916-4a10-4695-dcaa-f65807951232"
      },
      "source": [
        "fruit_list = ['apple', 'banana', 'cherry']\n",
        "for fruit in fruits:\n",
        "    print(fruit)"
      ],
      "execution_count": 11,
      "outputs": [
        {
          "output_type": "stream",
          "text": [
            "apple\n",
            "banana\n",
            "cherry\n"
          ],
          "name": "stdout"
        }
      ]
    },
    {
      "cell_type": "code",
      "metadata": {
        "colab": {
          "base_uri": "https://localhost:8080/"
        },
        "id": "-yJP1YF90w1D",
        "outputId": "4589822d-6f60-4199-d77b-0ae5a9d1910b"
      },
      "source": [
        "for letter in 'Python':\n",
        "    print(letter, end=' ')"
      ],
      "execution_count": 14,
      "outputs": [
        {
          "output_type": "stream",
          "text": [
            "P y t h o n "
          ],
          "name": "stdout"
        }
      ]
    },
    {
      "cell_type": "code",
      "metadata": {
        "colab": {
          "base_uri": "https://localhost:8080/"
        },
        "id": "ADvAZDeo2ZcC",
        "outputId": "68c05053-6e1b-4fa7-b69a-4c15095cb959"
      },
      "source": [
        "for letter in reversed('Python'):\n",
        "    print(letter, end =' ')"
      ],
      "execution_count": 16,
      "outputs": [
        {
          "output_type": "stream",
          "text": [
            "n o h t y P "
          ],
          "name": "stdout"
        }
      ]
    },
    {
      "cell_type": "code",
      "metadata": {
        "colab": {
          "base_uri": "https://localhost:8080/"
        },
        "id": "ydPyHczQ2vg3",
        "outputId": "05e85882-9ee6-4cc2-8675-4a5175bfca0a"
      },
      "source": [
        "for number in (10, 20 ,30):\n",
        "    print(number)"
      ],
      "execution_count": 17,
      "outputs": [
        {
          "output_type": "stream",
          "text": [
            "10\n",
            "20\n",
            "30\n"
          ],
          "name": "stdout"
        }
      ]
    },
    {
      "cell_type": "markdown",
      "metadata": {
        "id": "6Vjh8kTh3ipn"
      },
      "source": [
        "### Perfect Number\n",
        "- 자기자신을 제외한 약수의 합이 자기자신과 같은 수<br>\n",
        "#### ex) 6의 약수 : 1, 2, 3, 6<br>\n",
        "####     1 + 2 + 3 = 6\n",
        "- 10000이하의 자연수 중에서는 4개"
      ]
    },
    {
      "cell_type": "code",
      "metadata": {
        "colab": {
          "base_uri": "https://localhost:8080/"
        },
        "id": "oATfGJvY3D32",
        "outputId": "f96aeb61-ec07-40bf-b030-994bd08c210b"
      },
      "source": [
        "for i in range(2, 11):\n",
        "    for k in range(1, i):\n",
        "        if i % k == 0:\n",
        "            print(f'{k}은/는 {i}의 약수')"
      ],
      "execution_count": 18,
      "outputs": [
        {
          "output_type": "stream",
          "text": [
            "1은/는 2의 약수\n",
            "1은/는 3의 약수\n",
            "1은/는 4의 약수\n",
            "2은/는 4의 약수\n",
            "1은/는 5의 약수\n",
            "1은/는 6의 약수\n",
            "2은/는 6의 약수\n",
            "3은/는 6의 약수\n",
            "1은/는 7의 약수\n",
            "1은/는 8의 약수\n",
            "2은/는 8의 약수\n",
            "4은/는 8의 약수\n",
            "1은/는 9의 약수\n",
            "3은/는 9의 약수\n",
            "1은/는 10의 약수\n",
            "2은/는 10의 약수\n",
            "5은/는 10의 약수\n"
          ],
          "name": "stdout"
        }
      ]
    },
    {
      "cell_type": "code",
      "metadata": {
        "colab": {
          "base_uri": "https://localhost:8080/"
        },
        "id": "B2hCOe485gQD",
        "outputId": "21ca9be6-401d-4058-973e-43f46951faee"
      },
      "source": [
        "for i in range(2, 10001):\n",
        "    sum_of_divisor = 0   # for문에서 루프될 때 '약수의 합'이라는 변수를 초기화\n",
        "    for k in range(1, i):\n",
        "      if i % k == 0:\n",
        "          sum_of_divisor += k\n",
        "    if i == sum_of_divisor:\n",
        "        print(i)"
      ],
      "execution_count": 22,
      "outputs": [
        {
          "output_type": "stream",
          "text": [
            "6\n",
            "28\n",
            "496\n",
            "8128\n"
          ],
          "name": "stdout"
        }
      ]
    },
    {
      "cell_type": "code",
      "metadata": {
        "id": "mxjPuUMA8kIP"
      },
      "source": [
        ""
      ],
      "execution_count": null,
      "outputs": []
    }
  ]
}