{
  "nbformat": 4,
  "nbformat_minor": 0,
  "metadata": {
    "colab": {
      "name": "U17_while반복문.ipynb",
      "provenance": [],
      "collapsed_sections": []
    },
    "kernelspec": {
      "name": "python3",
      "display_name": "Python 3"
    },
    "language_info": {
      "name": "python"
    }
  },
  "cells": [
    {
      "cell_type": "markdown",
      "metadata": {
        "id": "eovNclESA9Nf"
      },
      "source": [
        "# Unit 17. while 반복문"
      ]
    },
    {
      "cell_type": "markdown",
      "metadata": {
        "id": "bgs1O61ZBDwO"
      },
      "source": [
        "## 17.1 while 반복문\n",
        "- while 조건:<br>\n",
        "    조건이 참인 동안 loop를 반복\n",
        "- 반복횟수가 정해져 있는 반복문은 while을 쓰지 않는다."
      ]
    },
    {
      "cell_type": "markdown",
      "metadata": {
        "id": "O7Exw9RnCAsH"
      },
      "source": [
        "## 17.2 반복횟수가 없는 while 반복문"
      ]
    },
    {
      "cell_type": "code",
      "metadata": {
        "id": "LcEWFmAXAqbl"
      },
      "source": [
        "import random #random 모듈을 가지고 옴"
      ],
      "execution_count": 1,
      "outputs": []
    },
    {
      "cell_type": "code",
      "metadata": {
        "colab": {
          "base_uri": "https://localhost:8080/"
        },
        "id": "ULpKMB_3CZx3",
        "outputId": "288fa567-c7f3-4136-fb32-745c449b8b26"
      },
      "source": [
        "random.random()"
      ],
      "execution_count": 2,
      "outputs": [
        {
          "output_type": "execute_result",
          "data": {
            "text/plain": [
              "0.8319473142467637"
            ]
          },
          "metadata": {
            "tags": []
          },
          "execution_count": 2
        }
      ]
    },
    {
      "cell_type": "code",
      "metadata": {
        "colab": {
          "base_uri": "https://localhost:8080/"
        },
        "id": "bOh4_1yFCdHO",
        "outputId": "23c31e25-ac59-4bd7-fb21-0b6501e9ffd2"
      },
      "source": [
        "random.randint(1, 6)  #정해진 범위내에서 랜덤"
      ],
      "execution_count": 3,
      "outputs": [
        {
          "output_type": "execute_result",
          "data": {
            "text/plain": [
              "6"
            ]
          },
          "metadata": {
            "tags": []
          },
          "execution_count": 3
        }
      ]
    },
    {
      "cell_type": "code",
      "metadata": {
        "colab": {
          "base_uri": "https://localhost:8080/"
        },
        "id": "fLUg2TbjCjau",
        "outputId": "13cdd4c9-0aac-4d9f-88f2-ea8cdd66a9be"
      },
      "source": [
        "i = 0\n",
        "while i != 3:   #3이 아닐 때를 계속 반복/ 마지막에 3이 나오면 반복 끝\n",
        "    i = random.randint(1, 6)\n",
        "    print(i)"
      ],
      "execution_count": 4,
      "outputs": [
        {
          "output_type": "stream",
          "text": [
            "6\n",
            "3\n"
          ],
          "name": "stdout"
        }
      ]
    },
    {
      "cell_type": "code",
      "metadata": {
        "colab": {
          "base_uri": "https://localhost:8080/"
        },
        "id": "_7AxBz4fDM12",
        "outputId": "de19d813-3aca-4275-c930-3c9c340e3951"
      },
      "source": [
        "i = 0\n",
        "dice = list(range(1, 7))  #=1,2,3,4,5,6\n",
        "while i != 3:\n",
        "    i = random.choice(dice)\n",
        "    print(i)"
      ],
      "execution_count": 6,
      "outputs": [
        {
          "output_type": "stream",
          "text": [
            "2\n",
            "1\n",
            "6\n",
            "1\n",
            "6\n",
            "2\n",
            "4\n",
            "1\n",
            "4\n",
            "4\n",
            "5\n",
            "2\n",
            "6\n",
            "6\n",
            "3\n"
          ],
          "name": "stdout"
        }
      ]
    },
    {
      "cell_type": "code",
      "metadata": {
        "colab": {
          "base_uri": "https://localhost:8080/"
        },
        "id": "j3SzXjuUDjF6",
        "outputId": "618b3dac-ac27-48d7-f9f3-4ea81e1f5eff"
      },
      "source": [
        "random.sample(dice, 6)"
      ],
      "execution_count": 7,
      "outputs": [
        {
          "output_type": "execute_result",
          "data": {
            "text/plain": [
              "[4, 5, 3, 2, 1, 6]"
            ]
          },
          "metadata": {
            "tags": []
          },
          "execution_count": 7
        }
      ]
    },
    {
      "cell_type": "code",
      "metadata": {
        "id": "MxtbEzqlEJvx"
      },
      "source": [
        ""
      ],
      "execution_count": null,
      "outputs": []
    }
  ]
}