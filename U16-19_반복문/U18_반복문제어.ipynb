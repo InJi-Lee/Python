{
  "nbformat": 4,
  "nbformat_minor": 0,
  "metadata": {
    "colab": {
      "name": "U18_반복문제어.ipynb",
      "provenance": [],
      "collapsed_sections": []
    },
    "kernelspec": {
      "name": "python3",
      "display_name": "Python 3"
    },
    "language_info": {
      "name": "python"
    }
  },
  "cells": [
    {
      "cell_type": "markdown",
      "metadata": {
        "id": "BUeEVxPZErdl"
      },
      "source": [
        "# Unit.18 break, continue"
      ]
    },
    {
      "cell_type": "markdown",
      "metadata": {
        "id": "5ZRHrgbIE580"
      },
      "source": [
        "## 18.1 break"
      ]
    },
    {
      "cell_type": "code",
      "metadata": {
        "id": "ig9fiW3KEmcv"
      },
      "source": [
        "import random"
      ],
      "execution_count": null,
      "outputs": []
    },
    {
      "cell_type": "code",
      "metadata": {
        "colab": {
          "base_uri": "https://localhost:8080/"
        },
        "id": "dkn-b1eOFBJm",
        "outputId": "b00772b1-f817-40b7-de4c-84d869115070"
      },
      "source": [
        "while True:   # 무한 루프\n",
        "    i = random.randint(1, 6)\n",
        "    print(i)\n",
        "    if i == 3:     # 만약 i가 3이면 break\n",
        "        break"
      ],
      "execution_count": null,
      "outputs": [
        {
          "output_type": "stream",
          "text": [
            "5\n",
            "4\n",
            "5\n",
            "6\n",
            "5\n",
            "4\n",
            "3\n"
          ],
          "name": "stdout"
        }
      ]
    },
    {
      "cell_type": "code",
      "metadata": {
        "colab": {
          "base_uri": "https://localhost:8080/"
        },
        "id": "OeZUPHCbFNi3",
        "outputId": "aab5be7c-0525-49f0-9430-9025659c5322"
      },
      "source": [
        "for i in range(5):\n",
        "    print(i, end=' ')\n",
        "    for k in range(5):\n",
        "        print('*', end='')\n",
        "        if i==k:\n",
        "            break\n",
        "    print()"
      ],
      "execution_count": null,
      "outputs": [
        {
          "output_type": "stream",
          "text": [
            "0 *\n",
            "1 **\n",
            "2 ***\n",
            "3 ****\n",
            "4 *****\n"
          ],
          "name": "stdout"
        }
      ]
    },
    {
      "cell_type": "markdown",
      "metadata": {
        "id": "AmP1GyVpHQy9"
      },
      "source": [
        "## 18.2 continue"
      ]
    },
    {
      "cell_type": "code",
      "metadata": {
        "colab": {
          "base_uri": "https://localhost:8080/"
        },
        "id": "NKaK3-A1GGZg",
        "outputId": "8b67b439-a25d-43ab-9cf5-f24aeefc4ca5"
      },
      "source": [
        "for i in range(10): # 0부터 9까지 증가하면서 10번 반복\n",
        "    if i % 2 == 0:  # i를 2로 나누었을 때 나머지가 0이면 짝수\n",
        "        continue    # 아래 코드를 실행하지 않고 건너뜀\n",
        "    print(i)"
      ],
      "execution_count": null,
      "outputs": [
        {
          "output_type": "stream",
          "text": [
            "1\n",
            "3\n",
            "5\n",
            "7\n",
            "9\n"
          ],
          "name": "stdout"
        }
      ]
    },
    {
      "cell_type": "code",
      "metadata": {
        "id": "gMJXmk_PHmxB"
      },
      "source": [
        ""
      ],
      "execution_count": null,
      "outputs": []
    }
  ]
}