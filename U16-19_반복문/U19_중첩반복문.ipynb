{
  "nbformat": 4,
  "nbformat_minor": 0,
  "metadata": {
    "colab": {
      "name": "U19_중첩반복문.ipynb",
      "provenance": [],
      "collapsed_sections": []
    },
    "kernelspec": {
      "name": "python3",
      "display_name": "Python 3"
    },
    "language_info": {
      "name": "python"
    }
  },
  "cells": [
    {
      "cell_type": "markdown",
      "metadata": {
        "id": "ANadvou_bLBV"
      },
      "source": [
        "# Unit 19. 중첩 반복문"
      ]
    },
    {
      "cell_type": "markdown",
      "metadata": {
        "id": "g2ItzPRkbTO_"
      },
      "source": [
        "## 19.1 중첩(Nested) for loop"
      ]
    },
    {
      "cell_type": "code",
      "metadata": {
        "colab": {
          "base_uri": "https://localhost:8080/"
        },
        "id": "CribmHe-bKEF",
        "outputId": "95a9954b-11d7-4529-acef-3e2a9323068c"
      },
      "source": [
        "for i in range(1, 6):     # 바깥쪽 루프는 세로방향\n",
        "    for k in range(10, 60, 10):   # 안쪽 루프는 가로방향\n",
        "        print(k, end=' ')\n",
        "    print(i)"
      ],
      "execution_count": 1,
      "outputs": [
        {
          "output_type": "stream",
          "text": [
            "10 20 30 40 50 0\n",
            "10 20 30 40 50 1\n",
            "10 20 30 40 50 2\n",
            "10 20 30 40 50 3\n",
            "10 20 30 40 50 4\n"
          ],
          "name": "stdout"
        }
      ]
    },
    {
      "cell_type": "markdown",
      "metadata": {
        "id": "2FlGRv3Rcusc"
      },
      "source": [
        "## 19.2 별 사각형"
      ]
    },
    {
      "cell_type": "code",
      "metadata": {
        "colab": {
          "base_uri": "https://localhost:8080/"
        },
        "id": "U1mcTaiEcW7L",
        "outputId": "45dd9058-11e5-44e3-c6e5-3833eb9822fa"
      },
      "source": [
        "for i in range(5):\n",
        "    for k in range(5):\n",
        "        print('*', end='')\n",
        "    print()"
      ],
      "execution_count": 2,
      "outputs": [
        {
          "output_type": "stream",
          "text": [
            "*****\n",
            "*****\n",
            "*****\n",
            "*****\n",
            "*****\n"
          ],
          "name": "stdout"
        }
      ]
    },
    {
      "cell_type": "code",
      "metadata": {
        "colab": {
          "base_uri": "https://localhost:8080/"
        },
        "id": "QVr2jFJUc82R",
        "outputId": "82d5729e-83ad-4a94-93d3-fdd4a1b05939"
      },
      "source": [
        "# 평행사변형\n",
        "for i in range(4):\n",
        "    for k in range(0, i):    # blank\n",
        "        print(' ', end='')\n",
        "    for _ in range(5):\n",
        "        print('*', end='')\n",
        "    print()"
      ],
      "execution_count": 3,
      "outputs": [
        {
          "output_type": "stream",
          "text": [
            "*****\n",
            " *****\n",
            "  *****\n",
            "   *****\n"
          ],
          "name": "stdout"
        }
      ]
    },
    {
      "cell_type": "code",
      "metadata": {
        "id": "K21RyYaPecc8"
      },
      "source": [
        "for i in range(0, 0):\n",
        "    print('*')"
      ],
      "execution_count": 4,
      "outputs": []
    },
    {
      "cell_type": "code",
      "metadata": {
        "colab": {
          "base_uri": "https://localhost:8080/"
        },
        "id": "VbERwaufet3Q",
        "outputId": "8b5684e2-3db1-41c9-8e41-9e97b56f5c3c"
      },
      "source": [
        "for i in range(4):\n",
        "    print(' '*i, '*'*5, sep='')"
      ],
      "execution_count": 7,
      "outputs": [
        {
          "output_type": "stream",
          "text": [
            "*****\n",
            " *****\n",
            "  *****\n",
            "   *****\n"
          ],
          "name": "stdout"
        }
      ]
    },
    {
      "cell_type": "markdown",
      "metadata": {
        "id": "ebseOlhbfL15"
      },
      "source": [
        "## 19.3 계단식 별 모양"
      ]
    },
    {
      "cell_type": "code",
      "metadata": {
        "colab": {
          "base_uri": "https://localhost:8080/"
        },
        "id": "J61ZtTpue64U",
        "outputId": "d244d0ad-e015-4122-879f-5850289a0a54"
      },
      "source": [
        "for i in range(5):\n",
        "    for _ in range(i+1):\n",
        "        print('*', end='')\n",
        "    print()"
      ],
      "execution_count": 8,
      "outputs": [
        {
          "output_type": "stream",
          "text": [
            "*\n",
            "**\n",
            "***\n",
            "****\n",
            "*****\n"
          ],
          "name": "stdout"
        }
      ]
    },
    {
      "cell_type": "code",
      "metadata": {
        "colab": {
          "base_uri": "https://localhost:8080/"
        },
        "id": "8Jgm3Elxg2Md",
        "outputId": "48faa507-3e16-4b40-c8a8-2c1e29a19bc6"
      },
      "source": [
        "for i in range(5):\n",
        "    print('*' * (i+1))"
      ],
      "execution_count": 10,
      "outputs": [
        {
          "output_type": "stream",
          "text": [
            "*\n",
            "**\n",
            "***\n",
            "****\n",
            "*****\n"
          ],
          "name": "stdout"
        }
      ]
    },
    {
      "cell_type": "code",
      "metadata": {
        "colab": {
          "base_uri": "https://localhost:8080/"
        },
        "id": "KTgnL-Njfz0Y",
        "outputId": "8f0e3dd1-8a16-448d-df6d-c535bafbb8fc"
      },
      "source": [
        "for i in range(5):\n",
        "    for _ in range(i):\n",
        "        print(' ', end='')\n",
        "    for k in range(5-i):\n",
        "        print('*', end='')\n",
        "    print()"
      ],
      "execution_count": 9,
      "outputs": [
        {
          "output_type": "stream",
          "text": [
            "*****\n",
            " ****\n",
            "  ***\n",
            "   **\n",
            "    *\n"
          ],
          "name": "stdout"
        }
      ]
    },
    {
      "cell_type": "code",
      "metadata": {
        "colab": {
          "base_uri": "https://localhost:8080/"
        },
        "id": "cneQHuA6grf1",
        "outputId": "9cd9d753-99e7-4395-a7fc-b055b29eb5f6"
      },
      "source": [
        "for i in range(5):\n",
        "    print(' ' * i, '*' * (5-i), sep='')"
      ],
      "execution_count": 11,
      "outputs": [
        {
          "output_type": "stream",
          "text": [
            "*****\n",
            " ****\n",
            "  ***\n",
            "   **\n",
            "    *\n"
          ],
          "name": "stdout"
        }
      ]
    },
    {
      "cell_type": "code",
      "metadata": {
        "colab": {
          "base_uri": "https://localhost:8080/"
        },
        "id": "HNsdulUBhS6D",
        "outputId": "d0847afd-c32a-440c-e6f8-3e7d47bf0e0d"
      },
      "source": [
        "# 내가 만든 마름모\n",
        "for i in range(6):\n",
        "    print(' ' * (5-i) + '*' * (i*2-1), sep='')\n",
        "for k in range(4, 0, -1):\n",
        "    print(' ' * (5-k) + '*' * (k*2-1), sep='')"
      ],
      "execution_count": 33,
      "outputs": [
        {
          "output_type": "stream",
          "text": [
            "     \n",
            "    *\n",
            "   ***\n",
            "  *****\n",
            " *******\n",
            "*********\n",
            " *******\n",
            "  *****\n",
            "   ***\n",
            "    *\n"
          ],
          "name": "stdout"
        }
      ]
    },
    {
      "cell_type": "code",
      "metadata": {
        "colab": {
          "base_uri": "https://localhost:8080/"
        },
        "id": "ti7_Pg_Vjl0-",
        "outputId": "02019d9e-50fc-467c-fc5b-6e7ede215efa"
      },
      "source": [
        "# 별 마름모\n",
        "for i in range(5):\n",
        "    for _ in range(4-i):\n",
        "        print(' ', end='')\n",
        "    for _ in range(2*i+1):\n",
        "        print('*', end='')\n",
        "    print()\n",
        "for i in range(4):\n",
        "    for _ in range(i+1):\n",
        "        print(' ', end='')\n",
        "    for _ in range(7-2*i):\n",
        "        print('*', end='')\n",
        "    print()"
      ],
      "execution_count": 22,
      "outputs": [
        {
          "output_type": "stream",
          "text": [
            "    *\n",
            "   ***\n",
            "  *****\n",
            " *******\n",
            "*********\n",
            " *******\n",
            "  *****\n",
            "   ***\n",
            "    *\n"
          ],
          "name": "stdout"
        }
      ]
    },
    {
      "cell_type": "code",
      "metadata": {
        "colab": {
          "base_uri": "https://localhost:8080/"
        },
        "id": "Y3tqG0xLlEiI",
        "outputId": "b277fb8a-dd06-4a76-9d9b-d9e0bd9f9d1a"
      },
      "source": [
        "for i in range(5):\n",
        "    print(' ' * (4-i), '*' * (2*i+1), sep='')\n",
        "for i in range(4):\n",
        "    print(' ' * (i+1), '*' * (7-2*i), sep='')"
      ],
      "execution_count": 25,
      "outputs": [
        {
          "output_type": "stream",
          "text": [
            "    *\n",
            "   ***\n",
            "  *****\n",
            " *******\n",
            "*********\n",
            " *******\n",
            "  *****\n",
            "   ***\n",
            "    *\n"
          ],
          "name": "stdout"
        }
      ]
    },
    {
      "cell_type": "code",
      "metadata": {
        "id": "yQ6hlPyfmW7X"
      },
      "source": [
        ""
      ],
      "execution_count": null,
      "outputs": []
    }
  ]
}