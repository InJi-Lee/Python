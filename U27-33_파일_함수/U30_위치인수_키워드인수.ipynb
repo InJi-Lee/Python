{
  "nbformat": 4,
  "nbformat_minor": 0,
  "metadata": {
    "colab": {
      "name": "U30_위치인수_키워드인수.ipynb",
      "provenance": [],
      "collapsed_sections": []
    },
    "kernelspec": {
      "name": "python3",
      "display_name": "Python 3"
    },
    "language_info": {
      "name": "python"
    }
  },
  "cells": [
    {
      "cell_type": "markdown",
      "metadata": {
        "id": "7Ubkatwbfoau"
      },
      "source": [
        "# Unit 30. 위치 인수와 키워드 인수"
      ]
    },
    {
      "cell_type": "markdown",
      "metadata": {
        "id": "UzO2PblKfxbB"
      },
      "source": [
        "## 30.1 위치 인수"
      ]
    },
    {
      "cell_type": "code",
      "metadata": {
        "id": "nYPoinyJgk43"
      },
      "source": [
        "def print_numbers(a,b,c):\n",
        "    print(a)\n",
        "    print(b)\n",
        "    print(c)"
      ],
      "execution_count": 1,
      "outputs": []
    },
    {
      "cell_type": "code",
      "metadata": {
        "colab": {
          "base_uri": "https://localhost:8080/"
        },
        "id": "VsHoW1CahASL",
        "outputId": "8a41a4a2-b5a0-4159-8006-cd3baadcc999"
      },
      "source": [
        "print_numbers(10,20,30)"
      ],
      "execution_count": 2,
      "outputs": [
        {
          "output_type": "stream",
          "text": [
            "10\n",
            "20\n",
            "30\n"
          ],
          "name": "stdout"
        }
      ]
    },
    {
      "cell_type": "code",
      "metadata": {
        "colab": {
          "base_uri": "https://localhost:8080/"
        },
        "id": "s5NQ9OcXhEBO",
        "outputId": "e51f2dc0-a4fd-448a-8fef-5e995300dc5d"
      },
      "source": [
        "# *x - 리스트/튜플 언패킹\n",
        "x, y = [10, 20, 30], (40, 50, 60)\n",
        "print_numbers(*x)\n",
        "print_numbers(*y)"
      ],
      "execution_count": 5,
      "outputs": [
        {
          "output_type": "stream",
          "text": [
            "10\n",
            "20\n",
            "30\n",
            "40\n",
            "50\n",
            "60\n"
          ],
          "name": "stdout"
        }
      ]
    },
    {
      "cell_type": "markdown",
      "metadata": {
        "id": "nDfFxSjihwPT"
      },
      "source": [
        "### 가변 인수 함수"
      ]
    },
    {
      "cell_type": "code",
      "metadata": {
        "id": "WFh2PeQNhL1c"
      },
      "source": [
        "def print_numbers2(*args):\n",
        "    for arg in args:\n",
        "        print(arg)"
      ],
      "execution_count": 9,
      "outputs": []
    },
    {
      "cell_type": "code",
      "metadata": {
        "colab": {
          "base_uri": "https://localhost:8080/"
        },
        "id": "kvVIy74Oh9qx",
        "outputId": "690fe263-3602-4f17-f842-fcbc71fe5da4"
      },
      "source": [
        "print_numbers2(10, 20, 30,40)"
      ],
      "execution_count": 10,
      "outputs": [
        {
          "output_type": "stream",
          "text": [
            "10\n",
            "20\n",
            "30\n",
            "40\n"
          ],
          "name": "stdout"
        }
      ]
    },
    {
      "cell_type": "code",
      "metadata": {
        "colab": {
          "base_uri": "https://localhost:8080/"
        },
        "id": "WhYZ5R_diEa7",
        "outputId": "c40a7a72-e2e7-4736-9342-ddf43b4a5f5a"
      },
      "source": [
        "print_numbers2(10)"
      ],
      "execution_count": 11,
      "outputs": [
        {
          "output_type": "stream",
          "text": [
            "10\n"
          ],
          "name": "stdout"
        }
      ]
    },
    {
      "cell_type": "markdown",
      "metadata": {
        "id": "F7cy3dWciPWv"
      },
      "source": [
        "### 고정 인수와 가변 인수"
      ]
    },
    {
      "cell_type": "code",
      "metadata": {
        "id": "2rRiq7cJiHdF"
      },
      "source": [
        "def print_numbers3(a, *args):\n",
        "    print(a)\n",
        "    print(args)"
      ],
      "execution_count": 12,
      "outputs": []
    },
    {
      "cell_type": "code",
      "metadata": {
        "colab": {
          "base_uri": "https://localhost:8080/"
        },
        "id": "P1qSuraiiq-M",
        "outputId": "f80586a8-da2b-4610-a732-a53c30bedf81"
      },
      "source": [
        "print_numbers3(1, 10, 20)"
      ],
      "execution_count": 13,
      "outputs": [
        {
          "output_type": "stream",
          "text": [
            "1\n",
            "(10, 20)\n"
          ],
          "name": "stdout"
        }
      ]
    },
    {
      "cell_type": "code",
      "metadata": {
        "colab": {
          "base_uri": "https://localhost:8080/"
        },
        "id": "-f6D-zUwivIy",
        "outputId": "6facdc7e-6fa8-4e69-8807-60108e97a9d6"
      },
      "source": [
        "print_numbers3(*x)"
      ],
      "execution_count": 14,
      "outputs": [
        {
          "output_type": "stream",
          "text": [
            "10\n",
            "(20, 30)\n"
          ],
          "name": "stdout"
        }
      ]
    },
    {
      "cell_type": "code",
      "metadata": {
        "id": "e6ler7uZjAT2"
      },
      "source": [
        "# *args(가변)이 a(고정)보다 먼저 나올 수 없다\n",
        "def print_numbers4(*args, a):   \n",
        "    print(args)\n",
        "    print(a)"
      ],
      "execution_count": 15,
      "outputs": []
    },
    {
      "cell_type": "code",
      "metadata": {
        "colab": {
          "base_uri": "https://localhost:8080/",
          "height": 172
        },
        "id": "LTApI4CTjWzS",
        "outputId": "c7373b62-8fd5-4586-f7b5-23752a1e55fb"
      },
      "source": [
        "print_numbers4(*x)"
      ],
      "execution_count": 16,
      "outputs": [
        {
          "output_type": "error",
          "ename": "TypeError",
          "evalue": "ignored",
          "traceback": [
            "\u001b[0;31m---------------------------------------------------------------------------\u001b[0m",
            "\u001b[0;31mTypeError\u001b[0m                                 Traceback (most recent call last)",
            "\u001b[0;32m<ipython-input-16-c9aba5af1127>\u001b[0m in \u001b[0;36m<module>\u001b[0;34m()\u001b[0m\n\u001b[0;32m----> 1\u001b[0;31m \u001b[0mprint_numbers4\u001b[0m\u001b[0;34m(\u001b[0m\u001b[0;34m*\u001b[0m\u001b[0mx\u001b[0m\u001b[0;34m)\u001b[0m\u001b[0;34m\u001b[0m\u001b[0;34m\u001b[0m\u001b[0m\n\u001b[0m",
            "\u001b[0;31mTypeError\u001b[0m: print_numbers4() missing 1 required keyword-only argument: 'a'"
          ]
        }
      ]
    },
    {
      "cell_type": "markdown",
      "metadata": {
        "id": "LwYm3ocDmU_I"
      },
      "source": [
        "## 30.2 키워드 인수"
      ]
    },
    {
      "cell_type": "code",
      "metadata": {
        "id": "QWJHXNbajcus"
      },
      "source": [
        "def personal_info(name, age, addr):\n",
        "    print('이름:', name)\n",
        "    print('나이:', age)\n",
        "    print('주소:', addr)"
      ],
      "execution_count": 17,
      "outputs": []
    },
    {
      "cell_type": "code",
      "metadata": {
        "colab": {
          "base_uri": "https://localhost:8080/"
        },
        "id": "uaWmHDy3mxZs",
        "outputId": "25dafd80-3f80-4ea0-ebea-fb96f84ef477"
      },
      "source": [
        "personal_info('홍길동',30,'서울 강남구 도곡동')"
      ],
      "execution_count": 18,
      "outputs": [
        {
          "output_type": "stream",
          "text": [
            "이름: 홍길동\n",
            "나이: 30\n",
            "주소: 서울 강남구 도곡동\n"
          ],
          "name": "stdout"
        }
      ]
    },
    {
      "cell_type": "code",
      "metadata": {
        "colab": {
          "base_uri": "https://localhost:8080/"
        },
        "id": "6wmGxTkgm_vO",
        "outputId": "0206d8d0-e8e8-4d42-97d8-b421bf427300"
      },
      "source": [
        "personal_info(age=30, addr='서울 강남구 도곡동', name='홍길동')"
      ],
      "execution_count": 19,
      "outputs": [
        {
          "output_type": "stream",
          "text": [
            "이름: 홍길동\n",
            "나이: 30\n",
            "주소: 서울 강남구 도곡동\n"
          ],
          "name": "stdout"
        }
      ]
    },
    {
      "cell_type": "markdown",
      "metadata": {
        "id": "P54UwGfsnZPG"
      },
      "source": [
        "## 30.3 키워드 인수와 딕셔너리 언패킹\n"
      ]
    },
    {
      "cell_type": "code",
      "metadata": {
        "colab": {
          "base_uri": "https://localhost:8080/"
        },
        "id": "edDAtpWwnI3_",
        "outputId": "65a7fbad-b798-421f-f5c3-faead5738743"
      },
      "source": [
        "# **x - 딕셔너리 언패킹 / *x는 x의 key를 불러냄\n",
        "x = {'name' : '홍길동','age' : 30, 'addr' : '서울 강남구 도곡동'}\n",
        "personal_info(**x)"
      ],
      "execution_count": 20,
      "outputs": [
        {
          "output_type": "stream",
          "text": [
            "이름: 홍길동\n",
            "나이: 30\n",
            "주소: 서울 강남구 도곡동\n"
          ],
          "name": "stdout"
        }
      ]
    },
    {
      "cell_type": "markdown",
      "metadata": {
        "id": "7V59pvz0ojpb"
      },
      "source": [
        "### 가변 키워드 인수"
      ]
    },
    {
      "cell_type": "code",
      "metadata": {
        "id": "ztcIPYFsn48Q"
      },
      "source": [
        "def personal_info2(**kwargs):\n",
        "    for key, value in kwargs.items():\n",
        "        print(f'{key}: {value}') "
      ],
      "execution_count": 21,
      "outputs": []
    },
    {
      "cell_type": "code",
      "metadata": {
        "colab": {
          "base_uri": "https://localhost:8080/"
        },
        "id": "tWLTGxcWo8_Q",
        "outputId": "1e8ae2be-a0aa-4352-a854-b78cb2dfc072"
      },
      "source": [
        "personal_info2(**x)"
      ],
      "execution_count": 22,
      "outputs": [
        {
          "output_type": "stream",
          "text": [
            "name: 홍길동\n",
            "age: 30\n",
            "addr: 서울 강남구 도곡동\n"
          ],
          "name": "stdout"
        }
      ]
    },
    {
      "cell_type": "code",
      "metadata": {
        "colab": {
          "base_uri": "https://localhost:8080/"
        },
        "id": "HAhOm6f2pAG4",
        "outputId": "84c0cfa6-ab31-433a-f8eb-1ef3ca517616"
      },
      "source": [
        "personal_info2(name='홍길동', age=30)"
      ],
      "execution_count": 23,
      "outputs": [
        {
          "output_type": "stream",
          "text": [
            "name: 홍길동\n",
            "age: 30\n"
          ],
          "name": "stdout"
        }
      ]
    },
    {
      "cell_type": "markdown",
      "metadata": {
        "id": "5oVWpQQ1psAB"
      },
      "source": [
        "### 고정 인수와 가변 키워드 인수"
      ]
    },
    {
      "cell_type": "code",
      "metadata": {
        "id": "bQoEJpMopYRH"
      },
      "source": [
        "def personal_info3(name, **kwargs):\n",
        "    print(name)\n",
        "    print(kwargs)"
      ],
      "execution_count": 24,
      "outputs": []
    },
    {
      "cell_type": "code",
      "metadata": {
        "colab": {
          "base_uri": "https://localhost:8080/"
        },
        "id": "FLNXlE9Ip6oa",
        "outputId": "5809053a-a0c2-4cf4-b235-734e87c393e1"
      },
      "source": [
        "personal_info3(**x)"
      ],
      "execution_count": 25,
      "outputs": [
        {
          "output_type": "stream",
          "text": [
            "홍길동\n",
            "{'age': 30, 'addr': '서울 강남구 도곡동'}\n"
          ],
          "name": "stdout"
        }
      ]
    },
    {
      "cell_type": "markdown",
      "metadata": {
        "id": "3VXC0pkVqRpI"
      },
      "source": [
        "### 위치 인수와 키워드 인수"
      ]
    },
    {
      "cell_type": "code",
      "metadata": {
        "id": "ZujXfBhWp_4W"
      },
      "source": [
        "def my_print(*args, **kwargs):\n",
        "    print(*args, **kwargs)"
      ],
      "execution_count": 28,
      "outputs": []
    },
    {
      "cell_type": "code",
      "metadata": {
        "colab": {
          "base_uri": "https://localhost:8080/"
        },
        "id": "AP7nnZKYqmVG",
        "outputId": "1fad8ead-28f7-4546-9bc1-ce457042e0c0"
      },
      "source": [
        "my_print(10, 20, 30, sep=', ')"
      ],
      "execution_count": 29,
      "outputs": [
        {
          "output_type": "stream",
          "text": [
            "10, 20, 30\n"
          ],
          "name": "stdout"
        }
      ]
    },
    {
      "cell_type": "markdown",
      "metadata": {
        "id": "P_08QbNRrW2H"
      },
      "source": [
        "## 30.4 매개변수에 초기값 지정"
      ]
    },
    {
      "cell_type": "code",
      "metadata": {
        "id": "m5KEhpYoqxU8"
      },
      "source": [
        "def personal_info4(name, age, addr='비공개'):\n",
        "    print('이름:', name)\n",
        "    print('나이:', age)\n",
        "    print('주소:', addr)"
      ],
      "execution_count": 30,
      "outputs": []
    },
    {
      "cell_type": "code",
      "metadata": {
        "colab": {
          "base_uri": "https://localhost:8080/"
        },
        "id": "o5bnTbmUrtyF",
        "outputId": "a3158e47-a1b7-46a3-9fd0-aca0f4e537a0"
      },
      "source": [
        "personal_info4('홍길동', 30)       ## 주소를 안 주면 초기값이 addr = '비공개'이므로 \"비공개\"로 출력됨 "
      ],
      "execution_count": 31,
      "outputs": [
        {
          "output_type": "stream",
          "text": [
            "이름: 홍길동\n",
            "나이: 30\n",
            "주소: 비공개\n"
          ],
          "name": "stdout"
        }
      ]
    },
    {
      "cell_type": "code",
      "metadata": {
        "colab": {
          "base_uri": "https://localhost:8080/"
        },
        "id": "aGaerHlzrxd0",
        "outputId": "71eb8c73-6ed4-49e7-cede-8bd3a38bca4a"
      },
      "source": [
        "personal_info4(**x)"
      ],
      "execution_count": 32,
      "outputs": [
        {
          "output_type": "stream",
          "text": [
            "이름: 홍길동\n",
            "나이: 30\n",
            "주소: 서울 강남구 도곡동\n"
          ],
          "name": "stdout"
        }
      ]
    },
    {
      "cell_type": "code",
      "metadata": {
        "id": "vmDYgmKDr4-y"
      },
      "source": [
        ""
      ],
      "execution_count": null,
      "outputs": []
    }
  ]
}