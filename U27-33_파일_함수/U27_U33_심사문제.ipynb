{
  "nbformat": 4,
  "nbformat_minor": 0,
  "metadata": {
    "colab": {
      "name": "U27-U33 심사문제.ipynb",
      "provenance": [],
      "collapsed_sections": []
    },
    "kernelspec": {
      "name": "python3",
      "display_name": "Python 3"
    },
    "language_info": {
      "name": "python"
    }
  },
  "cells": [
    {
      "cell_type": "markdown",
      "metadata": {
        "id": "wCckZ1C3LRph"
      },
      "source": [
        "# U27 심사문제\n",
        "### 문자열이 저장된 words.txt 파일이 주어집니다(문자열은 한 줄로 저장되어 있습니다). words.txt 파일에서 문자 c가 포함된 단어를 각 줄에 출력하는 프로그램을 만드세요. 단어를 출력할 때는 등장한 순서대로 출력해야 하며 ,(콤마)와 .(점)은 출력하지 않아야 합니다."
      ]
    },
    {
      "cell_type": "code",
      "metadata": {
        "id": "3OfgDk7RIzYA"
      },
      "source": [
        "# 파일 생성\n",
        "file = open('words.txt', 'w')\n",
        "file.write('Fortunately, however, for the reputation of Asteroid B-612, a Turkish dictator made a law that his subjects, under pain of death, should change to European costume. So in 1920 the astronomer gave his demonstration all over again, dressed with impressive style and elegance. And this time everybody accepted his report.')\n",
        "file.close()"
      ],
      "execution_count": null,
      "outputs": []
    },
    {
      "cell_type": "code",
      "metadata": {
        "colab": {
          "base_uri": "https://localhost:8080/"
        },
        "id": "WsmxlQ_TMDi7",
        "outputId": "882318fe-981b-4651-9826-7ba7fdfc0bcc"
      },
      "source": [
        "with open('words.txt', 'r') as file:\n",
        "    for line in file:\n",
        "        words = line.split()\n",
        "        for word in words:\n",
        "            if 'c' in word:\n",
        "                print(word.strip(',.'))"
      ],
      "execution_count": null,
      "outputs": [
        {
          "output_type": "stream",
          "text": [
            "dictator\n",
            "subjects\n",
            "change\n",
            "costume\n",
            "elegance\n",
            "accepted\n"
          ],
          "name": "stdout"
        }
      ]
    },
    {
      "cell_type": "markdown",
      "metadata": {
        "id": "zK2e-BWoMTyP"
      },
      "source": [
        "# U29 심사문제\n",
        "### 표준 입력으로 숫자 두 개가 입력됩니다. 다음 소스 코드를 완성하여 두 숫자의 덧셈, 뺄셈, 곱셈, 나눗셈의 결과가 출력되게 만드세요. 이때 나눗셈의 결과는 실수라야 합니다."
      ]
    },
    {
      "cell_type": "code",
      "metadata": {
        "id": "8A59TRv-MOd6",
        "colab": {
          "base_uri": "https://localhost:8080/"
        },
        "outputId": "0fc15d31-e48b-449e-9be4-ce307df77e1e"
      },
      "source": [
        "# 입력 ex)1\n",
        "x, y = map(int, input().split())\n",
        "\n",
        "def calc(x, y):\n",
        "    return x+y, x-y, x*y, float(x/y)\n",
        "\n",
        "a, s, m, d = calc(x, y)\n",
        "print(f'덧셈: {a}, 뺄셈: {s}, 곱셈: {m}, 나눗셈: {d}')"
      ],
      "execution_count": 1,
      "outputs": [
        {
          "output_type": "stream",
          "text": [
            "10 20\n",
            "덧셈: 30, 뺄셈: -10, 곱셈: 200, 나눗셈: 0.5\n"
          ],
          "name": "stdout"
        }
      ]
    },
    {
      "cell_type": "code",
      "metadata": {
        "colab": {
          "base_uri": "https://localhost:8080/"
        },
        "id": "2hde72z8w-F9",
        "outputId": "bf858d32-dad3-47c3-c950-f8f1d989af12"
      },
      "source": [
        "# 입력 ex)2\n",
        "x, y = map(int, input().split())\n",
        "\n",
        "def calc(x, y):\n",
        "    return x+y, x-y, x*y, float(x/y)\n",
        "\n",
        "a, s, m, d = calc(x, y)\n",
        "print(f'덧셈: {a}, 뺄셈: {s}, 곱셈: {m}, 나눗셈: {d}')"
      ],
      "execution_count": 2,
      "outputs": [
        {
          "output_type": "stream",
          "text": [
            "40 8\n",
            "덧셈: 48, 뺄셈: 32, 곱셈: 320, 나눗셈: 5.0\n"
          ],
          "name": "stdout"
        }
      ]
    },
    {
      "cell_type": "markdown",
      "metadata": {
        "id": "o_sYICJQxNeL"
      },
      "source": [
        "# U30 심사문제\n",
        "### 표준 입력으로 국어, 영어, 수학, 과학 점수가 입력됩니다. 다음 소스 코드를 완성하여 가장 높은 점수, 가장 낮은 점수, 평균 점수가 출력되게 만드세요. 평균 점수는 실수로 출력되어야 합니다."
      ]
    },
    {
      "cell_type": "code",
      "metadata": {
        "colab": {
          "base_uri": "https://localhost:8080/"
        },
        "id": "ln_oi6TixCdv",
        "outputId": "e2725e96-f325-4ff6-c743-f809e8aa975e"
      },
      "source": [
        "# 입력 ex)1\n",
        "korean, english, mathematics, science = map(int, input().split())\n",
        "\n",
        "def get_min_max_score(*args):\n",
        "    return min(args), max(args)\n",
        "def get_average(**kwargs):  #키워드 인수를 사용한 가변 인수함수\n",
        "    return (sum(kwargs.values())/len(kwargs))    #len(kwargs)는 키의 개수\n",
        "\n",
        "min_score, max_score = get_min_max_score(korean, english, mathematics, science)\n",
        "average_score = get_average(korean=korean, english=english,\n",
        "                            mathematics=mathematics, science=science)\n",
        "print('낮은 점수: {0:.2f}, 높은 점수: {1:.2f}, 평균 점수: {2:.2f}'\n",
        "      .format(min_score, max_score, average_score))\n",
        " \n",
        "min_score, max_score = get_min_max_score(english, science)\n",
        "average_score = get_average(english=english, science=science)\n",
        "print('낮은 점수: {0:.2f}, 높은 점수: {1:.2f}, 평균 점수: {2:.2f}'\n",
        "      .format(min_score, max_score, average_score))"
      ],
      "execution_count": 3,
      "outputs": [
        {
          "output_type": "stream",
          "text": [
            "76 82 89 84\n",
            "낮은 점수: 76.00, 높은 점수: 89.00, 평균 점수: 82.75\n",
            "낮은 점수: 82.00, 높은 점수: 84.00, 평균 점수: 83.00\n"
          ],
          "name": "stdout"
        }
      ]
    },
    {
      "cell_type": "code",
      "metadata": {
        "colab": {
          "base_uri": "https://localhost:8080/"
        },
        "id": "vnJu8R5tyNam",
        "outputId": "6b907789-211c-4e81-9a9e-b848f0fe21e1"
      },
      "source": [
        "# 입력 ex)2\n",
        "korean, english, mathematics, science = map(int, input().split())\n",
        "\n",
        "def get_min_max_score(*args):\n",
        "    return min(args), max(args)\n",
        "def get_average(**kwargs):  #키워드 인수를 사용한 가변 인수함수\n",
        "    return (sum(kwargs.values())/len(kwargs))    #len(kwargs)는 키의 개수\n",
        "\n",
        "min_score, max_score = get_min_max_score(korean, english, mathematics, science)\n",
        "average_score = get_average(korean=korean, english=english,\n",
        "                            mathematics=mathematics, science=science)\n",
        "print('낮은 점수: {0:.2f}, 높은 점수: {1:.2f}, 평균 점수: {2:.2f}'\n",
        "      .format(min_score, max_score, average_score))\n",
        " \n",
        "min_score, max_score = get_min_max_score(english, science)\n",
        "average_score = get_average(english=english, science=science)\n",
        "print('낮은 점수: {0:.2f}, 높은 점수: {1:.2f}, 평균 점수: {2:.2f}'\n",
        "      .format(min_score, max_score, average_score))"
      ],
      "execution_count": 4,
      "outputs": [
        {
          "output_type": "stream",
          "text": [
            "89 92 73 83\n",
            "낮은 점수: 73.00, 높은 점수: 92.00, 평균 점수: 84.25\n",
            "낮은 점수: 83.00, 높은 점수: 92.00, 평균 점수: 87.50\n"
          ],
          "name": "stdout"
        }
      ]
    },
    {
      "cell_type": "markdown",
      "metadata": {
        "id": "CfrieK3iyg8q"
      },
      "source": [
        "# U31 심사문제\n",
        "### 표준 입력으로 정수 한 개가 입력됩니다(입력 값의 범위는 10~30). 다음 소스 코드를 완성하여 입력된 정수에 해당하는 피보나치 수가 출력되게 만드세요.<br>피보나치 수는 0과 1로 시작하며, 다음 번 피보나치 수는 바로 앞의 두 피보나치 수의 합입니다.\n",
        "- *피보나치 수열*\n",
        "\n",
        "f(n) = 1 (n＜=2 일 때)<br>\n",
        "f(n) = f(n-2)+f(n-1) (n＞2 일 때)"
      ]
    },
    {
      "cell_type": "code",
      "metadata": {
        "colab": {
          "base_uri": "https://localhost:8080/"
        },
        "id": "TPHw82V3ydFT",
        "outputId": "722dafb2-3348-41a3-d94b-d686156d12eb"
      },
      "source": [
        "# 입력 ex)1\n",
        "def fib(n):\n",
        "    if n <= 1:\n",
        "        return n  #n이 0이면 결과0, 1이면 결과1\n",
        "    else:\n",
        "        return fib(n-1)+fib(n-2)\n",
        "\n",
        "n = int(input())\n",
        "print(fib(n))"
      ],
      "execution_count": 8,
      "outputs": [
        {
          "output_type": "stream",
          "text": [
            "10\n",
            "55\n"
          ],
          "name": "stdout"
        }
      ]
    },
    {
      "cell_type": "code",
      "metadata": {
        "colab": {
          "base_uri": "https://localhost:8080/"
        },
        "id": "yb8sjo-l0r_z",
        "outputId": "4965399e-919b-44bf-83d7-cb11b8144006"
      },
      "source": [
        "# 입력 ex)2\n",
        "def fib(n):\n",
        "    if n <= 1:\n",
        "        return n  #n이 0이면 결과0, 1이면 결과1\n",
        "    else:\n",
        "        return fib(n-1)+fib(n-2)\n",
        "\n",
        "n = int(input())\n",
        "print(fib(n))"
      ],
      "execution_count": 6,
      "outputs": [
        {
          "output_type": "stream",
          "text": [
            "20\n",
            "6765\n"
          ],
          "name": "stdout"
        }
      ]
    },
    {
      "cell_type": "markdown",
      "metadata": {
        "id": "033EsQIU01yE"
      },
      "source": [
        "# U32 심사문제\n",
        "### 표준 입력으로 숫자.확장자 형식으로 된 파일 이름 여러 개가 입력됩니다. 다음 소스 코드를 완성하여 파일 이름이 숫자 3개이면서 앞에 0이 들어가는 형식으로 출력되게 만드세요. 예를 들어 1.png는 001.png, 99.docx는 099.docx, 100.xlsx는 100.xlsx처럼 출력되어야 합니다. 그리고 람다 표현식을 사용해야 하며 출력 결과는 리스트 형태라야 합니다. 람다 표현식에서 파일명을 처리할 때는 문자열 포매팅과 문자열 메서드를 활용하세요."
      ]
    },
    {
      "cell_type": "code",
      "metadata": {
        "colab": {
          "base_uri": "https://localhost:8080/"
        },
        "id": "y7oEDwox7T7d",
        "outputId": "e970d21f-96c0-46d5-b824-6438e3e33c90"
      },
      "source": [
        " # x[0] = 숫자 // x[1] = 확장자\n",
        "x = '10.png'\n",
        "\n",
        "a = x.split('.')\n",
        "\n",
        "print(a)             "
      ],
      "execution_count": 16,
      "outputs": [
        {
          "output_type": "stream",
          "text": [
            "['10', 'png']\n"
          ],
          "name": "stdout"
        }
      ]
    },
    {
      "cell_type": "code",
      "metadata": {
        "colab": {
          "base_uri": "https://localhost:8080/"
        },
        "id": "WwqrfwUQ0ty3",
        "outputId": "2467ca2f-b60b-455f-9c6f-21d81d351624"
      },
      "source": [
        "# 입력 ex)1\n",
        "files = input().split()\n",
        "x = list(map(lambda x : '{0:03d}'.format(int(x.split('.')[0])) + '.' + x.split('.')[1], files))\n",
        "print(x)\n",
        "\n",
        "\"\"\"\n",
        "{0:03d} == 파일 이름\n",
        "{0:03d}.format(값) // ## '{인덱스:0개수d}'.format(숫자)\n",
        "x.split.[0] == 인덱스 앞부분\n",
        "x.split.[1] == 인덱스 뒷부분"
      ],
      "execution_count": 12,
      "outputs": [
        {
          "output_type": "stream",
          "text": [
            "1.jpg 10.png 11.png 2.jpg 3.png\n",
            "['001.jpg', '010.png', '011.png', '002.jpg', '003.png']\n"
          ],
          "name": "stdout"
        }
      ]
    },
    {
      "cell_type": "code",
      "metadata": {
        "colab": {
          "base_uri": "https://localhost:8080/"
        },
        "id": "qhceAGhA2_99",
        "outputId": "d553ddf7-3a1d-4932-c9cd-c0fc0445bc32"
      },
      "source": [
        "# 입력 ex)2\n",
        "files = input().split()\n",
        "x = list(map(lambda x : '{0:03d}'.format(int(x.split('.')[0])) + '.' + x.split('.')[1], files))\n",
        "print(x)"
      ],
      "execution_count": 13,
      "outputs": [
        {
          "output_type": "stream",
          "text": [
            "97.xlsx 98.docx 99.docx 100.xlsx 101.docx 102.docx\n",
            "['097.xlsx', '098.docx', '099.docx', '100.xlsx', '101.docx', '102.docx']\n"
          ],
          "name": "stdout"
        }
      ]
    },
    {
      "cell_type": "markdown",
      "metadata": {
        "id": "1LTo70aZ7tak"
      },
      "source": [
        "# U33 심사문제\n",
        "### 표준 입력으로 정수가 입력됩니다. 다음 소스 코드를 완성하여 함수 c를 호출할 때마다 숫자가 1씩 줄어들게 만드세요. 여기서는 함수를 클로저로 만들어야 합니다. 정답에 코드를 작성할 때는 def countdown(n):에 맞춰서 들여쓰기를 해주세요.\n"
      ]
    },
    {
      "cell_type": "code",
      "metadata": {
        "colab": {
          "base_uri": "https://localhost:8080/"
        },
        "id": "balA4AcD3NUH",
        "outputId": "82a1026c-f514-4eb9-94a8-34ce6c51f1d0"
      },
      "source": [
        "# 입력 ex)1\n",
        "def countdown(n):\n",
        "    count = n+1\n",
        "    def downcount():\n",
        "        nonlocal count  \n",
        "        count -=  1                # nonlocal == count - 1\n",
        "        return count\n",
        "    return downcount\n",
        "\n",
        "n = int(input())\n",
        " \n",
        "c = countdown(n)\n",
        "for i in range(n):\n",
        "    print(c(), end=' ')"
      ],
      "execution_count": 18,
      "outputs": [
        {
          "output_type": "stream",
          "text": [
            "10\n",
            "10 9 8 7 6 5 4 3 2 1 "
          ],
          "name": "stdout"
        }
      ]
    },
    {
      "cell_type": "code",
      "metadata": {
        "colab": {
          "base_uri": "https://localhost:8080/"
        },
        "id": "y5I-B8ajDuWd",
        "outputId": "af6f9c0f-e3af-4a7d-c69a-874d24ea3bea"
      },
      "source": [
        "# 입력 ex)2\n",
        "def countdown(n):\n",
        "    count = n+1\n",
        "    def downcount():\n",
        "        nonlocal count  \n",
        "        count -=  1                # nonlocal == count - 1\n",
        "        return count\n",
        "    return downcount\n",
        "\n",
        "n = int(input())\n",
        " \n",
        "c = countdown(n)\n",
        "for i in range(n):\n",
        "    print(c(), end=' ')"
      ],
      "execution_count": 19,
      "outputs": [
        {
          "output_type": "stream",
          "text": [
            "20\n",
            "20 19 18 17 16 15 14 13 12 11 10 9 8 7 6 5 4 3 2 1 "
          ],
          "name": "stdout"
        }
      ]
    }
  ]
}