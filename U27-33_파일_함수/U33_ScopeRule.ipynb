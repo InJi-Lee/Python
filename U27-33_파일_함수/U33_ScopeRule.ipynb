{
  "nbformat": 4,
  "nbformat_minor": 0,
  "metadata": {
    "colab": {
      "name": "U33_ScopeRule.ipynb",
      "provenance": [],
      "collapsed_sections": []
    },
    "kernelspec": {
      "name": "python3",
      "display_name": "Python 3"
    },
    "language_info": {
      "name": "python"
    }
  },
  "cells": [
    {
      "cell_type": "markdown",
      "metadata": {
        "id": "UD9LdK6criil"
      },
      "source": [
        "# Unit 33. 변수의 사용 범위(Scope Rule)\n",
        "- 전역(global) 변수는 함수 안에서 사용할 수 있지만<br> \n",
        "지역(local) 변수는 함수 밖에서 사용할 수 없다."
      ]
    },
    {
      "cell_type": "code",
      "metadata": {
        "colab": {
          "base_uri": "https://localhost:8080/"
        },
        "id": "p1NuLw9ircdJ",
        "outputId": "2ce95b9a-217a-4576-e99e-372c6d12ed70"
      },
      "source": [
        "x = 10           # 전역(global) 변수 - 함수 밖에서 정의된 변수\n",
        "def foo():\n",
        "    print(x)\n",
        "foo()\n",
        "print(x)"
      ],
      "execution_count": 1,
      "outputs": [
        {
          "output_type": "stream",
          "text": [
            "10\n",
            "10\n"
          ],
          "name": "stdout"
        }
      ]
    },
    {
      "cell_type": "code",
      "metadata": {
        "colab": {
          "base_uri": "https://localhost:8080/"
        },
        "id": "I2eejf8ur6Pb",
        "outputId": "55f4d44d-aa54-46a7-8bfd-537bbde4b8c4"
      },
      "source": [
        "def foo():\n",
        "    y = 10        # 지역(local) 변수 - 함수 안에서 정의된 함수\n",
        "    print(y)\n",
        "\n",
        "foo()"
      ],
      "execution_count": 2,
      "outputs": [
        {
          "output_type": "stream",
          "text": [
            "10\n"
          ],
          "name": "stdout"
        }
      ]
    },
    {
      "cell_type": "code",
      "metadata": {
        "colab": {
          "base_uri": "https://localhost:8080/",
          "height": 172
        },
        "id": "3fNL5QOYsKUi",
        "outputId": "727ea878-039c-44e8-86eb-cd86eaa57011"
      },
      "source": [
        "# y는 foo함수의 지역변수이므로 foo함수 안에서만 사용 가능\n",
        "print(y)"
      ],
      "execution_count": 3,
      "outputs": [
        {
          "output_type": "error",
          "ename": "NameError",
          "evalue": "ignored",
          "traceback": [
            "\u001b[0;31m---------------------------------------------------------------------------\u001b[0m",
            "\u001b[0;31mNameError\u001b[0m                                 Traceback (most recent call last)",
            "\u001b[0;32m<ipython-input-3-d9183e048de3>\u001b[0m in \u001b[0;36m<module>\u001b[0;34m()\u001b[0m\n\u001b[0;32m----> 1\u001b[0;31m \u001b[0mprint\u001b[0m\u001b[0;34m(\u001b[0m\u001b[0my\u001b[0m\u001b[0;34m)\u001b[0m\u001b[0;34m\u001b[0m\u001b[0;34m\u001b[0m\u001b[0m\n\u001b[0m",
            "\u001b[0;31mNameError\u001b[0m: name 'y' is not defined"
          ]
        }
      ]
    },
    {
      "cell_type": "markdown",
      "metadata": {
        "id": "VnbTq4s8tyK0"
      },
      "source": [
        "### 함수 안에서 전역 변수 변경하기"
      ]
    },
    {
      "cell_type": "code",
      "metadata": {
        "colab": {
          "base_uri": "https://localhost:8080/"
        },
        "id": "sehnWu8ssYFu",
        "outputId": "412be105-8695-41c4-fa46-e6876512ea20"
      },
      "source": [
        "x = 10          # 전역(global) 변수\n",
        "def foo():\n",
        "    x = 20      # 로컬 변수\n",
        "    print(x)\n",
        "foo()\n",
        "print(x)"
      ],
      "execution_count": 4,
      "outputs": [
        {
          "output_type": "stream",
          "text": [
            "20\n",
            "10\n"
          ],
          "name": "stdout"
        }
      ]
    },
    {
      "cell_type": "code",
      "metadata": {
        "colab": {
          "base_uri": "https://localhost:8080/"
        },
        "id": "8wdqKbxRuE_X",
        "outputId": "e39f33b4-cb59-46d2-dbf5-22416c086106"
      },
      "source": [
        "x = 10          # 전역(global) 변수\n",
        "def foo():\n",
        "    global x\n",
        "    x = 20      # 로컬 변수 --> 글로벌 변수 로 변함\n",
        "    print(x)\n",
        "foo()\n",
        "print(x)"
      ],
      "execution_count": 5,
      "outputs": [
        {
          "output_type": "stream",
          "text": [
            "20\n",
            "20\n"
          ],
          "name": "stdout"
        }
      ]
    },
    {
      "cell_type": "code",
      "metadata": {
        "colab": {
          "base_uri": "https://localhost:8080/"
        },
        "id": "SILPUFYjuin2",
        "outputId": "9f3d6b86-97f6-42bf-f9bc-15947ede4d16"
      },
      "source": [
        "def foo():\n",
        "    global z\n",
        "    z = 10\n",
        "    print(z)\n",
        "\n",
        "foo()\n",
        "print(z)"
      ],
      "execution_count": 6,
      "outputs": [
        {
          "output_type": "stream",
          "text": [
            "10\n",
            "10\n"
          ],
          "name": "stdout"
        }
      ]
    },
    {
      "cell_type": "code",
      "metadata": {
        "id": "Ju0Wu5BzvK2j"
      },
      "source": [
        ""
      ],
      "execution_count": null,
      "outputs": []
    }
  ]
}