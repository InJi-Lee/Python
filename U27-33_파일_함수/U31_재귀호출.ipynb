{
  "nbformat": 4,
  "nbformat_minor": 0,
  "metadata": {
    "colab": {
      "name": "U31_재귀호출.ipynb",
      "provenance": [],
      "collapsed_sections": []
    },
    "kernelspec": {
      "name": "python3",
      "display_name": "Python 3"
    },
    "language_info": {
      "name": "python"
    }
  },
  "cells": [
    {
      "cell_type": "markdown",
      "metadata": {
        "id": "gblfyFyGuCy-"
      },
      "source": [
        "# Unit 31. 재귀호출(Recursive Call)"
      ]
    },
    {
      "cell_type": "markdown",
      "metadata": {
        "id": "Ebl6OySxuZ9t"
      },
      "source": [
        "## factorial 함수를 재귀호출로 구현"
      ]
    },
    {
      "cell_type": "code",
      "metadata": {
        "id": "5_oVfX33t8Dr"
      },
      "source": [
        "def factorial(n):\n",
        "    if n==0:\n",
        "        return 1\n",
        "    return n*factorial(n-1)"
      ],
      "execution_count": 1,
      "outputs": []
    },
    {
      "cell_type": "code",
      "metadata": {
        "colab": {
          "base_uri": "https://localhost:8080/"
        },
        "id": "ZidWZ0IKu0pR",
        "outputId": "7a86de9d-dd31-48ef-f986-59ab1132ac7b"
      },
      "source": [
        "factorial(5)"
      ],
      "execution_count": 2,
      "outputs": [
        {
          "output_type": "execute_result",
          "data": {
            "text/plain": [
              "120"
            ]
          },
          "metadata": {
            "tags": []
          },
          "execution_count": 2
        }
      ]
    },
    {
      "cell_type": "markdown",
      "metadata": {
        "id": "S7-e5HqawUUh"
      },
      "source": [
        "### fibonacci 수열\n",
        "- f(n) = f(n-1) + f(n-2), n >= 3 일 때,\n",
        "- f(1) = 1, f(2) = 1"
      ]
    },
    {
      "cell_type": "code",
      "metadata": {
        "id": "1gVeG5ogvNxG"
      },
      "source": [
        "def fibo(n):\n",
        "    if n == 1 or n == 2:\n",
        "        return 1\n",
        "    return fibo(n-1) + fibo(n-2)"
      ],
      "execution_count": 3,
      "outputs": []
    },
    {
      "cell_type": "code",
      "metadata": {
        "colab": {
          "base_uri": "https://localhost:8080/"
        },
        "id": "MeRemb6D0nmP",
        "outputId": "27c3da04-b46e-48a2-d12e-be22cf833731"
      },
      "source": [
        "[fibo(i) for i in range(1,11)]"
      ],
      "execution_count": 4,
      "outputs": [
        {
          "output_type": "execute_result",
          "data": {
            "text/plain": [
              "[1, 1, 2, 3, 5, 8, 13, 21, 34, 55]"
            ]
          },
          "metadata": {
            "tags": []
          },
          "execution_count": 4
        }
      ]
    },
    {
      "cell_type": "code",
      "metadata": {
        "id": "vF7E6NKS0uwd"
      },
      "source": [
        ""
      ],
      "execution_count": null,
      "outputs": []
    }
  ]
}