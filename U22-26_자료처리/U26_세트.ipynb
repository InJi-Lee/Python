{
  "nbformat": 4,
  "nbformat_minor": 0,
  "metadata": {
    "colab": {
      "name": "U26_세트.ipynb",
      "provenance": [],
      "collapsed_sections": []
    },
    "kernelspec": {
      "name": "python3",
      "display_name": "Python 3"
    },
    "language_info": {
      "name": "python"
    }
  },
  "cells": [
    {
      "cell_type": "markdown",
      "metadata": {
        "id": "3qVrLJJL3uJe"
      },
      "source": [
        "# Unit 26. 세트(집합)\n",
        "- 집합은 중복을 허용하지 않는다"
      ]
    },
    {
      "cell_type": "code",
      "metadata": {
        "colab": {
          "base_uri": "https://localhost:8080/"
        },
        "id": "GLq_Feo93fov",
        "outputId": "4babeae6-a9f0-4f77-fd31-9c00b5cddc10"
      },
      "source": [
        "fruits = {'apple', 'banana', 'cherry', 'orange', 'grape'}\n",
        "fruits"
      ],
      "execution_count": 3,
      "outputs": [
        {
          "output_type": "execute_result",
          "data": {
            "text/plain": [
              "{'apple', 'banana', 'cherry', 'grape', 'orange'}"
            ]
          },
          "metadata": {
            "tags": []
          },
          "execution_count": 3
        }
      ]
    },
    {
      "cell_type": "code",
      "metadata": {
        "colab": {
          "base_uri": "https://localhost:8080/"
        },
        "id": "_e50ZuVY4OpB",
        "outputId": "59fb543f-0ee1-412e-e7c3-80a1f7b3572a"
      },
      "source": [
        "type(fruits)"
      ],
      "execution_count": 4,
      "outputs": [
        {
          "output_type": "execute_result",
          "data": {
            "text/plain": [
              "set"
            ]
          },
          "metadata": {
            "tags": []
          },
          "execution_count": 4
        }
      ]
    },
    {
      "cell_type": "code",
      "metadata": {
        "colab": {
          "base_uri": "https://localhost:8080/"
        },
        "id": "tGtXhusw4TSL",
        "outputId": "f06ca026-fe71-4ae1-d27e-18387aae96dc"
      },
      "source": [
        "fruits = {'apple', 'banana', 'cherry', 'orange', 'grape', 'apple'}\n",
        "fruits"
      ],
      "execution_count": 5,
      "outputs": [
        {
          "output_type": "execute_result",
          "data": {
            "text/plain": [
              "{'apple', 'banana', 'cherry', 'grape', 'orange'}"
            ]
          },
          "metadata": {
            "tags": []
          },
          "execution_count": 5
        }
      ]
    },
    {
      "cell_type": "code",
      "metadata": {
        "colab": {
          "base_uri": "https://localhost:8080/"
        },
        "id": "g117BGLC4jA5",
        "outputId": "737447bf-cc89-48f8-8a57-082558909741"
      },
      "source": [
        "'peach' in fruits"
      ],
      "execution_count": 6,
      "outputs": [
        {
          "output_type": "execute_result",
          "data": {
            "text/plain": [
              "False"
            ]
          },
          "metadata": {
            "tags": []
          },
          "execution_count": 6
        }
      ]
    },
    {
      "cell_type": "code",
      "metadata": {
        "colab": {
          "base_uri": "https://localhost:8080/"
        },
        "id": "swSYvZYR4vh0",
        "outputId": "e7a1f6e1-581f-4e79-c435-bd414afa3708"
      },
      "source": [
        "'orange' in fruits"
      ],
      "execution_count": 7,
      "outputs": [
        {
          "output_type": "execute_result",
          "data": {
            "text/plain": [
              "True"
            ]
          },
          "metadata": {
            "tags": []
          },
          "execution_count": 7
        }
      ]
    },
    {
      "cell_type": "code",
      "metadata": {
        "colab": {
          "base_uri": "https://localhost:8080/"
        },
        "id": "nVU8NFzl4ypr",
        "outputId": "0694f720-897a-4b02-9f99-79e925d9219c"
      },
      "source": [
        "a = set('apple')\n",
        "a"
      ],
      "execution_count": 8,
      "outputs": [
        {
          "output_type": "execute_result",
          "data": {
            "text/plain": [
              "{'a', 'e', 'l', 'p'}"
            ]
          },
          "metadata": {
            "tags": []
          },
          "execution_count": 8
        }
      ]
    },
    {
      "cell_type": "code",
      "metadata": {
        "colab": {
          "base_uri": "https://localhost:8080/"
        },
        "id": "UNisH9RD5FOu",
        "outputId": "5257e6cd-205c-4e3e-d2c6-36e47b97db5b"
      },
      "source": [
        "set('안녕하세요?')"
      ],
      "execution_count": 9,
      "outputs": [
        {
          "output_type": "execute_result",
          "data": {
            "text/plain": [
              "{'?', '녕', '세', '안', '요', '하'}"
            ]
          },
          "metadata": {
            "tags": []
          },
          "execution_count": 9
        }
      ]
    },
    {
      "cell_type": "markdown",
      "metadata": {
        "id": "UIj9vuQk5fne"
      },
      "source": [
        "## 26.2 연산"
      ]
    },
    {
      "cell_type": "code",
      "metadata": {
        "colab": {
          "base_uri": "https://localhost:8080/"
        },
        "id": "KHmRLJ855Pis",
        "outputId": "3e8dc730-3dc8-40a7-b710-fa2665d2232c"
      },
      "source": [
        "a = set(range(4))\n",
        "b = set(range(2,6))\n",
        "a, b"
      ],
      "execution_count": 10,
      "outputs": [
        {
          "output_type": "execute_result",
          "data": {
            "text/plain": [
              "({0, 1, 2, 3}, {2, 3, 4, 5})"
            ]
          },
          "metadata": {
            "tags": []
          },
          "execution_count": 10
        }
      ]
    },
    {
      "cell_type": "code",
      "metadata": {
        "colab": {
          "base_uri": "https://localhost:8080/"
        },
        "id": "MHL7HOL95wZL",
        "outputId": "1b4f0c2f-f2e6-427d-c69f-1345760fb01b"
      },
      "source": [
        "# 합집합(union)\n",
        "a | b"
      ],
      "execution_count": 11,
      "outputs": [
        {
          "output_type": "execute_result",
          "data": {
            "text/plain": [
              "{0, 1, 2, 3, 4, 5}"
            ]
          },
          "metadata": {
            "tags": []
          },
          "execution_count": 11
        }
      ]
    },
    {
      "cell_type": "code",
      "metadata": {
        "colab": {
          "base_uri": "https://localhost:8080/"
        },
        "id": "rPQlaNXV58a0",
        "outputId": "403339f1-d467-4bc2-f581-c55e514abeab"
      },
      "source": [
        "set.union(a,b)"
      ],
      "execution_count": 12,
      "outputs": [
        {
          "output_type": "execute_result",
          "data": {
            "text/plain": [
              "{0, 1, 2, 3, 4, 5}"
            ]
          },
          "metadata": {
            "tags": []
          },
          "execution_count": 12
        }
      ]
    },
    {
      "cell_type": "code",
      "metadata": {
        "colab": {
          "base_uri": "https://localhost:8080/"
        },
        "id": "Cq1GfDTK6DA0",
        "outputId": "43e58e7c-f66b-48ad-b07c-c1eb94360a5e"
      },
      "source": [
        "set(range(5,10))"
      ],
      "execution_count": 15,
      "outputs": [
        {
          "output_type": "execute_result",
          "data": {
            "text/plain": [
              "{5, 6, 7, 8, 9}"
            ]
          },
          "metadata": {
            "tags": []
          },
          "execution_count": 15
        }
      ]
    },
    {
      "cell_type": "code",
      "metadata": {
        "colab": {
          "base_uri": "https://localhost:8080/"
        },
        "id": "9E2aBg2K6GrP",
        "outputId": "577dcd39-fe57-48df-8cbb-2af6b8e9e297"
      },
      "source": [
        "# 교집합(intersection)\n",
        "a & b"
      ],
      "execution_count": 16,
      "outputs": [
        {
          "output_type": "execute_result",
          "data": {
            "text/plain": [
              "{2, 3}"
            ]
          },
          "metadata": {
            "tags": []
          },
          "execution_count": 16
        }
      ]
    },
    {
      "cell_type": "code",
      "metadata": {
        "colab": {
          "base_uri": "https://localhost:8080/"
        },
        "id": "qIKdqqPt6UWM",
        "outputId": "aa324c75-0c6d-453b-ca01-578e83f4b935"
      },
      "source": [
        "set.intersection(a,b)"
      ],
      "execution_count": 17,
      "outputs": [
        {
          "output_type": "execute_result",
          "data": {
            "text/plain": [
              "{2, 3}"
            ]
          },
          "metadata": {
            "tags": []
          },
          "execution_count": 17
        }
      ]
    },
    {
      "cell_type": "code",
      "metadata": {
        "colab": {
          "base_uri": "https://localhost:8080/"
        },
        "id": "DvULG9mE6Xw5",
        "outputId": "6ed58efe-e520-478c-d0f3-707ba92fe9b8"
      },
      "source": [
        "# 차집합(difference)\n",
        "a - b"
      ],
      "execution_count": 18,
      "outputs": [
        {
          "output_type": "execute_result",
          "data": {
            "text/plain": [
              "{0, 1}"
            ]
          },
          "metadata": {
            "tags": []
          },
          "execution_count": 18
        }
      ]
    },
    {
      "cell_type": "code",
      "metadata": {
        "colab": {
          "base_uri": "https://localhost:8080/"
        },
        "id": "BGl_pYq46f4x",
        "outputId": "f8efffca-140f-492d-8cb2-31d81d79b15c"
      },
      "source": [
        "set.difference(a,b)"
      ],
      "execution_count": 19,
      "outputs": [
        {
          "output_type": "execute_result",
          "data": {
            "text/plain": [
              "{0, 1}"
            ]
          },
          "metadata": {
            "tags": []
          },
          "execution_count": 19
        }
      ]
    },
    {
      "cell_type": "code",
      "metadata": {
        "colab": {
          "base_uri": "https://localhost:8080/"
        },
        "id": "QC4uVzv66i-3",
        "outputId": "4f100e22-eb74-427a-db1e-a9b9e29e4e55"
      },
      "source": [
        "# 대칭차집합(symmetric difference) == 교집합을 뺀 나머지\n",
        "a ^ b"
      ],
      "execution_count": 20,
      "outputs": [
        {
          "output_type": "execute_result",
          "data": {
            "text/plain": [
              "{0, 1, 4, 5}"
            ]
          },
          "metadata": {
            "tags": []
          },
          "execution_count": 20
        }
      ]
    },
    {
      "cell_type": "code",
      "metadata": {
        "colab": {
          "base_uri": "https://localhost:8080/"
        },
        "id": "KEtatPaB6zLz",
        "outputId": "0d7b06a0-6aac-4921-aaf5-ca1137970b6d"
      },
      "source": [
        "set.symmetric_difference(a,b)"
      ],
      "execution_count": 21,
      "outputs": [
        {
          "output_type": "execute_result",
          "data": {
            "text/plain": [
              "{0, 1, 4, 5}"
            ]
          },
          "metadata": {
            "tags": []
          },
          "execution_count": 21
        }
      ]
    },
    {
      "cell_type": "markdown",
      "metadata": {
        "id": "9aC11HjF7SuC"
      },
      "source": [
        "### 부분집합, 상위집합"
      ]
    },
    {
      "cell_type": "code",
      "metadata": {
        "colab": {
          "base_uri": "https://localhost:8080/"
        },
        "id": "KeFIRiBu69Er",
        "outputId": "dffdf648-3135-4ab6-f83c-d18aef4cc546"
      },
      "source": [
        "a <= {0, 1, 2, 3}"
      ],
      "execution_count": 22,
      "outputs": [
        {
          "output_type": "execute_result",
          "data": {
            "text/plain": [
              "True"
            ]
          },
          "metadata": {
            "tags": []
          },
          "execution_count": 22
        }
      ]
    },
    {
      "cell_type": "code",
      "metadata": {
        "colab": {
          "base_uri": "https://localhost:8080/"
        },
        "id": "SQ8wWvT67g9u",
        "outputId": "069be9a3-b6ee-452a-9859-b06d12f2d043"
      },
      "source": [
        "a.issubset({0, 1, 2, 3, 4})  # subset == 부분집합"
      ],
      "execution_count": 23,
      "outputs": [
        {
          "output_type": "execute_result",
          "data": {
            "text/plain": [
              "True"
            ]
          },
          "metadata": {
            "tags": []
          },
          "execution_count": 23
        }
      ]
    },
    {
      "cell_type": "code",
      "metadata": {
        "colab": {
          "base_uri": "https://localhost:8080/"
        },
        "id": "qIZOz8Qb7pt2",
        "outputId": "04ae8de6-9907-4fc2-f32d-efc5b04a1d51"
      },
      "source": [
        "a >= {1, 2, 3}"
      ],
      "execution_count": 24,
      "outputs": [
        {
          "output_type": "execute_result",
          "data": {
            "text/plain": [
              "True"
            ]
          },
          "metadata": {
            "tags": []
          },
          "execution_count": 24
        }
      ]
    },
    {
      "cell_type": "code",
      "metadata": {
        "colab": {
          "base_uri": "https://localhost:8080/"
        },
        "id": "MmouDgw97zzw",
        "outputId": "b66e4cb8-1413-41fc-ce05-b7d3b473a11a"
      },
      "source": [
        "a.issuperset({1, 2, 3})      # superset == 상위집합"
      ],
      "execution_count": 25,
      "outputs": [
        {
          "output_type": "execute_result",
          "data": {
            "text/plain": [
              "True"
            ]
          },
          "metadata": {
            "tags": []
          },
          "execution_count": 25
        }
      ]
    },
    {
      "cell_type": "markdown",
      "metadata": {
        "id": "39ivOj648DcH"
      },
      "source": [
        "### 값 비교"
      ]
    },
    {
      "cell_type": "code",
      "metadata": {
        "colab": {
          "base_uri": "https://localhost:8080/"
        },
        "id": "FZnm7O3C8CP4",
        "outputId": "1d9f9785-379a-4d50-be85-18ec85748863"
      },
      "source": [
        "a == {3,1,0,2}"
      ],
      "execution_count": 26,
      "outputs": [
        {
          "output_type": "execute_result",
          "data": {
            "text/plain": [
              "True"
            ]
          },
          "metadata": {
            "tags": []
          },
          "execution_count": 26
        }
      ]
    },
    {
      "cell_type": "code",
      "metadata": {
        "colab": {
          "base_uri": "https://localhost:8080/"
        },
        "id": "8jPJQVpT8N3b",
        "outputId": "902f499e-52c5-4199-e7df-9bd16be05a06"
      },
      "source": [
        "a.isdisjoint(b)     # disjoint == 겹치는 것이 없나?"
      ],
      "execution_count": 27,
      "outputs": [
        {
          "output_type": "execute_result",
          "data": {
            "text/plain": [
              "False"
            ]
          },
          "metadata": {
            "tags": []
          },
          "execution_count": 27
        }
      ]
    },
    {
      "cell_type": "code",
      "metadata": {
        "colab": {
          "base_uri": "https://localhost:8080/"
        },
        "id": "_t1abOrs8TC4",
        "outputId": "a4585067-6d00-4d1e-ba34-cfc2bd8f57d8"
      },
      "source": [
        "a.isdisjoint({4, 5, 6, 7})"
      ],
      "execution_count": 28,
      "outputs": [
        {
          "output_type": "execute_result",
          "data": {
            "text/plain": [
              "True"
            ]
          },
          "metadata": {
            "tags": []
          },
          "execution_count": 28
        }
      ]
    },
    {
      "cell_type": "markdown",
      "metadata": {
        "id": "JC3kDZOu8tUL"
      },
      "source": [
        "## 26.3 세트 조작"
      ]
    },
    {
      "cell_type": "code",
      "metadata": {
        "colab": {
          "base_uri": "https://localhost:8080/"
        },
        "id": "1SeMhnDJ8knY",
        "outputId": "bce56096-306a-478c-80a1-496117ec88f1"
      },
      "source": [
        "a.add(4)\n",
        "a"
      ],
      "execution_count": 29,
      "outputs": [
        {
          "output_type": "execute_result",
          "data": {
            "text/plain": [
              "{0, 1, 2, 3, 4}"
            ]
          },
          "metadata": {
            "tags": []
          },
          "execution_count": 29
        }
      ]
    },
    {
      "cell_type": "code",
      "metadata": {
        "colab": {
          "base_uri": "https://localhost:8080/"
        },
        "id": "TZBehp1X83Kb",
        "outputId": "c9427edd-e969-4715-c0d8-5b27802628ce"
      },
      "source": [
        "a.remove(4)\n",
        "a"
      ],
      "execution_count": 30,
      "outputs": [
        {
          "output_type": "execute_result",
          "data": {
            "text/plain": [
              "{0, 1, 2, 3}"
            ]
          },
          "metadata": {
            "tags": []
          },
          "execution_count": 30
        }
      ]
    },
    {
      "cell_type": "code",
      "metadata": {
        "colab": {
          "base_uri": "https://localhost:8080/"
        },
        "id": "UVrxjGS787JX",
        "outputId": "6625e082-d036-4b5c-ab9f-b553863033d3"
      },
      "source": [
        "# 임의의 원소 삭제하기\n",
        "a.pop()"
      ],
      "execution_count": 31,
      "outputs": [
        {
          "output_type": "execute_result",
          "data": {
            "text/plain": [
              "0"
            ]
          },
          "metadata": {
            "tags": []
          },
          "execution_count": 31
        }
      ]
    },
    {
      "cell_type": "code",
      "metadata": {
        "colab": {
          "base_uri": "https://localhost:8080/"
        },
        "id": "54p2Hzu79DYG",
        "outputId": "c931a09a-2cc8-459a-8f8e-50220dd9cb9d"
      },
      "source": [
        "a"
      ],
      "execution_count": 32,
      "outputs": [
        {
          "output_type": "execute_result",
          "data": {
            "text/plain": [
              "{1, 2, 3}"
            ]
          },
          "metadata": {
            "tags": []
          },
          "execution_count": 32
        }
      ]
    },
    {
      "cell_type": "code",
      "metadata": {
        "colab": {
          "base_uri": "https://localhost:8080/"
        },
        "id": "IMbHfiNi9EEM",
        "outputId": "98cbf275-5e57-411b-c3d4-d2cc1eed73f7"
      },
      "source": [
        "len(a)"
      ],
      "execution_count": 33,
      "outputs": [
        {
          "output_type": "execute_result",
          "data": {
            "text/plain": [
              "3"
            ]
          },
          "metadata": {
            "tags": []
          },
          "execution_count": 33
        }
      ]
    },
    {
      "cell_type": "markdown",
      "metadata": {
        "id": "DRZrcRMi9VX1"
      },
      "source": [
        "## 26.5 반복문"
      ]
    },
    {
      "cell_type": "code",
      "metadata": {
        "colab": {
          "base_uri": "https://localhost:8080/"
        },
        "id": "utir1gVh9L2i",
        "outputId": "19afe9e9-0b4a-498e-dc0b-df6fc9d51949"
      },
      "source": [
        "for element in a:\n",
        "    print(element)"
      ],
      "execution_count": 34,
      "outputs": [
        {
          "output_type": "stream",
          "text": [
            "1\n",
            "2\n",
            "3\n"
          ],
          "name": "stdout"
        }
      ]
    },
    {
      "cell_type": "code",
      "metadata": {
        "id": "vl3wYb3Y9lcm"
      },
      "source": [
        ""
      ],
      "execution_count": null,
      "outputs": []
    }
  ]
}