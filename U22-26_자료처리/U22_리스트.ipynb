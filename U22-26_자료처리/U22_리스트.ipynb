{
  "nbformat": 4,
  "nbformat_minor": 0,
  "metadata": {
    "colab": {
      "name": "U22_리스트.ipynb",
      "provenance": [],
      "collapsed_sections": []
    },
    "kernelspec": {
      "name": "python3",
      "display_name": "Python 3"
    },
    "language_info": {
      "name": "python"
    }
  },
  "cells": [
    {
      "cell_type": "markdown",
      "metadata": {
        "id": "DslwW7o2qvHv"
      },
      "source": [
        "# Unit 22. 리스트, 튜플 응용"
      ]
    },
    {
      "cell_type": "markdown",
      "metadata": {
        "id": "uxPGXn9Rq0d8"
      },
      "source": [
        "## 22.1 리스트 조작\n",
        "- append : 요소 하나를 추가\n",
        "- extend : 리스트를 연결하여 확장\n",
        "- insert : 특정 인덱스에 요소 추가\n",
        "- remove : 특정값 삭제\n"
      ]
    },
    {
      "cell_type": "code",
      "metadata": {
        "id": "6u4pxJKcqeIm"
      },
      "source": [
        "a = [10, 20, 30]"
      ],
      "execution_count": null,
      "outputs": []
    },
    {
      "cell_type": "code",
      "metadata": {
        "colab": {
          "base_uri": "https://localhost:8080/"
        },
        "id": "H0Nmz_zprZv_",
        "outputId": "82cf79c9-9e38-40b6-9032-9b03a74e631e"
      },
      "source": [
        "# append == 리스트 맨 뒤에 요소 하나를 추가하는 매소드(method)\n",
        "a.append(500)\n",
        "a"
      ],
      "execution_count": null,
      "outputs": [
        {
          "output_type": "execute_result",
          "data": {
            "text/plain": [
              "[10, 20, 30, 500]"
            ]
          },
          "metadata": {
            "tags": []
          },
          "execution_count": 2
        }
      ]
    },
    {
      "cell_type": "code",
      "metadata": {
        "colab": {
          "base_uri": "https://localhost:8080/"
        },
        "id": "aMe5rs1prkhu",
        "outputId": "eb004283-6595-4bbb-ff45-7582c0ce74f6"
      },
      "source": [
        "a.append(['x','y'])\n",
        "a"
      ],
      "execution_count": null,
      "outputs": [
        {
          "output_type": "execute_result",
          "data": {
            "text/plain": [
              "[10, 20, 30, 500, ['x', 'y']]"
            ]
          },
          "metadata": {
            "tags": []
          },
          "execution_count": 3
        }
      ]
    },
    {
      "cell_type": "code",
      "metadata": {
        "colab": {
          "base_uri": "https://localhost:8080/"
        },
        "id": "BbxWX39Prrgz",
        "outputId": "b9075e53-13ab-447e-8406-9ea03498ba75"
      },
      "source": [
        "# extend == 리스트 끝에 다른 리스트를 연결하여 리스트 확장\n",
        "b = [10, 20, 30]\n",
        "b.extend(['x','y'])\n",
        "b"
      ],
      "execution_count": null,
      "outputs": [
        {
          "output_type": "execute_result",
          "data": {
            "text/plain": [
              "[10, 20, 30, 'x', 'y']"
            ]
          },
          "metadata": {
            "tags": []
          },
          "execution_count": 4
        }
      ]
    },
    {
      "cell_type": "code",
      "metadata": {
        "colab": {
          "base_uri": "https://localhost:8080/"
        },
        "id": "95g2mu9MsDs3",
        "outputId": "2c8092de-de51-4625-9733-6714e104773b"
      },
      "source": [
        "empty_list = []            # 빈 리스트를 만든다\n",
        "for i in range(5):         # i 범위 지정\n",
        "    empty_list.append(i)   # i를 리스트에 넣는다\n",
        "empty_list                 # 리스트 출력 "
      ],
      "execution_count": null,
      "outputs": [
        {
          "output_type": "execute_result",
          "data": {
            "text/plain": [
              "[0, 1, 2, 3, 4]"
            ]
          },
          "metadata": {
            "tags": []
          },
          "execution_count": 5
        }
      ]
    },
    {
      "cell_type": "code",
      "metadata": {
        "colab": {
          "base_uri": "https://localhost:8080/"
        },
        "id": "LaGtlhDbsga-",
        "outputId": "932d9e2c-b604-48b4-9344-769a328b2804"
      },
      "source": [
        "del a[4]\n",
        "a"
      ],
      "execution_count": null,
      "outputs": [
        {
          "output_type": "execute_result",
          "data": {
            "text/plain": [
              "[10, 20, 30, 500]"
            ]
          },
          "metadata": {
            "tags": []
          },
          "execution_count": 6
        }
      ]
    },
    {
      "cell_type": "markdown",
      "metadata": {
        "id": "D4rpHCWit5pQ"
      },
      "source": [
        "### Stack and Queue\n",
        "- stack => 1, 2, 3 삽입 == 1, 2, 3 그대로 나옴\n",
        "- queue => 0,1 0,2 0,3 삽입 == 3, 2, 1 반대로 나옴\n",
        "-- pop 삭제"
      ]
    },
    {
      "cell_type": "code",
      "metadata": {
        "colab": {
          "base_uri": "https://localhost:8080/"
        },
        "id": "wiZp_sROtAxD",
        "outputId": "ffea095f-7dba-4293-e6d3-3cdaff46349e"
      },
      "source": [
        "stack = []   # 빈 리스트\n",
        "stack.append(1); stack.append(2); stack.append(3);  # stack에 push\n",
        "stack\n"
      ],
      "execution_count": null,
      "outputs": [
        {
          "output_type": "execute_result",
          "data": {
            "text/plain": [
              "[1, 2, 3]"
            ]
          },
          "metadata": {
            "tags": []
          },
          "execution_count": 13
        }
      ]
    },
    {
      "cell_type": "code",
      "metadata": {
        "colab": {
          "base_uri": "https://localhost:8080/"
        },
        "id": "wNuK__YtuOKy",
        "outputId": "7c30f002-6e92-4661-93a1-fb64031e8b80"
      },
      "source": [
        "# stack으로부터 pop\n",
        "value = stack.pop()\n",
        "print(value, stack)"
      ],
      "execution_count": null,
      "outputs": [
        {
          "output_type": "stream",
          "text": [
            "3 [1, 2]\n"
          ],
          "name": "stdout"
        }
      ]
    },
    {
      "cell_type": "code",
      "metadata": {
        "colab": {
          "base_uri": "https://localhost:8080/"
        },
        "id": "MdWJW7J0uQ99",
        "outputId": "1807f9cc-e2e2-40d0-d724-e348febe38c4"
      },
      "source": [
        "stack"
      ],
      "execution_count": null,
      "outputs": [
        {
          "output_type": "execute_result",
          "data": {
            "text/plain": [
              "[1, 2]"
            ]
          },
          "metadata": {
            "tags": []
          },
          "execution_count": 9
        }
      ]
    },
    {
      "cell_type": "code",
      "metadata": {
        "colab": {
          "base_uri": "https://localhost:8080/"
        },
        "id": "T_LiinnhuSqa",
        "outputId": "0625c580-a748-4e7a-e2be-ab24bc5e0455"
      },
      "source": [
        "queue = []\n",
        "#queue에 insert\n",
        "queue.insert(0, 1); queue.insert(0, 2); queue.insert(0, 3)\n",
        "queue"
      ],
      "execution_count": null,
      "outputs": [
        {
          "output_type": "execute_result",
          "data": {
            "text/plain": [
              "[3, 2, 1]"
            ]
          },
          "metadata": {
            "tags": []
          },
          "execution_count": 15
        }
      ]
    },
    {
      "cell_type": "code",
      "metadata": {
        "colab": {
          "base_uri": "https://localhost:8080/"
        },
        "id": "yqHNpI3mvNWD",
        "outputId": "497ebf47-bda5-49c0-88b9-a7cc0b4e04a0"
      },
      "source": [
        "#queue로부터 끄집어내기\n",
        "value = queue.pop()\n",
        "print(value, queue)"
      ],
      "execution_count": null,
      "outputs": [
        {
          "output_type": "stream",
          "text": [
            "1 [3, 2]\n"
          ],
          "name": "stdout"
        }
      ]
    },
    {
      "cell_type": "markdown",
      "metadata": {
        "id": "Zmgv5CT1vtbI"
      },
      "source": [
        "### 다양한 method"
      ]
    },
    {
      "cell_type": "code",
      "metadata": {
        "colab": {
          "base_uri": "https://localhost:8080/"
        },
        "id": "BHL79JPKvaXj",
        "outputId": "cf6bcfaf-399b-43ca-e680-d6dcd36fc629"
      },
      "source": [
        "a = [10, 20, 30, 40, 50 , 60]\n",
        "a.index(30)"
      ],
      "execution_count": null,
      "outputs": [
        {
          "output_type": "execute_result",
          "data": {
            "text/plain": [
              "2"
            ]
          },
          "metadata": {
            "tags": []
          },
          "execution_count": 17
        }
      ]
    },
    {
      "cell_type": "code",
      "metadata": {
        "id": "_z025lJzv8JF"
      },
      "source": [
        "num = 45\n",
        "if 45 in a:\n",
        "    idx = a.index(num)"
      ],
      "execution_count": null,
      "outputs": []
    },
    {
      "cell_type": "code",
      "metadata": {
        "colab": {
          "base_uri": "https://localhost:8080/"
        },
        "id": "uSBaNMZhv__I",
        "outputId": "253330dc-0b55-455c-f281-c5581c8d594b"
      },
      "source": [
        "# 특정 값의 개수 구하기\n",
        "a.count(10)"
      ],
      "execution_count": null,
      "outputs": [
        {
          "output_type": "execute_result",
          "data": {
            "text/plain": [
              "1"
            ]
          },
          "metadata": {
            "tags": []
          },
          "execution_count": 20
        }
      ]
    },
    {
      "cell_type": "code",
      "metadata": {
        "colab": {
          "base_uri": "https://localhost:8080/"
        },
        "id": "uy_YB-qawOJP",
        "outputId": "2ef6cce4-d75e-4b46-d89f-6c06603686c5"
      },
      "source": [
        "a.count(45)  # 없으면 0"
      ],
      "execution_count": null,
      "outputs": [
        {
          "output_type": "execute_result",
          "data": {
            "text/plain": [
              "0"
            ]
          },
          "metadata": {
            "tags": []
          },
          "execution_count": 21
        }
      ]
    },
    {
      "cell_type": "markdown",
      "metadata": {
        "id": "d6hOIvRXNjbo"
      },
      "source": [
        "### reverse()\n",
        "- 리스트 순서 뒤집기"
      ]
    },
    {
      "cell_type": "code",
      "metadata": {
        "colab": {
          "base_uri": "https://localhost:8080/"
        },
        "id": "E2KG5oeWNf5d",
        "outputId": "82a045a1-00d6-4852-f0c2-1717642beaf9"
      },
      "source": [
        "z = [10, 20, 30, 40, 50]\n",
        "z.reverse()\n",
        "z"
      ],
      "execution_count": null,
      "outputs": [
        {
          "output_type": "execute_result",
          "data": {
            "text/plain": [
              "[50, 40, 30, 20, 10]"
            ]
          },
          "metadata": {
            "tags": []
          },
          "execution_count": 1
        }
      ]
    },
    {
      "cell_type": "markdown",
      "metadata": {
        "id": "Q3rQc7VfRcgu"
      },
      "source": [
        "### clear()\n",
        "- 리스트의 모든 요소 삭제"
      ]
    },
    {
      "cell_type": "code",
      "metadata": {
        "colab": {
          "base_uri": "https://localhost:8080/"
        },
        "id": "ePxxecQlRn1V",
        "outputId": "306ed91a-c912-447a-af99-dfbb685d5ccf"
      },
      "source": [
        "z "
      ],
      "execution_count": null,
      "outputs": [
        {
          "output_type": "execute_result",
          "data": {
            "text/plain": [
              "[50, 40, 30, 20, 10]"
            ]
          },
          "metadata": {
            "tags": []
          },
          "execution_count": 2
        }
      ]
    },
    {
      "cell_type": "code",
      "metadata": {
        "colab": {
          "base_uri": "https://localhost:8080/"
        },
        "id": "CPTb82-xRtYP",
        "outputId": "f9e6bd1d-80c9-463b-ce37-346143a095b7"
      },
      "source": [
        "z.clear()\n",
        "z"
      ],
      "execution_count": null,
      "outputs": [
        {
          "output_type": "execute_result",
          "data": {
            "text/plain": [
              "[]"
            ]
          },
          "metadata": {
            "tags": []
          },
          "execution_count": 3
        }
      ]
    },
    {
      "cell_type": "markdown",
      "metadata": {
        "id": "H1K0jTsmWd2O"
      },
      "source": [
        "### 리스트를 슬라이스로 조작하기"
      ]
    },
    {
      "cell_type": "code",
      "metadata": {
        "colab": {
          "base_uri": "https://localhost:8080/"
        },
        "id": "cc0F6QrAWhuz",
        "outputId": "784bc24a-dde3-4ab8-d9e7-1e9a7df8148b"
      },
      "source": [
        "a = [10, 20, 30]\n",
        "a[len(a):] = [500]  # 리스트 끝에서부터 시작하겠다\n",
        "a"
      ],
      "execution_count": null,
      "outputs": [
        {
          "output_type": "execute_result",
          "data": {
            "text/plain": [
              "[10, 20, 30, 500]"
            ]
          },
          "metadata": {
            "tags": []
          },
          "execution_count": 4
        }
      ]
    },
    {
      "cell_type": "markdown",
      "metadata": {
        "id": "sN4aPYqeYmwl"
      },
      "source": [
        "### 리스트가 비어있는지 확인하기\n",
        "- 파이썬에서는 리스트(시퀀스 객체)를 바로 if 조건문으로 판단하는 방법을 권장함"
      ]
    },
    {
      "cell_type": "code",
      "metadata": {
        "id": "nJ7nHOAKdibw"
      },
      "source": [
        "if not seq:  # 리스트가 비어있으면 True\n",
        "if seq:      # 리스트에 내용이 있으면 True"
      ],
      "execution_count": null,
      "outputs": []
    },
    {
      "cell_type": "code",
      "metadata": {
        "id": "xp7GXUjcdwjV"
      },
      "source": [
        "seq = [10, 20, 30]\n",
        "seq[-1]             # 리스트의 마지막 요소에 접근할 때 인덱스를 -1로 지정함\n",
        "print(seq[-1])      # 리스트에 요소가 있을 때만 마지막 요소를 가져옴"
      ],
      "execution_count": null,
      "outputs": []
    },
    {
      "cell_type": "markdown",
      "metadata": {
        "id": "YkI-mamFxMu0"
      },
      "source": [
        "### 정렬(Sort)\n",
        "- .sort == sorted"
      ]
    },
    {
      "cell_type": "code",
      "metadata": {
        "colab": {
          "base_uri": "https://localhost:8080/"
        },
        "id": "s5cdGGHAwUQj",
        "outputId": "d2287e12-948e-45d2-dfd3-86f34ac32d8e"
      },
      "source": [
        "# sort는 오름차순(ascending order)이 디폴트\n",
        "a = [20, 10, 15, 30, 40]   # .sort()는 자기자신이 바뀜\n",
        "a.sort()\n",
        "a"
      ],
      "execution_count": null,
      "outputs": [
        {
          "output_type": "execute_result",
          "data": {
            "text/plain": [
              "[10, 15, 20, 30, 40]"
            ]
          },
          "metadata": {
            "tags": []
          },
          "execution_count": 23
        }
      ]
    },
    {
      "cell_type": "code",
      "metadata": {
        "colab": {
          "base_uri": "https://localhost:8080/"
        },
        "id": "H0-6ABWKxXQ9",
        "outputId": "8e7232c7-2491-4226-8624-46dfd522fb8e"
      },
      "source": [
        "b = [20, 10, 15, 30 ,40]\n",
        "sorted(b)"
      ],
      "execution_count": null,
      "outputs": [
        {
          "output_type": "execute_result",
          "data": {
            "text/plain": [
              "[10, 15, 20, 30, 40]"
            ]
          },
          "metadata": {
            "tags": []
          },
          "execution_count": 25
        }
      ]
    },
    {
      "cell_type": "code",
      "metadata": {
        "colab": {
          "base_uri": "https://localhost:8080/"
        },
        "id": "-tVlznx-xml7",
        "outputId": "ba4e0e45-d410-4368-aaf8-0010a2774384"
      },
      "source": [
        "b                           # sorted()는 자기자신은 변하지 않음"
      ],
      "execution_count": null,
      "outputs": [
        {
          "output_type": "execute_result",
          "data": {
            "text/plain": [
              "[20, 10, 15, 30, 40]"
            ]
          },
          "metadata": {
            "tags": []
          },
          "execution_count": 26
        }
      ]
    },
    {
      "cell_type": "code",
      "metadata": {
        "colab": {
          "base_uri": "https://localhost:8080/"
        },
        "id": "W9x9CqLsxrJy",
        "outputId": "3f5bd718-e7cf-483c-b581-5b2e1abc4d0f"
      },
      "source": [
        "b = [20, 10, 15, 30 ,40]    # sorted() : 변수로 받아서 실행해야 바뀜\n",
        "b = sorted(b)\n",
        "b"
      ],
      "execution_count": null,
      "outputs": [
        {
          "output_type": "execute_result",
          "data": {
            "text/plain": [
              "[10, 15, 20, 30, 40]"
            ]
          },
          "metadata": {
            "tags": []
          },
          "execution_count": 27
        }
      ]
    },
    {
      "cell_type": "code",
      "metadata": {
        "colab": {
          "base_uri": "https://localhost:8080/"
        },
        "id": "_OQN_jWGx72z",
        "outputId": "0c7bd94a-396e-4b7d-ac2a-371f7c0a27d4"
      },
      "source": [
        "# 내림차순(descending order)\n",
        "a = [20, 10, 15, 30 ,40]\n",
        "a.sort(reverse=True)\n",
        "a"
      ],
      "execution_count": null,
      "outputs": [
        {
          "output_type": "execute_result",
          "data": {
            "text/plain": [
              "[40, 30, 20, 15, 10]"
            ]
          },
          "metadata": {
            "tags": []
          },
          "execution_count": 28
        }
      ]
    },
    {
      "cell_type": "markdown",
      "metadata": {
        "id": "Q3yREriZzKbi"
      },
      "source": [
        "## 22.2 리스트 할당과 복사"
      ]
    },
    {
      "cell_type": "code",
      "metadata": {
        "colab": {
          "base_uri": "https://localhost:8080/"
        },
        "id": "NboABX7-0Hsx",
        "outputId": "9a508d56-0d1d-4a37-cf58-6426d9d2c990"
      },
      "source": [
        "# Shallow copy : pointer만 복사\n",
        "a = [0,0,0,0,0]\n",
        "b = a\n",
        "b"
      ],
      "execution_count": null,
      "outputs": [
        {
          "output_type": "execute_result",
          "data": {
            "text/plain": [
              "[0, 0, 0, 0, 0]"
            ]
          },
          "metadata": {
            "tags": []
          },
          "execution_count": 35
        }
      ]
    },
    {
      "cell_type": "code",
      "metadata": {
        "colab": {
          "base_uri": "https://localhost:8080/"
        },
        "id": "FYEMol5PzZk0",
        "outputId": "ea80f180-eb6c-424a-9d30-4a780ec1c85d"
      },
      "source": [
        "b[2] = 99\n",
        "b"
      ],
      "execution_count": null,
      "outputs": [
        {
          "output_type": "execute_result",
          "data": {
            "text/plain": [
              "[0, 0, 99, 0, 0]"
            ]
          },
          "metadata": {
            "tags": []
          },
          "execution_count": 30
        }
      ]
    },
    {
      "cell_type": "code",
      "metadata": {
        "colab": {
          "base_uri": "https://localhost:8080/"
        },
        "id": "e6zYFp6zzcKy",
        "outputId": "6bc5fb4c-e833-414a-d87c-6290ca5531f6"
      },
      "source": [
        "a"
      ],
      "execution_count": null,
      "outputs": [
        {
          "output_type": "execute_result",
          "data": {
            "text/plain": [
              "[0, 0, 99, 0, 0]"
            ]
          },
          "metadata": {
            "tags": []
          },
          "execution_count": 31
        }
      ]
    },
    {
      "cell_type": "code",
      "metadata": {
        "colab": {
          "base_uri": "https://localhost:8080/"
        },
        "id": "vzR-SZBQzden",
        "outputId": "a6ee8079-52b3-4caf-e300-c0f36a2f93bf"
      },
      "source": [
        "# 데이터 전체를 별도의 기억장소에 복사\n",
        "a = [0,0,0,0,0]\n",
        "b = a.copy()\n",
        "b"
      ],
      "execution_count": null,
      "outputs": [
        {
          "output_type": "execute_result",
          "data": {
            "text/plain": [
              "[0, 0, 0, 0, 0]"
            ]
          },
          "metadata": {
            "tags": []
          },
          "execution_count": 37
        }
      ]
    },
    {
      "cell_type": "code",
      "metadata": {
        "colab": {
          "base_uri": "https://localhost:8080/"
        },
        "id": "HL-aRXQwz9k2",
        "outputId": "f486c101-0bef-43f9-ff3d-879aab58d7ad"
      },
      "source": [
        "b[2] = 99\n",
        "a"
      ],
      "execution_count": null,
      "outputs": [
        {
          "output_type": "execute_result",
          "data": {
            "text/plain": [
              "[0, 0, 0, 0, 0]"
            ]
          },
          "metadata": {
            "tags": []
          },
          "execution_count": 38
        }
      ]
    },
    {
      "cell_type": "markdown",
      "metadata": {
        "id": "i9tB7C2L2jA0"
      },
      "source": [
        "## 22.3 리스트와 반복문"
      ]
    },
    {
      "cell_type": "code",
      "metadata": {
        "colab": {
          "base_uri": "https://localhost:8080/"
        },
        "id": "oICb2h5Lz8gc",
        "outputId": "0aa29ee4-31cd-449d-c065-e7eeb84daf8c"
      },
      "source": [
        "for fruit in ['apple', 'banana', 'cherry']:\n",
        "    print(fruit)"
      ],
      "execution_count": null,
      "outputs": [
        {
          "output_type": "stream",
          "text": [
            "apple\n",
            "banana\n",
            "cherry\n"
          ],
          "name": "stdout"
        }
      ]
    },
    {
      "cell_type": "code",
      "metadata": {
        "colab": {
          "base_uri": "https://localhost:8080/"
        },
        "id": "w4pzuzmX29Zx",
        "outputId": "2b80e0de-daa8-48cb-9d93-7916e079c0f1"
      },
      "source": [
        "fruits = ['apple', 'banana', 'cherry']\n",
        "for index, fruit in enumerate(fruits):  # enumerate : 인덱스와 요소를 함께 출력하기\n",
        "    print(index, fruit)"
      ],
      "execution_count": null,
      "outputs": [
        {
          "output_type": "stream",
          "text": [
            "0 apple\n",
            "1 banana\n",
            "2 cherry\n"
          ],
          "name": "stdout"
        }
      ]
    },
    {
      "cell_type": "markdown",
      "metadata": {
        "id": "CGy5cTsE4MOw"
      },
      "source": [
        "## 22.4 리스트에서 min, max, sum 함수 활용"
      ]
    },
    {
      "cell_type": "code",
      "metadata": {
        "colab": {
          "base_uri": "https://localhost:8080/"
        },
        "id": "6x4TauLw3M1C",
        "outputId": "cedf7b9b-3654-44f5-b892-2f9c6b6982f6"
      },
      "source": [
        "a = [38, 21, 53, 62, 19]\n",
        "a.sort()                    # a를 오름차순으로 정렬\n",
        "a[0]      # = min(a)        # 리스트에서 첫번째 항을 출력  "
      ],
      "execution_count": null,
      "outputs": [
        {
          "output_type": "execute_result",
          "data": {
            "text/plain": [
              "19"
            ]
          },
          "metadata": {
            "tags": []
          },
          "execution_count": 41
        }
      ]
    },
    {
      "cell_type": "code",
      "metadata": {
        "colab": {
          "base_uri": "https://localhost:8080/"
        },
        "id": "knOmmy-Y4yOH",
        "outputId": "7006a186-ef23-45e0-f7e7-01c7bd409658"
      },
      "source": [
        "a[-1]  # = max(a)"
      ],
      "execution_count": null,
      "outputs": [
        {
          "output_type": "execute_result",
          "data": {
            "text/plain": [
              "62"
            ]
          },
          "metadata": {
            "tags": []
          },
          "execution_count": 42
        }
      ]
    },
    {
      "cell_type": "code",
      "metadata": {
        "colab": {
          "base_uri": "https://localhost:8080/"
        },
        "id": "iKyEiWNb420F",
        "outputId": "cb2fa294-8257-44fe-c853-aaa18ad12a05"
      },
      "source": [
        "a = [38, 21, 53, 62, 19]\n",
        "sorted(a)[0]    # = min(a)"
      ],
      "execution_count": null,
      "outputs": [
        {
          "output_type": "execute_result",
          "data": {
            "text/plain": [
              "19"
            ]
          },
          "metadata": {
            "tags": []
          },
          "execution_count": 43
        }
      ]
    },
    {
      "cell_type": "code",
      "metadata": {
        "colab": {
          "base_uri": "https://localhost:8080/"
        },
        "id": "VNAXr7Rt5Cyu",
        "outputId": "cd9ebaf2-6b6d-49f4-89d2-82c16cb5903e"
      },
      "source": [
        "# a 원소의 합\n",
        "sum_of_list = 0           # for문을 돌릴 때 초기값 설정\n",
        "for elem in a:            # 만약 a에 elem 요소가 있다면\n",
        "    sum_of_list += elem   # 각 elem들을 다 더하라\n",
        "sum_of_list, sum(a)"
      ],
      "execution_count": null,
      "outputs": [
        {
          "output_type": "execute_result",
          "data": {
            "text/plain": [
              "(193, 193)"
            ]
          },
          "metadata": {
            "tags": []
          },
          "execution_count": 44
        }
      ]
    },
    {
      "cell_type": "code",
      "metadata": {
        "id": "TJX2lCds5ZRT"
      },
      "source": [
        "# 주의할 것 == Error\n",
        "sum = 0\n",
        "for elem in a:\n",
        "    sum += elem\n",
        "sum, sum(a)"
      ],
      "execution_count": null,
      "outputs": []
    },
    {
      "cell_type": "markdown",
      "metadata": {
        "id": "6wTnFkRz586H"
      },
      "source": [
        "## 22.5 리스트 표현식(Comprehension)"
      ]
    },
    {
      "cell_type": "code",
      "metadata": {
        "colab": {
          "base_uri": "https://localhost:8080/"
        },
        "id": "OfSqSxxs57-w",
        "outputId": "0c8c957f-d7d6-41dc-d4e3-14fbd3801788"
      },
      "source": [
        "# [식 for 변수 in list]\n",
        "[fruit for fruit in fruits]"
      ],
      "execution_count": null,
      "outputs": [
        {
          "output_type": "execute_result",
          "data": {
            "text/plain": [
              "['apple', 'banana', 'cherry']"
            ]
          },
          "metadata": {
            "tags": []
          },
          "execution_count": 45
        }
      ]
    },
    {
      "cell_type": "code",
      "metadata": {
        "colab": {
          "base_uri": "https://localhost:8080/"
        },
        "id": "3laOqWlP6WK6",
        "outputId": "88e7691c-e45e-4d44-a397-3a4b8e312e0b"
      },
      "source": [
        "[fruit*index for index, fruit in enumerate(fruits)]"
      ],
      "execution_count": null,
      "outputs": [
        {
          "output_type": "execute_result",
          "data": {
            "text/plain": [
              "['', 'banana', 'cherrycherry']"
            ]
          },
          "metadata": {
            "tags": []
          },
          "execution_count": 46
        }
      ]
    },
    {
      "cell_type": "code",
      "metadata": {
        "colab": {
          "base_uri": "https://localhost:8080/"
        },
        "id": "8mUszBaA6vjS",
        "outputId": "15e9e5a1-c415-4e02-d604-83b8ae39dce1"
      },
      "source": [
        "# [elem*elem for 변수 1부터10까지]   ====== 중요!!!\n",
        "[i*i for i in range(1,11)]"
      ],
      "execution_count": null,
      "outputs": [
        {
          "output_type": "execute_result",
          "data": {
            "text/plain": [
              "[1, 4, 9, 16, 25, 36, 49, 64, 81, 100]"
            ]
          },
          "metadata": {
            "tags": []
          },
          "execution_count": 47
        }
      ]
    },
    {
      "cell_type": "code",
      "metadata": {
        "colab": {
          "base_uri": "https://localhost:8080/"
        },
        "id": "ec5Y65r97FHu",
        "outputId": "9d66f2c9-6850-4eff-bd9e-1ac52e051674"
      },
      "source": [
        "list(i*i for i in range(1,11))"
      ],
      "execution_count": null,
      "outputs": [
        {
          "output_type": "execute_result",
          "data": {
            "text/plain": [
              "[1, 4, 9, 16, 25, 36, 49, 64, 81, 100]"
            ]
          },
          "metadata": {
            "tags": []
          },
          "execution_count": 48
        }
      ]
    },
    {
      "cell_type": "code",
      "metadata": {
        "colab": {
          "base_uri": "https://localhost:8080/"
        },
        "id": "9W2HI8k87W7j",
        "outputId": "868dce3f-36e2-4785-9d02-3cc84b6dde43"
      },
      "source": [
        "sq_list = []\n",
        "for i in range(1,11):\n",
        "    sq_list.append(i*i)     # .append = 요소 추가\n",
        "\n",
        "sq_list"
      ],
      "execution_count": null,
      "outputs": [
        {
          "output_type": "execute_result",
          "data": {
            "text/plain": [
              "[1, 4, 9, 16, 25, 36, 49, 64, 81, 100]"
            ]
          },
          "metadata": {
            "tags": []
          },
          "execution_count": 49
        }
      ]
    },
    {
      "cell_type": "markdown",
      "metadata": {
        "id": "uwmhopRg8DFI"
      },
      "source": [
        "### 표현식에서 if조건문 사용하기"
      ]
    },
    {
      "cell_type": "code",
      "metadata": {
        "colab": {
          "base_uri": "https://localhost:8080/"
        },
        "id": "4_AysJ7R7kDz",
        "outputId": "62437770-8cb3-4e5d-9153-08c123adb2f1"
      },
      "source": [
        "[i*i for i in range(1,11,2)]  # (1부터 10까지 2씩 커지는 수 = 홀수) i*i"
      ],
      "execution_count": null,
      "outputs": [
        {
          "output_type": "execute_result",
          "data": {
            "text/plain": [
              "[1, 9, 25, 49, 81]"
            ]
          },
          "metadata": {
            "tags": []
          },
          "execution_count": 50
        }
      ]
    },
    {
      "cell_type": "code",
      "metadata": {
        "colab": {
          "base_uri": "https://localhost:8080/"
        },
        "id": "2mhuz3ny8QPR",
        "outputId": "034bbbf0-5e4f-4f28-a725-6ba320ededfb"
      },
      "source": [
        "[i*i for i in range(1,11,) if i % 2 == 1]  # (1부터 10까지의 수) 중 만약 i를 2로 나눴을 때 나머지가 1인 수 == 홀수\n",
        "                                           ## % == 나머지"
      ],
      "execution_count": null,
      "outputs": [
        {
          "output_type": "execute_result",
          "data": {
            "text/plain": [
              "[1, 9, 25, 49, 81]"
            ]
          },
          "metadata": {
            "tags": []
          },
          "execution_count": 51
        }
      ]
    },
    {
      "cell_type": "markdown",
      "metadata": {
        "id": "omdLJqkQ8-nD"
      },
      "source": [
        "### for가 여러번 나오게 할 수 있다"
      ]
    },
    {
      "cell_type": "code",
      "metadata": {
        "colab": {
          "base_uri": "https://localhost:8080/"
        },
        "id": "tLmGjhIY8aSN",
        "outputId": "b797424f-ee64-41f1-d3cb-f72d9ad32e94"
      },
      "source": [
        "# 구구단\n",
        "a = [i*k for i in range(2,10) for k in range(1,10)] # i = 2~9까지의 변수 k = 1~9까지의 변수\n",
        "print(a)"
      ],
      "execution_count": null,
      "outputs": [
        {
          "output_type": "stream",
          "text": [
            "[2, 4, 6, 8, 10, 12, 14, 16, 18, 3, 6, 9, 12, 15, 18, 21, 24, 27, 4, 8, 12, 16, 20, 24, 28, 32, 36, 5, 10, 15, 20, 25, 30, 35, 40, 45, 6, 12, 18, 24, 30, 36, 42, 48, 54, 7, 14, 21, 28, 35, 42, 49, 56, 63, 8, 16, 24, 32, 40, 48, 56, 64, 72, 9, 18, 27, 36, 45, 54, 63, 72, 81]\n"
          ],
          "name": "stdout"
        }
      ]
    },
    {
      "cell_type": "code",
      "metadata": {
        "colab": {
          "base_uri": "https://localhost:8080/"
        },
        "id": "3Nllxdzh9Tq-",
        "outputId": "efcdd8be-70a5-4f7c-d25e-0b6e8e71b899"
      },
      "source": [
        "a = [i*k for i in range(2,10)\n",
        "            for k in range(1,10)]\n",
        "print(a)"
      ],
      "execution_count": null,
      "outputs": [
        {
          "output_type": "stream",
          "text": [
            "[2, 4, 6, 8, 10, 12, 14, 16, 18, 3, 6, 9, 12, 15, 18, 21, 24, 27, 4, 8, 12, 16, 20, 24, 28, 32, 36, 5, 10, 15, 20, 25, 30, 35, 40, 45, 6, 12, 18, 24, 30, 36, 42, 48, 54, 7, 14, 21, 28, 35, 42, 49, 56, 63, 8, 16, 24, 32, 40, 48, 56, 64, 72, 9, 18, 27, 36, 45, 54, 63, 72, 81]\n"
          ],
          "name": "stdout"
        }
      ]
    },
    {
      "cell_type": "markdown",
      "metadata": {
        "id": "YkxSgWtA-AxE"
      },
      "source": [
        "## 22.6 map\n",
        "- list(map(함수, 리스트))\n",
        "- 함수를 각 엘리먼트에 적용한다"
      ]
    },
    {
      "cell_type": "code",
      "metadata": {
        "colab": {
          "base_uri": "https://localhost:8080/"
        },
        "id": "mUeHMBY7-D2x",
        "outputId": "5cf24c81-766c-4a3a-bc47-6a1ab6cd6e66"
      },
      "source": [
        "a = [1.2, 2.3, 3.5, 4.8]\n",
        "for i in range(len(a)):\n",
        "    a[i] = int(a[i])\n",
        "a"
      ],
      "execution_count": null,
      "outputs": [
        {
          "output_type": "execute_result",
          "data": {
            "text/plain": [
              "[1, 2, 3, 4]"
            ]
          },
          "metadata": {
            "tags": []
          },
          "execution_count": 55
        }
      ]
    },
    {
      "cell_type": "code",
      "metadata": {
        "colab": {
          "base_uri": "https://localhost:8080/"
        },
        "id": "NTDz_Dpi-d2r",
        "outputId": "6b82534c-6d57-475d-cf9a-fb2ab266a12b"
      },
      "source": [
        "a = [1.2, 2.3, 3.5, 4.8]\n",
        "for i, val in enumerate(a):\n",
        "    a[i] = int(val)\n",
        "a"
      ],
      "execution_count": null,
      "outputs": [
        {
          "output_type": "execute_result",
          "data": {
            "text/plain": [
              "[1, 2, 3, 4]"
            ]
          },
          "metadata": {
            "tags": []
          },
          "execution_count": 56
        }
      ]
    },
    {
      "cell_type": "code",
      "metadata": {
        "colab": {
          "base_uri": "https://localhost:8080/"
        },
        "id": "MV1W5OrM_BW0",
        "outputId": "ec0e80b5-8807-412c-e5f1-086131bddcd0"
      },
      "source": [
        "a = [1.2, 2.3, 3.5, 4.8]\n",
        "a = list(map(int, a))\n",
        "a"
      ],
      "execution_count": null,
      "outputs": [
        {
          "output_type": "execute_result",
          "data": {
            "text/plain": [
              "[1, 2, 3, 4]"
            ]
          },
          "metadata": {
            "tags": []
          },
          "execution_count": 58
        }
      ]
    },
    {
      "cell_type": "markdown",
      "metadata": {
        "id": "3i8-c8VV_8mh"
      },
      "source": [
        "## 22.7 tuple"
      ]
    },
    {
      "cell_type": "code",
      "metadata": {
        "colab": {
          "base_uri": "https://localhost:8080/"
        },
        "id": "urpTh52P_cU_",
        "outputId": "0c5f0721-554f-4b92-c3b3-0c702ed697ef"
      },
      "source": [
        "tuple(i*i for i in range(1,11) if i % 2 == 0)"
      ],
      "execution_count": null,
      "outputs": [
        {
          "output_type": "execute_result",
          "data": {
            "text/plain": [
              "(4, 16, 36, 64, 100)"
            ]
          },
          "metadata": {
            "tags": []
          },
          "execution_count": 59
        }
      ]
    },
    {
      "cell_type": "code",
      "metadata": {
        "id": "265x5BZPAGeE"
      },
      "source": [
        ""
      ],
      "execution_count": null,
      "outputs": []
    }
  ]
}