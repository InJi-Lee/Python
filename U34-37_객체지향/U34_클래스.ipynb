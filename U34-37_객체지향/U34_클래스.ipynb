{
  "nbformat": 4,
  "nbformat_minor": 0,
  "metadata": {
    "colab": {
      "name": "U34_클래스.ipynb",
      "provenance": [],
      "collapsed_sections": []
    },
    "kernelspec": {
      "name": "python3",
      "display_name": "Python 3"
    },
    "language_info": {
      "name": "python"
    }
  },
  "cells": [
    {
      "cell_type": "markdown",
      "metadata": {
        "id": "95_sDtIs64qo"
      },
      "source": [
        "# Unit 34 클래스(Class)"
      ]
    },
    {
      "cell_type": "markdown",
      "metadata": {
        "id": "nrtailQz7af4"
      },
      "source": [
        "# 34.1 클래스와 매서드 만들기"
      ]
    },
    {
      "cell_type": "code",
      "metadata": {
        "id": "Wst2RKy6wveD"
      },
      "source": [
        "class Person:          # 클래스 이름은 대문자로 시작\n",
        "    def greeting(self):\n",
        "        print('Hello')"
      ],
      "execution_count": 17,
      "outputs": []
    },
    {
      "cell_type": "code",
      "metadata": {
        "id": "ZI_DL3MJ730e"
      },
      "source": [
        "# 인스턴스를 만들어야 클래스를 사용할 수 있다\n",
        "james = Person()\n",
        "maria = Person()"
      ],
      "execution_count": 19,
      "outputs": []
    },
    {
      "cell_type": "code",
      "metadata": {
        "colab": {
          "base_uri": "https://localhost:8080/"
        },
        "id": "ST8y_6l68F2F",
        "outputId": "3e3027c9-c12c-48c9-f6d1-ad8d4586f772"
      },
      "source": [
        "maria.greeting()"
      ],
      "execution_count": 20,
      "outputs": [
        {
          "output_type": "stream",
          "text": [
            "Hello\n"
          ],
          "name": "stdout"
        }
      ]
    },
    {
      "cell_type": "code",
      "metadata": {
        "colab": {
          "base_uri": "https://localhost:8080/"
        },
        "id": "7Iu-2gDW8Vuf",
        "outputId": "a3d49d05-d5ae-4eb2-e604-65f57709aea2"
      },
      "source": [
        "Person().greeting()"
      ],
      "execution_count": 21,
      "outputs": [
        {
          "output_type": "stream",
          "text": [
            "Hello\n"
          ],
          "name": "stdout"
        }
      ]
    },
    {
      "cell_type": "code",
      "metadata": {
        "id": "XODVjN_V9-iD"
      },
      "source": [
        "# 클래스 내에서 매서드 호출하기\n",
        "class Person:\n",
        "    def greeting(self):\n",
        "        print('Hello')\n",
        "\n",
        "    def hello(self):\n",
        "        self.greeting()"
      ],
      "execution_count": 22,
      "outputs": []
    },
    {
      "cell_type": "code",
      "metadata": {
        "colab": {
          "base_uri": "https://localhost:8080/"
        },
        "id": "wge4pOKT-PiQ",
        "outputId": "587d32c1-b554-4110-ca7d-e7e32e0c1518"
      },
      "source": [
        "james = Person()\n",
        "james.hello()"
      ],
      "execution_count": 23,
      "outputs": [
        {
          "output_type": "stream",
          "text": [
            "Hello\n"
          ],
          "name": "stdout"
        }
      ]
    },
    {
      "cell_type": "code",
      "metadata": {
        "colab": {
          "base_uri": "https://localhost:8080/"
        },
        "id": "60R8vDHs-cJW",
        "outputId": "e6d3c6f9-9320-43a5-868c-62751bf46726"
      },
      "source": [
        "isinstance(james, Person)"
      ],
      "execution_count": 24,
      "outputs": [
        {
          "output_type": "execute_result",
          "data": {
            "text/plain": [
              "True"
            ]
          },
          "metadata": {
            "tags": []
          },
          "execution_count": 24
        }
      ]
    },
    {
      "cell_type": "code",
      "metadata": {
        "id": "bYGGV1et-o6a"
      },
      "source": [
        "def factorial(n):\n",
        "    if not isinstance(n, int) or n < 0:\n",
        "        return None\n",
        "    if n == 0:\n",
        "        return 1\n",
        "    return n*factorial(n-1)"
      ],
      "execution_count": 25,
      "outputs": []
    },
    {
      "cell_type": "code",
      "metadata": {
        "id": "r60IEJZX_PRW"
      },
      "source": [
        "factorial(3.14)"
      ],
      "execution_count": 26,
      "outputs": []
    },
    {
      "cell_type": "code",
      "metadata": {
        "colab": {
          "base_uri": "https://localhost:8080/"
        },
        "id": "lV7mHVO__Ref",
        "outputId": "ca31d3bc-1255-460a-a02e-a2809aab5ead"
      },
      "source": [
        "factorial(6)"
      ],
      "execution_count": 27,
      "outputs": [
        {
          "output_type": "execute_result",
          "data": {
            "text/plain": [
              "720"
            ]
          },
          "metadata": {
            "tags": []
          },
          "execution_count": 27
        }
      ]
    },
    {
      "cell_type": "markdown",
      "metadata": {
        "id": "e68Owp_D_apS"
      },
      "source": [
        "## 34.2 속성(Attribute)"
      ]
    },
    {
      "cell_type": "code",
      "metadata": {
        "id": "PrMbAOBh_U9_"
      },
      "source": [
        "class Person:\n",
        "    def __init__(self):\n",
        "        self.hello = '안녕하세요'       # hello 속성을 갖게 됨\n",
        "\n",
        "    def greeting(self):\n",
        "        print(self.hello)"
      ],
      "execution_count": 28,
      "outputs": []
    },
    {
      "cell_type": "code",
      "metadata": {
        "colab": {
          "base_uri": "https://localhost:8080/"
        },
        "id": "GvFyffwhAARm",
        "outputId": "01ddf306-5403-422d-f92f-a2ba1904ba58"
      },
      "source": [
        "maria = Person()\n",
        "maria.greeting()"
      ],
      "execution_count": 30,
      "outputs": [
        {
          "output_type": "stream",
          "text": [
            "안녕하세요\n"
          ],
          "name": "stdout"
        }
      ]
    },
    {
      "cell_type": "code",
      "metadata": {
        "colab": {
          "base_uri": "https://localhost:8080/"
        },
        "id": "oiJMtS6GAFTD",
        "outputId": "b42fb6e2-7a97-494a-d0a6-a71cddfdd403"
      },
      "source": [
        "maria.hello = 'How are you?'\n",
        "maria.greeting()"
      ],
      "execution_count": 31,
      "outputs": [
        {
          "output_type": "stream",
          "text": [
            "How are you?\n"
          ],
          "name": "stdout"
        }
      ]
    },
    {
      "cell_type": "code",
      "metadata": {
        "id": "pj0FI9l9AsSe"
      },
      "source": [
        "class Person:\n",
        "    def __init__(self, hello):           # init == Constructor\n",
        "        self.hello = hello\n",
        "\n",
        "    def greeting(self):\n",
        "        print(self.hello)"
      ],
      "execution_count": 32,
      "outputs": []
    },
    {
      "cell_type": "code",
      "metadata": {
        "id": "rn78pdtaBrfv"
      },
      "source": [
        "james = Person('안녕하세요')\n",
        "maria = Person('How are you?')"
      ],
      "execution_count": 33,
      "outputs": []
    },
    {
      "cell_type": "code",
      "metadata": {
        "colab": {
          "base_uri": "https://localhost:8080/"
        },
        "id": "RamY424RB2YP",
        "outputId": "063979c5-8a7b-4d1e-aba2-f73ea66974c7"
      },
      "source": [
        "james.greeting()\n",
        "maria.greeting()"
      ],
      "execution_count": 34,
      "outputs": [
        {
          "output_type": "stream",
          "text": [
            "안녕하세요\n",
            "How are you?\n"
          ],
          "name": "stdout"
        }
      ]
    },
    {
      "cell_type": "code",
      "metadata": {
        "id": "SkZklWuZB6-Z"
      },
      "source": [
        "class Person:\n",
        "    def __init__(self, name, age, addr):\n",
        "        self.hello = '안녕하세요?'\n",
        "        self.name = name\n",
        "        self.age = age\n",
        "        self.addr = addr\n",
        "\n",
        "    def greeting(self):\n",
        "        print(f'{self.hello} 저는 {self.name}입니다.')\n",
        "\n",
        "    def __str__(self):\n",
        "        return f'hello: {self.hello}, name: {self.name}, age: {self.age}, addr: {self.addr}'"
      ],
      "execution_count": 38,
      "outputs": []
    },
    {
      "cell_type": "code",
      "metadata": {
        "colab": {
          "base_uri": "https://localhost:8080/"
        },
        "id": "9TEwE42BC_Og",
        "outputId": "91cf934e-e4ab-4971-e458-0fa7f14a4c61"
      },
      "source": [
        "maria = Person('마리아', 23, '서울시 강남구 도곡동')\n",
        "maria.greeting()"
      ],
      "execution_count": 40,
      "outputs": [
        {
          "output_type": "stream",
          "text": [
            "안녕하세요? 저는 마리아입니다.\n"
          ],
          "name": "stdout"
        }
      ]
    },
    {
      "cell_type": "code",
      "metadata": {
        "colab": {
          "base_uri": "https://localhost:8080/"
        },
        "id": "h3sNTiB-DMFA",
        "outputId": "669d4517-e8c5-4fb1-faa8-e4853fc285dc"
      },
      "source": [
        "print(maria)"
      ],
      "execution_count": 41,
      "outputs": [
        {
          "output_type": "stream",
          "text": [
            "hello: 안녕하세요?, name: 마리아, age: 23, addr: 서울시 강남구 도곡동\n"
          ],
          "name": "stdout"
        }
      ]
    },
    {
      "cell_type": "markdown",
      "metadata": {
        "id": "LoYe1hgDVwry"
      },
      "source": [
        "## 34.3 비공개 속성\n"
      ]
    },
    {
      "cell_type": "code",
      "metadata": {
        "colab": {
          "base_uri": "https://localhost:8080/"
        },
        "id": "czlYcD3MUq3l",
        "outputId": "b5778fc7-2f06-43f7-b4d1-e0fb94b3ca16"
      },
      "source": [
        "maria.age = 30       ## 속성값은 얼마든지 바꿀 수 있다\n",
        "print(maria)"
      ],
      "execution_count": 43,
      "outputs": [
        {
          "output_type": "stream",
          "text": [
            "hello: 안녕하세요?, name: 마리아, age: 30, addr: 서울시 강남구 도곡동\n"
          ],
          "name": "stdout"
        }
      ]
    },
    {
      "cell_type": "code",
      "metadata": {
        "id": "gM0GKFofV-_i"
      },
      "source": [
        "class Person:\n",
        "    def __init__(self, name, age, addr, wallet):\n",
        "        self.name = name\n",
        "        self.age = age\n",
        "        self.addr = addr\n",
        "        self.__wallet = wallet          # 속성 앞에 __ 를 붙이면 비공개\n",
        "\n",
        "    def greeting(self):\n",
        "        print(f'안녕하세요? 저는 {self.name}입니다.')\n",
        "\n",
        "    def pay(self, amount):\n",
        "        if self.__wallet - amount < 0:\n",
        "            print('지갑에 돈이 부족합니다.')\n",
        "            return\n",
        "        self.__wallet -= amount\n",
        "        print(f'지갑에 남은 돈은 {self.__wallet}입니다.')\n",
        "\n",
        "    def __str__(self):\n",
        "        return f'name: {self.name}, age: {self.age}, addr: {self.addr}, wallet:{self.__wallet}'"
      ],
      "execution_count": 54,
      "outputs": []
    },
    {
      "cell_type": "code",
      "metadata": {
        "colab": {
          "base_uri": "https://localhost:8080/"
        },
        "id": "kvph9UWbWs7f",
        "outputId": "5903649d-c794-4503-9ca5-dbb012aaa1dc"
      },
      "source": [
        "james = Person('제임스', 27, '서울 강남구 역삼동', 10000)\n",
        "james.greeting()"
      ],
      "execution_count": 56,
      "outputs": [
        {
          "output_type": "stream",
          "text": [
            "안녕하세요? 저는 제임스입니다.\n"
          ],
          "name": "stdout"
        }
      ]
    },
    {
      "cell_type": "code",
      "metadata": {
        "colab": {
          "base_uri": "https://localhost:8080/"
        },
        "id": "Mr05p7bDW-w4",
        "outputId": "c865484f-1cf9-41f7-8fde-43f8ea054937"
      },
      "source": [
        "print(james)"
      ],
      "execution_count": 57,
      "outputs": [
        {
          "output_type": "stream",
          "text": [
            "name: 제임스, age: 27, addr: 서울 강남구 역삼동, wallet:10000\n"
          ],
          "name": "stdout"
        }
      ]
    },
    {
      "cell_type": "code",
      "metadata": {
        "id": "B9ZaZVD7XCfy"
      },
      "source": [
        "james.__wallet = 1000000     # __wallet은 비공개 속성이기 때문에 클래서 바깥에서는 변경할 수 없음"
      ],
      "execution_count": 58,
      "outputs": []
    },
    {
      "cell_type": "code",
      "metadata": {
        "colab": {
          "base_uri": "https://localhost:8080/"
        },
        "id": "Vihom2SMXI5o",
        "outputId": "6e81392d-e659-4247-e6e6-25216c5a2c74"
      },
      "source": [
        "print(james)"
      ],
      "execution_count": 59,
      "outputs": [
        {
          "output_type": "stream",
          "text": [
            "name: 제임스, age: 27, addr: 서울 강남구 역삼동, wallet:10000\n"
          ],
          "name": "stdout"
        }
      ]
    },
    {
      "cell_type": "code",
      "metadata": {
        "colab": {
          "base_uri": "https://localhost:8080/"
        },
        "id": "K3RoKNsKXLfK",
        "outputId": "7e2484d3-f74f-4eb2-ed77-3262a07a15f2"
      },
      "source": [
        "james.pay(5000)"
      ],
      "execution_count": 60,
      "outputs": [
        {
          "output_type": "stream",
          "text": [
            "지갑에 남은 돈은 5000입니다.\n"
          ],
          "name": "stdout"
        }
      ]
    },
    {
      "cell_type": "code",
      "metadata": {
        "colab": {
          "base_uri": "https://localhost:8080/"
        },
        "id": "uHsn0HRVXSpM",
        "outputId": "ccfcce56-b3b4-4ac8-9d0c-6649821f48bf"
      },
      "source": [
        "james.pay(10000)"
      ],
      "execution_count": 61,
      "outputs": [
        {
          "output_type": "stream",
          "text": [
            "지갑에 돈이 부족합니다.\n"
          ],
          "name": "stdout"
        }
      ]
    },
    {
      "cell_type": "markdown",
      "metadata": {
        "id": "umWBnzLPZ7_E"
      },
      "source": [
        "### Account 클래스 만들기\n",
        "### 속성\n",
        "- ano : 문자열 6글자, '123456'\n",
        "- owner : 문자열\n",
        "- balance : 잔액, 비공개 속성<br>\n",
        "### Method\n",
        "- 생성자\n",
        "- deposit(amount)    1000만원 이상은 입금할 수 없음\n",
        "- withdraw(amount)   잔액이 0원 미만이면 출금할 수 없음\n",
        "- 출력 가능하게"
      ]
    },
    {
      "cell_type": "code",
      "metadata": {
        "id": "HJCwX8-bYb3-"
      },
      "source": [
        "class Account:\n",
        "    def __init__(self, ano, owner, balance):\n",
        "        self.ano = ano\n",
        "        self.owner = owner\n",
        "        self.__balance = balance\n",
        "\n",
        "    def deposit(self, amount):\n",
        "        if amount + self.__balance >= 10000000:\n",
        "            print('천만원 이상은 잔액으로 가져갈 수 없습니다.')\n",
        "            return\n",
        "        self.__balance += amount\n",
        "\n",
        "    def withdraw(self, amount):\n",
        "        if self.__balance - amount < 0:\n",
        "            print('잔액이 부족합니다.')\n",
        "            return\n",
        "        self.__balance -= amount\n",
        "\n",
        "    def __str__(self):\n",
        "        return f'계좌번호 : {self.ano}, 소유주 : {self.owner}, 잔액 : {self.__balance:9,d}'\n"
      ],
      "execution_count": 88,
      "outputs": []
    },
    {
      "cell_type": "code",
      "metadata": {
        "colab": {
          "base_uri": "https://localhost:8080/"
        },
        "id": "xAGudJrMeCmy",
        "outputId": "e19a4866-30df-4efd-cea6-f96add9d3e2e"
      },
      "source": [
        "acc = Account('123456', '제임스', 100000)\n",
        "print(acc)"
      ],
      "execution_count": 102,
      "outputs": [
        {
          "output_type": "stream",
          "text": [
            "계좌번호 : 123456, 소유주 : 제임스, 잔액 :   100,000\n"
          ],
          "name": "stdout"
        }
      ]
    },
    {
      "cell_type": "code",
      "metadata": {
        "colab": {
          "base_uri": "https://localhost:8080/"
        },
        "id": "kkEY0cVaeQ0O",
        "outputId": "12d3c935-8b83-4364-945b-4f869b8b94d9"
      },
      "source": [
        "acc.deposit(3000000)\n",
        "print(acc)"
      ],
      "execution_count": 103,
      "outputs": [
        {
          "output_type": "stream",
          "text": [
            "계좌번호 : 123456, 소유주 : 제임스, 잔액 : 3,100,000\n"
          ],
          "name": "stdout"
        }
      ]
    },
    {
      "cell_type": "code",
      "metadata": {
        "colab": {
          "base_uri": "https://localhost:8080/"
        },
        "id": "RQOFAAYZeaLi",
        "outputId": "989dc3fb-40fd-4e23-e5ef-73e4d17786f1"
      },
      "source": [
        "acc.deposit(7000000)\n",
        "print(acc)"
      ],
      "execution_count": 104,
      "outputs": [
        {
          "output_type": "stream",
          "text": [
            "천만원 이상은 잔액으로 가져갈 수 없습니다.\n",
            "계좌번호 : 123456, 소유주 : 제임스, 잔액 : 3,100,000\n"
          ],
          "name": "stdout"
        }
      ]
    },
    {
      "cell_type": "code",
      "metadata": {
        "colab": {
          "base_uri": "https://localhost:8080/"
        },
        "id": "Um6FIAX2ee0C",
        "outputId": "d175b25e-72b4-4bf7-9703-ff186c881910"
      },
      "source": [
        "acc.withdraw(2000000)\n",
        "print(acc)"
      ],
      "execution_count": 105,
      "outputs": [
        {
          "output_type": "stream",
          "text": [
            "계좌번호 : 123456, 소유주 : 제임스, 잔액 : 1,100,000\n"
          ],
          "name": "stdout"
        }
      ]
    },
    {
      "cell_type": "code",
      "metadata": {
        "colab": {
          "base_uri": "https://localhost:8080/"
        },
        "id": "VFZxAepUiSDZ",
        "outputId": "90bf1edb-2197-44f5-b639-9477b818dd4a"
      },
      "source": [
        "acc.withdraw(2000000)\n",
        "print(acc)"
      ],
      "execution_count": 106,
      "outputs": [
        {
          "output_type": "stream",
          "text": [
            "잔액이 부족합니다.\n",
            "계좌번호 : 123456, 소유주 : 제임스, 잔액 : 1,100,000\n"
          ],
          "name": "stdout"
        }
      ]
    },
    {
      "cell_type": "code",
      "metadata": {
        "colab": {
          "base_uri": "https://localhost:8080/"
        },
        "id": "SktLjzbdel0W",
        "outputId": "5bcac7f0-e788-45be-83a6-d9b514db3fd0"
      },
      "source": [
        "acc2 = Account('987432','마리아',3000000)\n",
        "print(acc2)"
      ],
      "execution_count": 107,
      "outputs": [
        {
          "output_type": "stream",
          "text": [
            "계좌번호 : 987432, 소유주 : 마리아, 잔액 : 3,000,000\n"
          ],
          "name": "stdout"
        }
      ]
    },
    {
      "cell_type": "code",
      "metadata": {
        "id": "e-kX57eIiVdW"
      },
      "source": [
        "acc_list = [acc, acc2]"
      ],
      "execution_count": 108,
      "outputs": []
    },
    {
      "cell_type": "code",
      "metadata": {
        "colab": {
          "base_uri": "https://localhost:8080/"
        },
        "id": "-geqyP3QiZ9v",
        "outputId": "8aaa1943-337b-434a-bfab-8a84c993b987"
      },
      "source": [
        "for account in acc_list:\n",
        "    print(account)"
      ],
      "execution_count": 109,
      "outputs": [
        {
          "output_type": "stream",
          "text": [
            "계좌번호 : 123456, 소유주 : 제임스, 잔액 : 1,100,000\n",
            "계좌번호 : 987432, 소유주 : 마리아, 잔액 : 3,000,000\n"
          ],
          "name": "stdout"
        }
      ]
    },
    {
      "cell_type": "markdown",
      "metadata": {
        "id": "WytFvlUcfu_p"
      },
      "source": [
        "### 1:계좌생성, 2:계좌목록, 3:입금, 4:출금, 5:종료"
      ]
    },
    {
      "cell_type": "code",
      "metadata": {
        "id": "TnvjwAVoj6Mh"
      },
      "source": [
        "# 사용자로부터 필요한 정보를 입력 받아서 계좌를 생성함\n",
        "def create_account():\n",
        "    s = input('계좌번호 성명 금액>').split()\n",
        "    ano, owner = s[0], s[1]\n",
        "    amount = int(s[2])\n",
        "    acc = Account(ano, owner, amount)\n",
        "    acc_list.append(acc)"
      ],
      "execution_count": 114,
      "outputs": []
    },
    {
      "cell_type": "code",
      "metadata": {
        "id": "cIzZjLUIkEsz"
      },
      "source": [
        "# 사용자로부터 필요한 정보를 입력 받아서 계좌에 돈을 입금함\n",
        "def deposit_account():\n",
        "    s = input('계좌번호 금액> ').split()\n",
        "    ano, amount = s[0], int(s[1])\n",
        "    for acc in acc_list:\n",
        "        if acc.ano == ano:\n",
        "            acc.deposit(amount)\n",
        "            return"
      ],
      "execution_count": 116,
      "outputs": []
    },
    {
      "cell_type": "code",
      "metadata": {
        "id": "eiBuq6olkJuf"
      },
      "source": [
        "# 사용자로부터 필요한 정보를 입력 받아서 계좌에서 돈을 출금함\n",
        "def withdraw_account():\n",
        "        s = input('계좌번호 금액> ').split()\n",
        "        ano, amount = s[0], int(s[1])\n",
        "        for acc in acc_list:\n",
        "           if acc.ano == ano:\n",
        "               acc.withdraw (amount)\n",
        "               return"
      ],
      "execution_count": 119,
      "outputs": []
    },
    {
      "cell_type": "code",
      "metadata": {
        "colab": {
          "base_uri": "https://localhost:8080/"
        },
        "id": "POveegyUfSBM",
        "outputId": "93afcfcf-6ce7-480b-8b0d-f375671e4293"
      },
      "source": [
        "while True:\n",
        "    menu = int(input('1:계좌생성, 2:계좌목록, 3:입금, 4:출금, 5:종료'))\n",
        "    if menu == 5:\n",
        "        break\n",
        "    if menu == 1:\n",
        "        create_account()\n",
        "    elif menu == 2:\n",
        "        for account in acc_list:\n",
        "            print(account)\n",
        "    elif menu == 3:\n",
        "        deposit_account()\n",
        "    elif menu == 4:\n",
        "        withdraw_account()\n",
        "    else:\n",
        "        print('잘못된 명령어입니다.')\n",
        "    print()"
      ],
      "execution_count": 120,
      "outputs": [
        {
          "output_type": "stream",
          "text": [
            "1:계좌생성, 2:계좌목록, 3:입금, 4:출금, 5:종료2\n",
            "계좌번호 : 123456, 소유주 : 제임스, 잔액 : 1,100,000\n",
            "계좌번호 : 987432, 소유주 : 마리아, 잔액 : 3,000,000\n",
            "계좌번호 : 333555, 소유주 : 홍길동, 잔액 : 1,250,000\n",
            "\n",
            "1:계좌생성, 2:계좌목록, 3:입금, 4:출금, 5:종료4\n",
            "계좌번호 금액> 987432 330000\n",
            "\n",
            "1:계좌생성, 2:계좌목록, 3:입금, 4:출금, 5:종료2\n",
            "계좌번호 : 123456, 소유주 : 제임스, 잔액 : 1,100,000\n",
            "계좌번호 : 987432, 소유주 : 마리아, 잔액 : 2,670,000\n",
            "계좌번호 : 333555, 소유주 : 홍길동, 잔액 : 1,250,000\n",
            "\n",
            "1:계좌생성, 2:계좌목록, 3:입금, 4:출금, 5:종료4\n",
            "계좌번호 금액> 123456 2000000\n",
            "잔액이 부족합니다.\n",
            "\n",
            "1:계좌생성, 2:계좌목록, 3:입금, 4:출금, 5:종료2\n",
            "계좌번호 : 123456, 소유주 : 제임스, 잔액 : 1,100,000\n",
            "계좌번호 : 987432, 소유주 : 마리아, 잔액 : 2,670,000\n",
            "계좌번호 : 333555, 소유주 : 홍길동, 잔액 : 1,250,000\n",
            "\n",
            "1:계좌생성, 2:계좌목록, 3:입금, 4:출금, 5:종료5\n"
          ],
          "name": "stdout"
        }
      ]
    },
    {
      "cell_type": "code",
      "metadata": {
        "id": "4YUjUE0SpDtc"
      },
      "source": [
        ""
      ],
      "execution_count": null,
      "outputs": []
    }
  ]
}