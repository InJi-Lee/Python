{
  "nbformat": 4,
  "nbformat_minor": 0,
  "metadata": {
    "colab": {
      "name": "U36_상속.ipynb",
      "provenance": [],
      "collapsed_sections": []
    },
    "kernelspec": {
      "name": "python3",
      "display_name": "Python 3"
    },
    "language_info": {
      "name": "python"
    }
  },
  "cells": [
    {
      "cell_type": "markdown",
      "metadata": {
        "id": "cOIFJjKUwYqc"
      },
      "source": [
        "# Unit 36. 상속(Interitance)"
      ]
    },
    {
      "cell_type": "markdown",
      "metadata": {
        "id": "-Mqd2CS-x3ww"
      },
      "source": [
        "## 36.1 기본상속"
      ]
    },
    {
      "cell_type": "code",
      "metadata": {
        "id": "GzhhASG2wUut"
      },
      "source": [
        "class Person():\n",
        "    def greeting(self):\n",
        "        print('안녕하세요?')\n",
        "\n",
        "class Student(Person):\n",
        "    def study(self):\n",
        "        print('공부하기')"
      ],
      "execution_count": 1,
      "outputs": []
    },
    {
      "cell_type": "code",
      "metadata": {
        "colab": {
          "base_uri": "https://localhost:8080/"
        },
        "id": "EJKIL2IxyWCx",
        "outputId": "8e5a5e4c-1d3d-425f-a258-e6a48937f8df"
      },
      "source": [
        "james = Student()\n",
        "james.greeting()"
      ],
      "execution_count": 2,
      "outputs": [
        {
          "output_type": "stream",
          "text": [
            "안녕하세요?\n"
          ],
          "name": "stdout"
        }
      ]
    },
    {
      "cell_type": "code",
      "metadata": {
        "colab": {
          "base_uri": "https://localhost:8080/"
        },
        "id": "6qEHnlvPyftB",
        "outputId": "fc40b5f6-5c34-492c-c952-d80a7daf83a8"
      },
      "source": [
        "james.study()"
      ],
      "execution_count": 3,
      "outputs": [
        {
          "output_type": "stream",
          "text": [
            "공부하기\n"
          ],
          "name": "stdout"
        }
      ]
    },
    {
      "cell_type": "markdown",
      "metadata": {
        "id": "PoNIPYvfzjCz"
      },
      "source": [
        "## 36.3 기반 클래스의 속성 사용하기"
      ]
    },
    {
      "cell_type": "code",
      "metadata": {
        "id": "MIQclHCjyo6J"
      },
      "source": [
        "class Person:\n",
        "    def __init__(self):\n",
        "        self.hello = '안녕하세요?'\n",
        "        print('Person.__init__')\n",
        "class Student(Person):\n",
        "    def __init__(self):\n",
        "        self.school = '파이썬'\n",
        "        print('Student.__init__')"
      ],
      "execution_count": 4,
      "outputs": []
    },
    {
      "cell_type": "code",
      "metadata": {
        "colab": {
          "base_uri": "https://localhost:8080/",
          "height": 53
        },
        "id": "FrTOUxps0Pzb",
        "outputId": "cad7166b-42ce-4f0a-ff3b-29805d4fe7d2"
      },
      "source": [
        "james = Student()\n",
        "james.school"
      ],
      "execution_count": 5,
      "outputs": [
        {
          "output_type": "stream",
          "text": [
            "Student.__init__\n"
          ],
          "name": "stdout"
        },
        {
          "output_type": "execute_result",
          "data": {
            "application/vnd.google.colaboratory.intrinsic+json": {
              "type": "string"
            },
            "text/plain": [
              "'파이썬'"
            ]
          },
          "metadata": {
            "tags": []
          },
          "execution_count": 5
        }
      ]
    },
    {
      "cell_type": "code",
      "metadata": {
        "colab": {
          "base_uri": "https://localhost:8080/",
          "height": 172
        },
        "id": "U6jyjtwT0ZXf",
        "outputId": "b7a8cf87-bad5-4e2f-9b53-48ee72171f5c"
      },
      "source": [
        "james.hello"
      ],
      "execution_count": 6,
      "outputs": [
        {
          "output_type": "error",
          "ename": "AttributeError",
          "evalue": "ignored",
          "traceback": [
            "\u001b[0;31m---------------------------------------------------------------------------\u001b[0m",
            "\u001b[0;31mAttributeError\u001b[0m                            Traceback (most recent call last)",
            "\u001b[0;32m<ipython-input-6-da95e56173fd>\u001b[0m in \u001b[0;36m<module>\u001b[0;34m()\u001b[0m\n\u001b[0;32m----> 1\u001b[0;31m \u001b[0mjames\u001b[0m\u001b[0;34m.\u001b[0m\u001b[0mhello\u001b[0m\u001b[0;34m\u001b[0m\u001b[0;34m\u001b[0m\u001b[0m\n\u001b[0m",
            "\u001b[0;31mAttributeError\u001b[0m: 'Student' object has no attribute 'hello'"
          ]
        }
      ]
    },
    {
      "cell_type": "markdown",
      "metadata": {
        "id": "3KuPh4mg01DA"
      },
      "source": [
        "### super()로 기반 글래스 초기화"
      ]
    },
    {
      "cell_type": "code",
      "metadata": {
        "id": "sy2_Fj_t0oPI"
      },
      "source": [
        "class Person:\n",
        "    def __init__(self):\n",
        "        self.hello = '안녕하세요?'\n",
        "        print('Person.__init__')\n",
        "        \n",
        "class Student(Person):\n",
        "    def __init__(self):\n",
        "        super().__init__()\n",
        "        self.school = '파이썬'\n",
        "        print('Student.__init__')"
      ],
      "execution_count": 10,
      "outputs": []
    },
    {
      "cell_type": "code",
      "metadata": {
        "colab": {
          "base_uri": "https://localhost:8080/",
          "height": 71
        },
        "id": "FIVnOWz806qJ",
        "outputId": "53d497f6-9979-4904-ff33-818cb9c502ad"
      },
      "source": [
        "james = Student()\n",
        "james.hello"
      ],
      "execution_count": 11,
      "outputs": [
        {
          "output_type": "stream",
          "text": [
            "Person.__init__\n",
            "Student.__init__\n"
          ],
          "name": "stdout"
        },
        {
          "output_type": "execute_result",
          "data": {
            "application/vnd.google.colaboratory.intrinsic+json": {
              "type": "string"
            },
            "text/plain": [
              "'안녕하세요?'"
            ]
          },
          "metadata": {
            "tags": []
          },
          "execution_count": 11
        }
      ]
    },
    {
      "cell_type": "code",
      "metadata": {
        "id": "pHF-6vzC0_cJ"
      },
      "source": [
        "class Person:\n",
        "    def __init__(self):\n",
        "        self.hello = '안녕하세요?'\n",
        "        print('Person.__init__')\n",
        "        \n",
        "class Student(Person):\n",
        "    pass"
      ],
      "execution_count": 12,
      "outputs": []
    },
    {
      "cell_type": "code",
      "metadata": {
        "colab": {
          "base_uri": "https://localhost:8080/",
          "height": 53
        },
        "id": "k14Urx7O1Y0S",
        "outputId": "7424a762-99f6-4335-df58-0348df8c8f95"
      },
      "source": [
        "maria = Student()\n",
        "maria.hello"
      ],
      "execution_count": 13,
      "outputs": [
        {
          "output_type": "stream",
          "text": [
            "Person.__init__\n"
          ],
          "name": "stdout"
        },
        {
          "output_type": "execute_result",
          "data": {
            "application/vnd.google.colaboratory.intrinsic+json": {
              "type": "string"
            },
            "text/plain": [
              "'안녕하세요?'"
            ]
          },
          "metadata": {
            "tags": []
          },
          "execution_count": 13
        }
      ]
    },
    {
      "cell_type": "markdown",
      "metadata": {
        "id": "dLgsK3oG1zpz"
      },
      "source": [
        "## 36.4 Method Overriding"
      ]
    },
    {
      "cell_type": "code",
      "metadata": {
        "id": "Oj2h2lfy1cBz"
      },
      "source": [
        "class Person:\n",
        "    def greeting(self):\n",
        "        print('안녕하세요?')\n",
        "\n",
        "class Student(Person):\n",
        "    def greeting(self):\n",
        "        print('안녕하세요? 저는 파이썬 학생입니다.')"
      ],
      "execution_count": 14,
      "outputs": []
    },
    {
      "cell_type": "code",
      "metadata": {
        "colab": {
          "base_uri": "https://localhost:8080/"
        },
        "id": "nJG_sng42cri",
        "outputId": "eb849f09-0ae2-4fd1-b7b9-e2204096efac"
      },
      "source": [
        "james = Student()\n",
        "james.greeting()"
      ],
      "execution_count": 15,
      "outputs": [
        {
          "output_type": "stream",
          "text": [
            "안녕하세요? 저는 파이썬 학생입니다.\n"
          ],
          "name": "stdout"
        }
      ]
    },
    {
      "cell_type": "code",
      "metadata": {
        "id": "bSSMchS52hLI"
      },
      "source": [
        "class Person:\n",
        "    def greeting(self):\n",
        "        print('안녕하세요?')\n",
        "\n",
        "class Student(Person):\n",
        "    def greeting(self):\n",
        "        super().greeting()\n",
        "        print('안녕하세요? 저는 파이썬 학생입니다.')"
      ],
      "execution_count": 16,
      "outputs": []
    },
    {
      "cell_type": "code",
      "metadata": {
        "colab": {
          "base_uri": "https://localhost:8080/"
        },
        "id": "WEme0o473d4C",
        "outputId": "1a2ffabf-f5ef-4e5a-a456-18f44201c7b4"
      },
      "source": [
        "maria = Student()\n",
        "maria.greeting()"
      ],
      "execution_count": 17,
      "outputs": [
        {
          "output_type": "stream",
          "text": [
            "안녕하세요?\n",
            "안녕하세요? 저는 파이썬 학생입니다.\n"
          ],
          "name": "stdout"
        }
      ]
    },
    {
      "cell_type": "markdown",
      "metadata": {
        "id": "tl9UaqvB6CnX"
      },
      "source": [
        "## 36.6 추상 클래스 - Interface"
      ]
    },
    {
      "cell_type": "code",
      "metadata": {
        "id": "R7Qk8LKH3lA8"
      },
      "source": [
        "from abc import *\n",
        "\n",
        "class StudentBase(metaclass=ABCMeta):\n",
        "    @abstractmethod                 # decorator\n",
        "    def study(self):\n",
        "        pass\n",
        "\n",
        "    @abstractmethod\n",
        "    def go_to_school(self):\n",
        "        pass"
      ],
      "execution_count": 18,
      "outputs": []
    },
    {
      "cell_type": "code",
      "metadata": {
        "id": "Rgcwo1I2--A8"
      },
      "source": [
        "class Student(StudentBase):\n",
        "    def study(self):\n",
        "        print('공부하기')"
      ],
      "execution_count": 19,
      "outputs": []
    },
    {
      "cell_type": "code",
      "metadata": {
        "colab": {
          "base_uri": "https://localhost:8080/",
          "height": 190
        },
        "id": "DHd0Cdx6_HLe",
        "outputId": "1b2e6484-9876-4fc1-80a6-2ee9baf103c6"
      },
      "source": [
        "james = Student()\n",
        "james.study()"
      ],
      "execution_count": 20,
      "outputs": [
        {
          "output_type": "error",
          "ename": "TypeError",
          "evalue": "ignored",
          "traceback": [
            "\u001b[0;31m---------------------------------------------------------------------------\u001b[0m",
            "\u001b[0;31mTypeError\u001b[0m                                 Traceback (most recent call last)",
            "\u001b[0;32m<ipython-input-20-5f2e5861623e>\u001b[0m in \u001b[0;36m<module>\u001b[0;34m()\u001b[0m\n\u001b[0;32m----> 1\u001b[0;31m \u001b[0mjames\u001b[0m \u001b[0;34m=\u001b[0m \u001b[0mStudent\u001b[0m\u001b[0;34m(\u001b[0m\u001b[0;34m)\u001b[0m\u001b[0;34m\u001b[0m\u001b[0;34m\u001b[0m\u001b[0m\n\u001b[0m\u001b[1;32m      2\u001b[0m \u001b[0mjames\u001b[0m\u001b[0;34m.\u001b[0m\u001b[0mstudy\u001b[0m\u001b[0;34m(\u001b[0m\u001b[0;34m)\u001b[0m\u001b[0;34m\u001b[0m\u001b[0;34m\u001b[0m\u001b[0m\n",
            "\u001b[0;31mTypeError\u001b[0m: Can't instantiate abstract class Student with abstract methods go_to_school"
          ]
        }
      ]
    },
    {
      "cell_type": "code",
      "metadata": {
        "id": "X1k-J7dV_Z6o"
      },
      "source": [
        "class Student(StudentBase):\n",
        "    def study(self):\n",
        "        print('공부하기')\n",
        "    def go_to_school(self):\n",
        "        print('학교가기')"
      ],
      "execution_count": 21,
      "outputs": []
    },
    {
      "cell_type": "code",
      "metadata": {
        "colab": {
          "base_uri": "https://localhost:8080/"
        },
        "id": "WH4YmHFN_iEf",
        "outputId": "5a148c44-f163-44ac-c43b-6acd07ef4635"
      },
      "source": [
        "james = Student()\n",
        "james.study()"
      ],
      "execution_count": 22,
      "outputs": [
        {
          "output_type": "stream",
          "text": [
            "공부하기\n"
          ],
          "name": "stdout"
        }
      ]
    },
    {
      "cell_type": "code",
      "metadata": {
        "id": "kHs9r8cx_oPo"
      },
      "source": [
        ""
      ],
      "execution_count": null,
      "outputs": []
    }
  ]
}