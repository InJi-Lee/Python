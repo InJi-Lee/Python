{
  "nbformat": 4,
  "nbformat_minor": 0,
  "metadata": {
    "colab": {
      "name": "U35_정적매서드.ipynb",
      "provenance": [],
      "collapsed_sections": []
    },
    "kernelspec": {
      "name": "python3",
      "display_name": "Python 3"
    },
    "language_info": {
      "name": "python"
    }
  },
  "cells": [
    {
      "cell_type": "markdown",
      "metadata": {
        "id": "lKaBP_iqA3jK"
      },
      "source": [
        "# Unit 35. 정적 매서드"
      ]
    },
    {
      "cell_type": "code",
      "metadata": {
        "id": "UMn1D2shAykl"
      },
      "source": [
        "class Calc:\n",
        "    @staticmethod\n",
        "    def add(a,b):\n",
        "        print(a + b)"
      ],
      "execution_count": 1,
      "outputs": []
    },
    {
      "cell_type": "code",
      "metadata": {
        "colab": {
          "base_uri": "https://localhost:8080/"
        },
        "id": "ISC46ot0BVMC",
        "outputId": "f917ecb8-d860-49fa-ce6e-2e7a97aa4674"
      },
      "source": [
        "Calc.add(10, 20)"
      ],
      "execution_count": 2,
      "outputs": [
        {
          "output_type": "stream",
          "text": [
            "30\n"
          ],
          "name": "stdout"
        }
      ]
    },
    {
      "cell_type": "code",
      "metadata": {
        "id": "VQrsh0TSBgHA"
      },
      "source": [
        ""
      ],
      "execution_count": null,
      "outputs": []
    }
  ]
}