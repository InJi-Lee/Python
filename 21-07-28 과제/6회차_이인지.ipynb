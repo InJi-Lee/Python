{
  "nbformat": 4,
  "nbformat_minor": 0,
  "metadata": {
    "colab": {
      "name": "6회차_이인지.ipynb",
      "provenance": [],
      "collapsed_sections": []
    },
    "kernelspec": {
      "name": "python3",
      "display_name": "Python 3"
    },
    "language_info": {
      "name": "python"
    }
  },
  "cells": [
    {
      "cell_type": "markdown",
      "metadata": {
        "id": "HKbKpGWHwwcv"
      },
      "source": [
        "# U08 심사문제\n",
        "### 표준 입력으로 국어, 영어, 수학, 과학 점수가 입력됩니다. 국어는 90점 이상, 영어는 80점 초과, 수학은 85점 초과, 과학은 80점 이상일 때 합격이라고 정했습니다(한 과목이라도 조건에 만족하지 않으면 불합격). 다음 소스 코드를 완성하여 합격이면 True, 불합격이면 False가 출력되게 만드세요(input에서 안내 문자열은 출력하지 않아야 합니다)."
      ]
    },
    {
      "cell_type": "code",
      "metadata": {
        "colab": {
          "base_uri": "https://localhost:8080/"
        },
        "id": "WevEFp7nwmci",
        "outputId": "ea31d985-febf-439d-e927-0aa510591074"
      },
      "source": [
        "# 입력 ex)1\n",
        "korean, english, math, science = map(int,input().split())"
      ],
      "execution_count": 1,
      "outputs": [
        {
          "output_type": "stream",
          "text": [
            "90 81 86 80\n"
          ],
          "name": "stdout"
        }
      ]
    },
    {
      "cell_type": "code",
      "metadata": {
        "colab": {
          "base_uri": "https://localhost:8080/"
        },
        "id": "Nrzv7cbCxs_L",
        "outputId": "5d1c4741-1dc0-4dbc-df55-2d158a637f37"
      },
      "source": [
        "print(korean>=90 and english>80 and math>85 and science>=80)"
      ],
      "execution_count": 2,
      "outputs": [
        {
          "output_type": "stream",
          "text": [
            "True\n"
          ],
          "name": "stdout"
        }
      ]
    },
    {
      "cell_type": "code",
      "metadata": {
        "colab": {
          "base_uri": "https://localhost:8080/"
        },
        "id": "vg3dtTBdx2kv",
        "outputId": "ad33b1ef-1420-4b02-90a3-5ddd15c9f379"
      },
      "source": [
        "# 입력 ex)2\n",
        "korean, english, math, science = map(int,input().split())"
      ],
      "execution_count": 3,
      "outputs": [
        {
          "output_type": "stream",
          "text": [
            "90 80 85 80\n"
          ],
          "name": "stdout"
        }
      ]
    },
    {
      "cell_type": "code",
      "metadata": {
        "colab": {
          "base_uri": "https://localhost:8080/"
        },
        "id": "28cyFqrFx-CH",
        "outputId": "5a9225f7-4e77-4269-8ed8-4e728a2f093e"
      },
      "source": [
        "print(korean>=90 and english>80 and math>85 and science>=80)"
      ],
      "execution_count": 4,
      "outputs": [
        {
          "output_type": "stream",
          "text": [
            "False\n"
          ],
          "name": "stdout"
        }
      ]
    },
    {
      "cell_type": "markdown",
      "metadata": {
        "id": "HVgoCvoAyC3r"
      },
      "source": [
        "# U09 심사문제\n",
        "### 다음 소스 코드를 완성하여 실행 결과대로 문자열이 출력되게 만드세요.\n",
        "### 결과 \n",
        "###'Python' is a \"programming language\"\n",
        "###that lets you work quickly\n",
        "###and\n",
        "###integrate systems more effectively."
      ]
    },
    {
      "cell_type": "code",
      "metadata": {
        "colab": {
          "base_uri": "https://localhost:8080/"
        },
        "id": "Em-r21LLyBzy",
        "outputId": "481bd601-0146-4d4b-c1db-0b79800cd1dc"
      },
      "source": [
        "s =\"\"\"\\'Python\\' is a \\\"programming language\\\"\n",
        "that lets you work quickly\n",
        "and\n",
        "integrate systems more effectively.\"\"\"\n",
        "print(s)"
      ],
      "execution_count": 6,
      "outputs": [
        {
          "output_type": "stream",
          "text": [
            "'Python' is a \"programming language\"\n",
            "that lets you work quickly\n",
            "and\n",
            "integrate systems more effectively.\n"
          ],
          "name": "stdout"
        }
      ]
    },
    {
      "cell_type": "markdown",
      "metadata": {
        "id": "ZcuzhKsZ1F5j"
      },
      "source": [
        "# U10 심사문제\n",
        "### 표준 입력으로 정수가 입력됩니다. range의 시작하는 숫자는 -10, 끝나는 숫자는 10이며 입력된 정수만큼 증가하는 숫자가 들어가도록 튜플을 만들고, 해당 튜플을 출력하는 프로그램을 만드세요(input에서 안내 문자열은 출력하지 않아야 합니다)"
      ]
    },
    {
      "cell_type": "code",
      "metadata": {
        "colab": {
          "base_uri": "https://localhost:8080/"
        },
        "id": "dGLE3tgG06gc",
        "outputId": "e5ca407f-22a4-4bd7-9459-4b657b8a2c9c"
      },
      "source": [
        "# 입력 ex)1\n",
        "a = int(input())\n",
        "b = tuple(range(-10, 10, a))\n",
        "print(b)"
      ],
      "execution_count": 7,
      "outputs": [
        {
          "output_type": "stream",
          "text": [
            "2\n",
            "(-10, -8, -6, -4, -2, 0, 2, 4, 6, 8)\n"
          ],
          "name": "stdout"
        }
      ]
    },
    {
      "cell_type": "code",
      "metadata": {
        "colab": {
          "base_uri": "https://localhost:8080/"
        },
        "id": "hU3h7You2584",
        "outputId": "98fd8c4a-d259-4955-f27c-b756d9cf5fa0"
      },
      "source": [
        "# 입력 ex)2\n",
        "a = int(input())\n",
        "b = tuple(range(-10, 10, a))\n",
        "print(b)"
      ],
      "execution_count": 8,
      "outputs": [
        {
          "output_type": "stream",
          "text": [
            "3\n",
            "(-10, -7, -4, -1, 2, 5, 8)\n"
          ],
          "name": "stdout"
        }
      ]
    },
    {
      "cell_type": "markdown",
      "metadata": {
        "id": "J3fvlLex3Agt"
      },
      "source": [
        "# U11 심사문제1\n",
        "### 표준 입력으로 숫자 또는 문자열 여러 개가 입력되어 리스트 x에 저장됩니다(입력되는 숫자 또는 문자열의 개수는 정해져 있지 않음). 다음 소스 코드를 완성하여 리스트 x의 마지막 요소 5개를 삭제한 뒤 튜플로 출력되게 만드세요."
      ]
    },
    {
      "cell_type": "code",
      "metadata": {
        "colab": {
          "base_uri": "https://localhost:8080/"
        },
        "id": "0gtxPQpi2-_r",
        "outputId": "6a5d6289-5ef4-4843-ccd6-f3af07996b45"
      },
      "source": [
        "# 입력 ex)1\n",
        "x = input().split()"
      ],
      "execution_count": 9,
      "outputs": [
        {
          "output_type": "stream",
          "text": [
            "1 2 3 4  5  6 7 8 9 10\n"
          ],
          "name": "stdout"
        }
      ]
    },
    {
      "cell_type": "code",
      "metadata": {
        "colab": {
          "base_uri": "https://localhost:8080/"
        },
        "id": "qUnHHgdC3sWl",
        "outputId": "a22b4a36-64d0-4cf4-a449-99c21973bfe1"
      },
      "source": [
        "del x[-5:]\n",
        "print(tuple(x))"
      ],
      "execution_count": 10,
      "outputs": [
        {
          "output_type": "stream",
          "text": [
            "('1', '2', '3', '4', '5')\n"
          ],
          "name": "stdout"
        }
      ]
    },
    {
      "cell_type": "code",
      "metadata": {
        "colab": {
          "base_uri": "https://localhost:8080/"
        },
        "id": "7XqlsIgi4Lvz",
        "outputId": "e2670932-79cc-463b-ccb1-5bc358ffe003"
      },
      "source": [
        "# 입력 ex)2\n",
        "x = input().split()"
      ],
      "execution_count": 11,
      "outputs": [
        {
          "output_type": "stream",
          "text": [
            "oven bat pony total leak wreck curl crop space navy loss knee\n"
          ],
          "name": "stdout"
        }
      ]
    },
    {
      "cell_type": "code",
      "metadata": {
        "colab": {
          "base_uri": "https://localhost:8080/"
        },
        "id": "bQ-Y8Oeq4QmS",
        "outputId": "69680e36-e6fe-4979-9938-161d99da676b"
      },
      "source": [
        "del x[-5:]\n",
        "print(tuple(x))"
      ],
      "execution_count": 12,
      "outputs": [
        {
          "output_type": "stream",
          "text": [
            "('oven', 'bat', 'pony', 'total', 'leak', 'wreck', 'curl')\n"
          ],
          "name": "stdout"
        }
      ]
    },
    {
      "cell_type": "markdown",
      "metadata": {
        "id": "vGkgVZn34heH"
      },
      "source": [
        "# U11 심사문제2\n",
        "### 표준 입력으로 문자열 두 개가 각 줄에 입력됩니다(문자열의 길이는 정해져 있지 않음). 첫 번째 문자열에서 인덱스가 홀수인 문자와 두 번째 문자열에서 인덱스가 짝수인 문자를 연결하여 출력하는 프로그램을 만드세요(input에서 안내 문자열은 출력하지 않아야 합니다). 연결 순서는 첫 번째 문자열, 두 번째 문자열 순입니다. 그리고 0은 짝수로 처리합니다.\n"
      ]
    },
    {
      "cell_type": "code",
      "metadata": {
        "colab": {
          "base_uri": "https://localhost:8080/"
        },
        "id": "9CXdqfLO4f-9",
        "outputId": "40069301-5935-42bd-d353-b5af74093ea6"
      },
      "source": [
        "# 입력 ex)1\n",
        "x = input()"
      ],
      "execution_count": 13,
      "outputs": [
        {
          "output_type": "stream",
          "text": [
            "python\n"
          ],
          "name": "stdout"
        }
      ]
    },
    {
      "cell_type": "code",
      "metadata": {
        "colab": {
          "base_uri": "https://localhost:8080/"
        },
        "id": "iT_vdpk85DP-",
        "outputId": "ac6d07ca-bda3-48be-9d72-f7ecb2e28f10"
      },
      "source": [
        "y = input()"
      ],
      "execution_count": 14,
      "outputs": [
        {
          "output_type": "stream",
          "text": [
            "python\n"
          ],
          "name": "stdout"
        }
      ]
    },
    {
      "cell_type": "code",
      "metadata": {
        "colab": {
          "base_uri": "https://localhost:8080/"
        },
        "id": "X5_IM26e5ano",
        "outputId": "c158d764-a300-415c-a0e8-9dade645290e"
      },
      "source": [
        "print(x[1::2]+y[::2])"
      ],
      "execution_count": 17,
      "outputs": [
        {
          "output_type": "stream",
          "text": [
            "yhnpto\n"
          ],
          "name": "stdout"
        }
      ]
    },
    {
      "cell_type": "code",
      "metadata": {
        "colab": {
          "base_uri": "https://localhost:8080/"
        },
        "id": "Lr0cgAvk5vCw",
        "outputId": "598f3833-7d3d-4f2b-94f6-ba92d59eedc9"
      },
      "source": [
        "# 입력 ex)2\n",
        "x = input()"
      ],
      "execution_count": 18,
      "outputs": [
        {
          "output_type": "stream",
          "text": [
            "apple\n"
          ],
          "name": "stdout"
        }
      ]
    },
    {
      "cell_type": "code",
      "metadata": {
        "colab": {
          "base_uri": "https://localhost:8080/"
        },
        "id": "o0JK7SFC6LV0",
        "outputId": "33c8bafa-a1a5-4311-c9e1-a6cf0d577576"
      },
      "source": [
        "y = input()"
      ],
      "execution_count": 19,
      "outputs": [
        {
          "output_type": "stream",
          "text": [
            "strawberry\n"
          ],
          "name": "stdout"
        }
      ]
    },
    {
      "cell_type": "code",
      "metadata": {
        "colab": {
          "base_uri": "https://localhost:8080/"
        },
        "id": "mhkWVRkM6Pi1",
        "outputId": "bf31b8d6-c8ed-4420-8bfa-73829735d0c8"
      },
      "source": [
        "print(x[1::2]+y[::2])"
      ],
      "execution_count": 20,
      "outputs": [
        {
          "output_type": "stream",
          "text": [
            "plsrwer\n"
          ],
          "name": "stdout"
        }
      ]
    },
    {
      "cell_type": "markdown",
      "metadata": {
        "id": "mnH-_P-N6bNv"
      },
      "source": [
        "# U12 심사문제\n",
        "### 표준 입력으로 문자열 여러 개와 숫자(실수) 여러 개가 두 줄로 입력됩니다. 입력된 첫 번째 줄은 키, 두 번째 줄은 값으로 하여 딕셔너리를 생성한 뒤 딕셔너리를 출력하는 프로그램을 만드세요. input().split()의 결과를 변수 한 개에 저장하면 리스트로 저장됩니다."
      ]
    },
    {
      "cell_type": "code",
      "metadata": {
        "colab": {
          "base_uri": "https://localhost:8080/"
        },
        "id": "AtpW_S1Z6XMS",
        "outputId": "c6f2e372-4d61-4362-f24c-fa9a9329bddd"
      },
      "source": [
        "# 입력 ex)1\n",
        "a = input().split()"
      ],
      "execution_count": 27,
      "outputs": [
        {
          "output_type": "stream",
          "text": [
            "health health_regen mana mana_regen\n"
          ],
          "name": "stdout"
        }
      ]
    },
    {
      "cell_type": "code",
      "metadata": {
        "colab": {
          "base_uri": "https://localhost:8080/"
        },
        "id": "brv9X_5K8dsb",
        "outputId": "296c7155-da82-45ca-cc31-80bf14585edd"
      },
      "source": [
        "b = map(float, input().split())"
      ],
      "execution_count": 28,
      "outputs": [
        {
          "output_type": "stream",
          "text": [
            "575.6 1.7 338.8 1.63\n"
          ],
          "name": "stdout"
        }
      ]
    },
    {
      "cell_type": "code",
      "metadata": {
        "colab": {
          "base_uri": "https://localhost:8080/"
        },
        "id": "CWVdEodw8o46",
        "outputId": "6dd20ecb-2017-4a49-d8fd-8a5927e8b583"
      },
      "source": [
        "x = dict(zip(a, b))\n",
        "print(x)"
      ],
      "execution_count": 29,
      "outputs": [
        {
          "output_type": "stream",
          "text": [
            "{'health': 575.6, 'health_regen': 1.7, 'mana': 338.8, 'mana_regen': 1.63}\n"
          ],
          "name": "stdout"
        }
      ]
    },
    {
      "cell_type": "code",
      "metadata": {
        "colab": {
          "base_uri": "https://localhost:8080/"
        },
        "id": "SX4ZC6C99KGk",
        "outputId": "a9a6d155-c244-4f92-e1d6-c8881888ab66"
      },
      "source": [
        "# 입력 ex)2\n",
        "a = input().split()"
      ],
      "execution_count": 30,
      "outputs": [
        {
          "output_type": "stream",
          "text": [
            "health mana melee attack_speed magic_resistance\n"
          ],
          "name": "stdout"
        }
      ]
    },
    {
      "cell_type": "code",
      "metadata": {
        "colab": {
          "base_uri": "https://localhost:8080/"
        },
        "id": "1W2BBfBv_NfS",
        "outputId": "ea91ba8d-a794-4c8f-93c4-c82b88cc7a08"
      },
      "source": [
        "b = map(float, input().split())"
      ],
      "execution_count": 32,
      "outputs": [
        {
          "output_type": "stream",
          "text": [
            "573.6 308.8 600 0.625 35.7\n"
          ],
          "name": "stdout"
        }
      ]
    },
    {
      "cell_type": "code",
      "metadata": {
        "colab": {
          "base_uri": "https://localhost:8080/"
        },
        "id": "0FCd76Yk9cHt",
        "outputId": "4dee88f0-3f62-4d21-b98f-27b6f3e3d504"
      },
      "source": [
        "x = dict(zip(a, b))\n",
        "print(x)"
      ],
      "execution_count": 33,
      "outputs": [
        {
          "output_type": "stream",
          "text": [
            "{'health': 573.6, 'mana': 308.8, 'melee': 600.0, 'attack_speed': 0.625, 'magic_resistance': 35.7}\n"
          ],
          "name": "stdout"
        }
      ]
    },
    {
      "cell_type": "markdown",
      "metadata": {
        "id": "xJJersDU_hgz"
      },
      "source": [
        "# U13 심사문제\n",
        "### 표준 입력으로 가격(정수)과 쿠폰 이름이 각 줄에 입력됩니다. Cash3000 쿠폰은 3,000원, Cash5000 쿠폰은 5,000원을 할인합니다. 쿠폰에 따라 할인된 가격을 출력하는 프로그램을 만드세요(input에서 안내 문자열은 출력하지 않아야 합니다)."
      ]
    },
    {
      "cell_type": "code",
      "metadata": {
        "colab": {
          "base_uri": "https://localhost:8080/"
        },
        "id": "53ljpXMpAV-Y",
        "outputId": "ea6968a9-74f9-4ae1-cb54-3995ea824b44"
      },
      "source": [
        "# 입력 ex)1\n",
        "price = int(input())"
      ],
      "execution_count": 37,
      "outputs": [
        {
          "output_type": "stream",
          "text": [
            "27000\n"
          ],
          "name": "stdout"
        }
      ]
    },
    {
      "cell_type": "code",
      "metadata": {
        "colab": {
          "base_uri": "https://localhost:8080/"
        },
        "id": "iEY_tqHMBvgS",
        "outputId": "8595562d-e583-4985-b689-3fcdb5fc19ad"
      },
      "source": [
        "coupon = input()"
      ],
      "execution_count": 38,
      "outputs": [
        {
          "output_type": "stream",
          "text": [
            "Cash3000\n"
          ],
          "name": "stdout"
        }
      ]
    },
    {
      "cell_type": "code",
      "metadata": {
        "colab": {
          "base_uri": "https://localhost:8080/"
        },
        "id": "WsN1iUywB3XK",
        "outputId": "00441424-30d2-44e1-bc3c-a371ad34c4d0"
      },
      "source": [
        "if coupon =='Cash3000':\n",
        "    price -= 3000\n",
        "    print(price)"
      ],
      "execution_count": 40,
      "outputs": [
        {
          "output_type": "stream",
          "text": [
            "24000\n"
          ],
          "name": "stdout"
        }
      ]
    },
    {
      "cell_type": "code",
      "metadata": {
        "colab": {
          "base_uri": "https://localhost:8080/"
        },
        "id": "8XTrTtxQCNZx",
        "outputId": "96cb9efe-148e-48b5-b33f-c10a06404e3b"
      },
      "source": [
        "# 입력 ex)2\n",
        "price = int(input())"
      ],
      "execution_count": 41,
      "outputs": [
        {
          "output_type": "stream",
          "text": [
            "72000\n"
          ],
          "name": "stdout"
        }
      ]
    },
    {
      "cell_type": "code",
      "metadata": {
        "colab": {
          "base_uri": "https://localhost:8080/"
        },
        "id": "DTT9QiLmCjp8",
        "outputId": "2b523562-a528-4545-ed30-3c9cfc81da69"
      },
      "source": [
        "coupon = input()"
      ],
      "execution_count": 42,
      "outputs": [
        {
          "output_type": "stream",
          "text": [
            "Cash5000\n"
          ],
          "name": "stdout"
        }
      ]
    },
    {
      "cell_type": "code",
      "metadata": {
        "colab": {
          "base_uri": "https://localhost:8080/"
        },
        "id": "l3eX-jYlCnqE",
        "outputId": "5680450f-87e7-47f6-ceb7-840756276fa4"
      },
      "source": [
        "if coupon =='Cash5000':\n",
        "    price -= 5000\n",
        "    print(price)"
      ],
      "execution_count": 43,
      "outputs": [
        {
          "output_type": "stream",
          "text": [
            "67000\n"
          ],
          "name": "stdout"
        }
      ]
    },
    {
      "cell_type": "markdown",
      "metadata": {
        "id": "M9ZEPmQACuVI"
      },
      "source": [
        "# U14 심사문제\n",
        "### 표준 입력으로 국어, 영어, 수학, 과학 점수가 입력됩니다. 여기서 네 과목의 평균 점수가 80점 이상일 때 합격이라고 정했습니다. 평균 점수에 따라 '합격', '불합격'을 출력하는 프로그램을 만드세요(input에서 안내 문자열은 출력하지 않아야 합니다). 단, 점수는 0점부터 100점까지만 입력받을 수 있으며 범위를 벗어났다면 '잘못된 점수'를 출력하고 합격, 불합격 여부는 출력하지 않아야 합니다."
      ]
    },
    {
      "cell_type": "code",
      "metadata": {
        "colab": {
          "base_uri": "https://localhost:8080/"
        },
        "id": "R4p_ReQACs6F",
        "outputId": "4e3683b8-20bc-4285-de13-8519fa5a844d"
      },
      "source": [
        "# 입력 ex)1\n",
        "korean, english, math, science = map(int,input().split())"
      ],
      "execution_count": 44,
      "outputs": [
        {
          "output_type": "stream",
          "text": [
            "89 72 93 82\n"
          ],
          "name": "stdout"
        }
      ]
    },
    {
      "cell_type": "code",
      "metadata": {
        "colab": {
          "base_uri": "https://localhost:8080/"
        },
        "id": "e8ftHrsADSCA",
        "outputId": "51a33a69-51d3-4a6b-8f32-865577d86413"
      },
      "source": [
        "score = (korean + english + math + science) / 4\n",
        "\n",
        "if (0 <= korean <= 100 and 0 <= english <= 100 and 0 <= math <= 100 and 0 <= science <= 100) == True:\n",
        "    if score >= 80:\n",
        "        print('합격')\n",
        "    else:\n",
        "        print('불합격')\n",
        "else:\n",
        "    print('잘못된 점수')"
      ],
      "execution_count": 46,
      "outputs": [
        {
          "output_type": "stream",
          "text": [
            "합격\n"
          ],
          "name": "stdout"
        }
      ]
    },
    {
      "cell_type": "code",
      "metadata": {
        "colab": {
          "base_uri": "https://localhost:8080/"
        },
        "id": "k8nFk_YiEjMP",
        "outputId": "efec5a17-4c09-4489-a62b-e549e18e568f"
      },
      "source": [
        "# 입력 ex)2\n",
        "korean, english, math, science = map(int,input().split())"
      ],
      "execution_count": 47,
      "outputs": [
        {
          "output_type": "stream",
          "text": [
            "100 85 101 90\n"
          ],
          "name": "stdout"
        }
      ]
    },
    {
      "cell_type": "code",
      "metadata": {
        "colab": {
          "base_uri": "https://localhost:8080/"
        },
        "id": "plPw-OhnEoSi",
        "outputId": "b8453e64-a2af-48de-ba9b-a0023e2ed440"
      },
      "source": [
        "score = (korean + english + math + science) / 4\n",
        "\n",
        "if (0 <= korean <= 100 and 0 <= english <= 100 and 0 <= math <= 100 and 0 <= science <= 100) == True:\n",
        "    if score >= 80:\n",
        "        print('합격')\n",
        "    else:\n",
        "        print('불합격')\n",
        "else:\n",
        "    print('잘못된 점수')"
      ],
      "execution_count": 48,
      "outputs": [
        {
          "output_type": "stream",
          "text": [
            "잘못된 점수\n"
          ],
          "name": "stdout"
        }
      ]
    },
    {
      "cell_type": "code",
      "metadata": {
        "id": "eYjSOSSIEuor"
      },
      "source": [
        ""
      ],
      "execution_count": null,
      "outputs": []
    }
  ]
}